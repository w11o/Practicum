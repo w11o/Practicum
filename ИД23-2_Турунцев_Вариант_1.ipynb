{
 "cells": [
  {
   "cell_type": "markdown",
   "metadata": {},
   "source": [
    "### Контрольная работа № 1.\n",
    "### Вариант 1.\n",
    "#### Студент __________________________ группа ______________________"
   ]
  },
  {
   "cell_type": "markdown",
   "metadata": {},
   "source": [
    "1. Создайте класс Length (Длина), имеющий свойства\n",
    "\n",
    "• value (значение),\n",
    "\n",
    "• unit (единица измерения).\n",
    "\n",
    "При изменении единицы измерения значение должно соответственно меняться. Например, при переходе от сантиметров к метрам значение должно уменьшаться в 100 раз. Допустимые значения свойства unit: ‘см’, ‘м’, ‘км’. Организуйте эту проверку. Продемонстрируйте работу с классом."
   ]
  },
  {
   "cell_type": "code",
   "execution_count": 25,
   "metadata": {},
   "outputs": [
    {
     "name": "stdout",
     "output_type": "stream",
     "text": [
      "Текущее значение: 1000 см\n",
      "Введите новое значение:\n",
      "10000\n",
      "Введите новую еденицу измерения(см, м, км)\n",
      "км\n",
      "Текущее значение: 1.0 км\n",
      "Введите новое значение:\n"
     ]
    },
    {
     "ename": "KeyboardInterrupt",
     "evalue": "Interrupted by user",
     "output_type": "error",
     "traceback": [
      "\u001b[1;31m---------------------------------------------------------------------------\u001b[0m",
      "\u001b[1;31mKeyboardInterrupt\u001b[0m                         Traceback (most recent call last)",
      "Cell \u001b[1;32mIn[25], line 48\u001b[0m\n\u001b[0;32m     46\u001b[0m val\u001b[38;5;241m.\u001b[39mvalue()\n\u001b[0;32m     47\u001b[0m val\u001b[38;5;241m.\u001b[39munit()\n\u001b[1;32m---> 48\u001b[0m \u001b[43mval\u001b[49m\u001b[38;5;241;43m.\u001b[39;49m\u001b[43mvalue\u001b[49m\u001b[43m(\u001b[49m\u001b[43m)\u001b[49m\n",
      "Cell \u001b[1;32mIn[25], line 10\u001b[0m, in \u001b[0;36mLength.value\u001b[1;34m(self)\u001b[0m\n\u001b[0;32m      8\u001b[0m \u001b[38;5;28mprint\u001b[39m(\u001b[38;5;124m'\u001b[39m\u001b[38;5;124mТекущее значение:\u001b[39m\u001b[38;5;124m'\u001b[39m, \u001b[38;5;28mself\u001b[39m\u001b[38;5;241m.\u001b[39mval, \u001b[38;5;28mself\u001b[39m\u001b[38;5;241m.\u001b[39mun)\n\u001b[0;32m      9\u001b[0m \u001b[38;5;28mprint\u001b[39m(\u001b[38;5;124m'\u001b[39m\u001b[38;5;124mВведите новое значение:\u001b[39m\u001b[38;5;124m'\u001b[39m)\n\u001b[1;32m---> 10\u001b[0m \u001b[38;5;28mself\u001b[39m\u001b[38;5;241m.\u001b[39mval \u001b[38;5;241m=\u001b[39m \u001b[38;5;28mint\u001b[39m(\u001b[38;5;28;43minput\u001b[39;49m\u001b[43m(\u001b[49m\u001b[43m)\u001b[49m)\n",
      "File \u001b[1;32mC:\\ProgramData\\anaconda3\\lib\\site-packages\\ipykernel\\kernelbase.py:1175\u001b[0m, in \u001b[0;36mKernel.raw_input\u001b[1;34m(self, prompt)\u001b[0m\n\u001b[0;32m   1171\u001b[0m \u001b[38;5;28;01mif\u001b[39;00m \u001b[38;5;129;01mnot\u001b[39;00m \u001b[38;5;28mself\u001b[39m\u001b[38;5;241m.\u001b[39m_allow_stdin:\n\u001b[0;32m   1172\u001b[0m     \u001b[38;5;28;01mraise\u001b[39;00m StdinNotImplementedError(\n\u001b[0;32m   1173\u001b[0m         \u001b[38;5;124m\"\u001b[39m\u001b[38;5;124mraw_input was called, but this frontend does not support input requests.\u001b[39m\u001b[38;5;124m\"\u001b[39m\n\u001b[0;32m   1174\u001b[0m     )\n\u001b[1;32m-> 1175\u001b[0m \u001b[38;5;28;01mreturn\u001b[39;00m \u001b[38;5;28;43mself\u001b[39;49m\u001b[38;5;241;43m.\u001b[39;49m\u001b[43m_input_request\u001b[49m\u001b[43m(\u001b[49m\n\u001b[0;32m   1176\u001b[0m \u001b[43m    \u001b[49m\u001b[38;5;28;43mstr\u001b[39;49m\u001b[43m(\u001b[49m\u001b[43mprompt\u001b[49m\u001b[43m)\u001b[49m\u001b[43m,\u001b[49m\n\u001b[0;32m   1177\u001b[0m \u001b[43m    \u001b[49m\u001b[38;5;28;43mself\u001b[39;49m\u001b[38;5;241;43m.\u001b[39;49m\u001b[43m_parent_ident\u001b[49m\u001b[43m[\u001b[49m\u001b[38;5;124;43m\"\u001b[39;49m\u001b[38;5;124;43mshell\u001b[39;49m\u001b[38;5;124;43m\"\u001b[39;49m\u001b[43m]\u001b[49m\u001b[43m,\u001b[49m\n\u001b[0;32m   1178\u001b[0m \u001b[43m    \u001b[49m\u001b[38;5;28;43mself\u001b[39;49m\u001b[38;5;241;43m.\u001b[39;49m\u001b[43mget_parent\u001b[49m\u001b[43m(\u001b[49m\u001b[38;5;124;43m\"\u001b[39;49m\u001b[38;5;124;43mshell\u001b[39;49m\u001b[38;5;124;43m\"\u001b[39;49m\u001b[43m)\u001b[49m\u001b[43m,\u001b[49m\n\u001b[0;32m   1179\u001b[0m \u001b[43m    \u001b[49m\u001b[43mpassword\u001b[49m\u001b[38;5;241;43m=\u001b[39;49m\u001b[38;5;28;43;01mFalse\u001b[39;49;00m\u001b[43m,\u001b[49m\n\u001b[0;32m   1180\u001b[0m \u001b[43m\u001b[49m\u001b[43m)\u001b[49m\n",
      "File \u001b[1;32mC:\\ProgramData\\anaconda3\\lib\\site-packages\\ipykernel\\kernelbase.py:1217\u001b[0m, in \u001b[0;36mKernel._input_request\u001b[1;34m(self, prompt, ident, parent, password)\u001b[0m\n\u001b[0;32m   1214\u001b[0m             \u001b[38;5;28;01mbreak\u001b[39;00m\n\u001b[0;32m   1215\u001b[0m \u001b[38;5;28;01mexcept\u001b[39;00m \u001b[38;5;167;01mKeyboardInterrupt\u001b[39;00m:\n\u001b[0;32m   1216\u001b[0m     \u001b[38;5;66;03m# re-raise KeyboardInterrupt, to truncate traceback\u001b[39;00m\n\u001b[1;32m-> 1217\u001b[0m     \u001b[38;5;28;01mraise\u001b[39;00m \u001b[38;5;167;01mKeyboardInterrupt\u001b[39;00m(\u001b[38;5;124m\"\u001b[39m\u001b[38;5;124mInterrupted by user\u001b[39m\u001b[38;5;124m\"\u001b[39m) \u001b[38;5;28;01mfrom\u001b[39;00m \u001b[38;5;28mNone\u001b[39m\n\u001b[0;32m   1218\u001b[0m \u001b[38;5;28;01mexcept\u001b[39;00m \u001b[38;5;167;01mException\u001b[39;00m:\n\u001b[0;32m   1219\u001b[0m     \u001b[38;5;28mself\u001b[39m\u001b[38;5;241m.\u001b[39mlog\u001b[38;5;241m.\u001b[39mwarning(\u001b[38;5;124m\"\u001b[39m\u001b[38;5;124mInvalid Message:\u001b[39m\u001b[38;5;124m\"\u001b[39m, exc_info\u001b[38;5;241m=\u001b[39m\u001b[38;5;28;01mTrue\u001b[39;00m)\n",
      "\u001b[1;31mKeyboardInterrupt\u001b[0m: Interrupted by user"
     ]
    }
   ],
   "source": [
    "# Решение 1.\n",
    "class Length(object):\n",
    "    def __init__(self, un, val):\n",
    "        self.un = un\n",
    "        self.val = int(val)\n",
    "            \n",
    "    def value(self):\n",
    "        print('Текущее значение:', self.val, self.un)\n",
    "        print('Введите новое значение:')\n",
    "        self.val = int(input())\n",
    "    \n",
    "    def unit(self):\n",
    "        print('Введите новую еденицу измерения(см, м, км)')\n",
    "        new_unit = input()\n",
    "        \n",
    "        if self.un == new_unit:\n",
    "            pass\n",
    "        \n",
    "        if self.un =='см' and new_unit == 'м':\n",
    "            self.un = new_unit\n",
    "            self.val = self.val / 100\n",
    "            \n",
    "        if self.un =='м' and new_unit == 'см':\n",
    "            self.un = new_unit\n",
    "            self.val = self.val * 100\n",
    "            \n",
    "        \n",
    "        if self.un =='м' and new_unit == 'км':\n",
    "            self.un = new_unit\n",
    "            self.val = self.val / 1000\n",
    "        \n",
    "        if self.un =='км' and new_unit == 'м':\n",
    "            self.un = new_unit\n",
    "            self.val = self.val * 1000\n",
    "            \n",
    "        \n",
    "        if self.un =='см' and new_unit == 'км':\n",
    "            self.un = new_unit\n",
    "            self.val = self.val / 10000\n",
    "            \n",
    "        if self.un =='км' and new_unit == 'см':\n",
    "            self.un = new_unit\n",
    "            self.val = self.val * 10000\n",
    "        \n",
    "val = Length('см', 1000)\n",
    "val.value()\n",
    "val.unit()\n",
    "val.value()\n",
    "\n",
    "#Для демонстрации в консоль ввести 10000 после ввести \"км\" без ковычек"
   ]
  },
  {
   "cell_type": "markdown",
   "metadata": {},
   "source": [
    "2. Создайте класс Ведомость, имеющий\n",
    "атрибут класса:\n",
    "\n",
    "• список_дисциплин (значением является список с названиями дисциплин);\n",
    "\n",
    "свойства:\n",
    "\n",
    "• дисциплина (при задании значения проверять наличие дисциплины в атрибуте список_дисциплин),\n",
    "\n",
    "• группа;\n",
    "\n",
    "методы:\n",
    "\n",
    "• put – добавляет в ведомость информацию об оценке студента (фамилия, оценка – параметры метода). Для хранения данных внутри класса используйте словарь, в котором ключом является фамилия студента. Возможные оценки – «отлично», «хорошо», «удовл.», «неудовл.», «н/я»;\n",
    "\n",
    "• get – возвращает оценку, полученную студентом (фамилия студента – параметр метода);\n",
    "\n",
    "• change – изменяет оценку, полученную студентом (фамилия студента и новая оценка – параметры метода);\n",
    "\n",
    "• del – удаляет информацию о студенте из ведомости (фамилия студента – параметр метода);\n",
    "\n",
    "• result – возвращает кортеж из 5 чисел (количество каждого вида оценок в ведомости);\n",
    "\n",
    "• __init__ – конструктор;\n",
    "\n",
    "• __str__ – возвращает строку, содержащую заголовки (название экзамена, группа) и результаты экзамена в виде таблицы;\n",
    "\n",
    "• count – возвращает количество студентов в ведомости;\n",
    "\n",
    "• names – возвращает список фамилий, имеющихся в ведомости.\n",
    "\n",
    "Продемонстрируйте работу с классом. \n"
   ]
  },
  {
   "cell_type": "code",
   "execution_count": 132,
   "metadata": {},
   "outputs": [
    {
     "data": {
      "text/plain": [
       "\"['russian', 'math', 'bio'], {'Kozlov': 'н/я'}\""
      ]
     },
     "execution_count": 132,
     "metadata": {},
     "output_type": "execute_result"
    }
   ],
   "source": [
    "# Решение 2.\n",
    "class Ved(object):\n",
    "    def __init__(self):\n",
    "        self.dis = ['russian', 'math', 'bio']\n",
    "        self.stud = {'Kozlov': 'н/я'}\n",
    "    \n",
    "    \n",
    "    def __str__(self):\n",
    "        return f'{self.dis}, {self.stud}'\n",
    "    \n",
    "    def put(self):\n",
    "        print('Введите фамилию ученика')\n",
    "        family = input()\n",
    "        print('Выберите оценку ученика\\n1)«н/я»\\n2)неудовл.\\n3)удовл.\\n4)хорошо\\n5)отлично')\n",
    "        rate = int(input())\n",
    "        if rate == 1:\n",
    "            self.stud[family] = 'н/я'\n",
    "            \n",
    "        if rate == 2:\n",
    "            self.stud[family] = 'неудовл.'\n",
    "            \n",
    "        if rate == 3:\n",
    "            self.stud[family] = 'удовл.'\n",
    "            \n",
    "        if rate == 4:\n",
    "            self.stud[family] = 'хорошо'\n",
    "            \n",
    "        if rate == 5:\n",
    "            self.stud[family] = 'отлично'\n",
    "        print(self.stud)\n",
    "    \n",
    "    \n",
    "    def get(self):\n",
    "        print('Введите фамилию ученика')\n",
    "        return self.stud[input()]\n",
    "    \n",
    "    \n",
    "    def change(self):\n",
    "        print('Введите фамилию ученика')\n",
    "        family = input()\n",
    "        print('Выберите оценку ученика\\n1)«н/я»\\n2)неудовл.\\n3)удовл.\\n4)хорошо\\n5)отлично')\n",
    "        rate = int(input())\n",
    "        if rate == 1:\n",
    "            self.stud[family] = 'н/я'\n",
    "            \n",
    "        if rate == 2:\n",
    "            self.stud[family] = 'неудовл.'\n",
    "            \n",
    "        if rate == 3:\n",
    "            self.stud[family] = 'удовл.'\n",
    "            \n",
    "        if rate == 4:\n",
    "            self.stud[family] = 'хорошо'\n",
    "            \n",
    "        if rate == 5:\n",
    "            self.stud[family] = 'отлично'\n",
    "        print(self.stud)\n",
    "        \n",
    "    \n",
    "    def dl(self):\n",
    "        print('Введите фамилию ученика')\n",
    "        del self.stud[input()]\n",
    "        \n",
    "    \n",
    "    def result(self):\n",
    "        a, b, c, d, e = 0, 0, 0, 0, 0\n",
    "        for i in self.stud.values():\n",
    "            if i == 'н/я':\n",
    "                a+=1\n",
    "                \n",
    "            if i == 'неудовл.':\n",
    "                b+=1\n",
    "\n",
    "            if i == 'удовл.':\n",
    "                c+=1\n",
    "\n",
    "            if i == 'хорошо':\n",
    "                d+=1\n",
    "\n",
    "            if i == 'отлично':\n",
    "                e+=1\n",
    "        return (a, b, c, d, e)\n",
    "  \n",
    "\n",
    "    def count(self):\n",
    "        return len(self.stud.keys())\n",
    "    \n",
    "\n",
    "    def count(self):\n",
    "        return len(self.stud.keys())\n",
    "    \n",
    "    def names(self):\n",
    "        return print(*self.stud.keys())\n",
    "        \n",
    "        \n",
    "        \n",
    "        \n",
    "        \n",
    "    \n",
    "ved = Ved()        \n",
    "# ved.put()\n",
    "# ved.get()\n",
    "# ved.change()\n",
    "# ved.dl()\n",
    "# ved.result()\n",
    "# ved.count()\n",
    "# ved.names()\n",
    "# ved.__str__()"
   ]
  },
  {
   "cell_type": "markdown",
   "metadata": {},
   "source": [
    "3. Создайте класс Заказ(Order), у которого есть свойства код_товара(code), цена(price), количество(count) и методы __init__ и __str__.\n",
    "\n",
    "Создайте 2 класса-потомка: Опт(Opt) и Розница(Retail).\n",
    "В этих классах создайте методы __init__, __str__.и сумма_заказа(summa), позволяющий узнать стоимость заказа.\n",
    "Для опта стоимость единицы товара составляет 95% от цены, а при покупке более 500 штук – 90% цены.\n",
    "В розницу стоимость единицы товара составляет 100% цены. Стоимость заказа равна произведению цены на количество. \n",
    "\n",
    "Продемонстрируйте работу с классами, создав необходимые объекты и обратившись к их свойствам и методам\n"
   ]
  },
  {
   "cell_type": "code",
   "execution_count": 106,
   "metadata": {},
   "outputs": [
    {
     "name": "stdout",
     "output_type": "stream",
     "text": [
      "Code: A21B, Price: 20, Count: 150\n",
      "2700.0\n",
      "Order: B23C, Price: 230, Count: 95\n",
      "21850\n"
     ]
    }
   ],
   "source": [
    "# Решение 3.\n",
    "class Order(object):\n",
    "    def __init__(self, code, price, count):\n",
    "        self.code = code\n",
    "        self.price = price\n",
    "        self.count = count\n",
    "        \n",
    "        \n",
    "    def __str__(self):\n",
    "        return f\"Order: {self.code}, Price: {self.price}, Count: {self.count}\"\n",
    "        \n",
    "class Opt(Order):\n",
    "    def __init__(self, code, price, count):\n",
    "        super().__init__(code, price, count)\n",
    "    \n",
    "    \n",
    "    def __str__(self):\n",
    "        return f\"Code: {self.code}, Price: {self.price}, Count: {self.count}\"\n",
    "\n",
    "    \n",
    "    def summa(self):\n",
    "        if self.count <= 500:\n",
    "            return 0.9 * self.price * self.count\n",
    "        else:\n",
    "            return 0.95 * self.price * self.count  \n",
    "\n",
    "            \n",
    "class Retail(Order):\n",
    "    def __init__(self, code, price, count):\n",
    "        super().__init__(code, price, count)\n",
    "    \n",
    "    \n",
    "    def __str__(self):\n",
    "        return super().__str__()\n",
    "\n",
    "    \n",
    "    def summa(self):\n",
    "        return self.price * self.count\n",
    "\n",
    "opt = Opt('A21B', 20, 150)\n",
    "print(opt.__str__())\n",
    "print(opt.summa())\n",
    "\n",
    "ret = Retail('B23C', 230, 95)\n",
    "print(ret.__str__())\n",
    "print(ret.summa())"
   ]
  },
  {
   "cell_type": "markdown",
   "metadata": {},
   "source": [
    "### 4. Написать функцию my_func_1(lst), которая переворачивает список вложенных списков с произвольным уровнем вложенности.\n",
    "Любой элемент, не являющийся списком, не должен быть изменен.\n",
    "\n",
    "Примеры, демонстрирующие ожидаемое поведение функции:\n",
    "\n",
    "assert my_func_1(42) == 42\n",
    "\n",
    "assert my_func_1([]) == []\n",
    "\n",
    "assert my_func_1([1, 2]) == [2, 1]\n",
    "\n",
    "assert my_func_1((1, 2)) == (1, 2)\n",
    "\n",
    "assert my_func_1([[1, 2], [3, [4, 5]], 6]) == [6, [[5, 4], 3], [2, 1]]\n",
    "\n",
    "assert my_func_1(['123', '456', '789', {10: [11, 12], 13: 14}, (15, 16)]) == [(15, 16), {10: [11, 12], 13: 14}, '789', '456', '123']\n",
    "\n",
    "assert my_func_1([[[[[1, 2]]]]]) == [[[[[2, 1]]]]]"
   ]
  },
  {
   "cell_type": "code",
   "execution_count": 119,
   "metadata": {},
   "outputs": [
    {
     "name": "stdout",
     "output_type": "stream",
     "text": [
      "[5, [4, 3], 2, 1]\n",
      "[[[[[2, 1]]]]]\n",
      "[6, [[5, 4], 3], [2, 1]]\n"
     ]
    }
   ],
   "source": [
    "# Решение 4.\n",
    "mas = [1, 2, [3, 4], 5]\n",
    "mas1 = [[[[[1, 2]]]]]\n",
    "mas2 = [[1, 2], [3, [4, 5]], 6]\n",
    "def my_func_1(lst):\n",
    "    if isinstance(lst, list):\n",
    "        return [my_func_1(item) for item in lst[::-1]]\n",
    "    else:\n",
    "        return lst\n",
    "\n",
    "print(my_func_1(mas))\n",
    "print(my_func_1(mas1))\n",
    "print(my_func_1(mas2))\n"
   ]
  },
  {
   "cell_type": "markdown",
   "metadata": {},
   "source": [
    "5.При помощи механизма map/filter/reduce возвести в квадрат числа от 1 до 100, и рассчитать их сумму, не включая в сумму числа, кратные 9. Написать реализацию в одну строку."
   ]
  },
  {
   "cell_type": "code",
   "execution_count": 128,
   "metadata": {},
   "outputs": [
    {
     "name": "stdout",
     "output_type": "stream",
     "text": [
      "225589\n"
     ]
    }
   ],
   "source": [
    "# Решение 5.\n",
    "from functools import reduce; print(reduce(lambda x, y: x + y, filter(lambda x: x % 9 != 0, map(lambda x: x**2, range(1, 101)))))"
   ]
  },
  {
   "cell_type": "markdown",
   "metadata": {},
   "source": [
    "6.Написать декоратор с параметром my_decorator(n). Декоратор превращает функцию, возвращающую поддерживающий итерации объект (далее \"последовательность\"), в функцию-генератор. Если декорируемая функция возвращает что-то другое, а не последовательность, то декоратор должен вернуть этот результат вызова функции без изменений.\n",
    "\n",
    "Проверку объекта можно организовать при помощи условия import collections if isinstance(item, collections.Iterable)\n",
    "\n",
    "Параметром декоратора может быть целое положительное число n, тогда получившаяся функция-декоратор должна генерировать по одному значению из последовательности, повторенной n раз. Также параметр может принимать строковое значение 'inf', тогда функция-декоратор генерирует по одному значению из последовательности, повторенной бесконечное число раз (зацикливает генерирование результата).\n",
    "\n",
    "Подсказка: сначала реализовать случай со значением аргумента 'inf', а затем модифицировать для целочисленного значения аргумента."
   ]
  },
  {
   "cell_type": "code",
   "execution_count": null,
   "metadata": {},
   "outputs": [],
   "source": [
    "# Решение 6.\n"
   ]
  }
 ],
 "metadata": {
  "kernelspec": {
   "display_name": "Python 3 (ipykernel)",
   "language": "python",
   "name": "python3"
  },
  "language_info": {
   "codemirror_mode": {
    "name": "ipython",
    "version": 3
   },
   "file_extension": ".py",
   "mimetype": "text/x-python",
   "name": "python",
   "nbconvert_exporter": "python",
   "pygments_lexer": "ipython3",
   "version": "3.10.9"
  }
 },
 "nbformat": 4,
 "nbformat_minor": 4
}
