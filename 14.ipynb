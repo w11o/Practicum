{
 "cells": [
  {
   "cell_type": "markdown",
   "source": [
    "10) Написать 4 функции порождения списка целых значений: отсортированного (по возрастанию и убыванию), случайного и почти отсортированного по возрастанию. Каждая функция принимает длину списка в качестве аргумента."
   ],
   "metadata": {
    "collapsed": false
   },
   "id": "45b90eb9ed12c50c"
  },
  {
   "cell_type": "code",
   "execution_count": 16,
   "outputs": [
    {
     "name": "stdout",
     "output_type": "stream",
     "text": [
      "[13, 53, 58, 68, 69, 70, 70, 74, 77, 94]\n",
      "[94, 78, 74, 73, 61, 56, 39, 37, 31, 27]\n",
      "[5, 9, 77, 44, 5, 72, 62, 60, 19, 76]\n",
      "[26, 51, 54, 58, 78, 6, 45, 67, 48, 48]\n"
     ]
    }
   ],
   "source": [
    "import random\n",
    "def bubble_sort(x, reverse=False):  \n",
    "    if reverse:\n",
    "        for i in range(len(x) - 1, 0, -1):\n",
    "            flag = False\n",
    "            for j in range(i):\n",
    "                if x[j] < x[j + 1] :\n",
    "                    x[j], x[j + 1] = x[j + 1], x[j]\n",
    "                    flag = True\n",
    "            if not flag:\n",
    "                return x\n",
    "        return x\n",
    "        \n",
    "        \n",
    "    for i in range(len(x) - 1, 0, -1):\n",
    "        for j in range(i):\n",
    "            if x[j] > x[j + 1] :\n",
    "                x[j], x[j + 1] = x[j + 1], x[j]\n",
    "    return x\n",
    "\n",
    "\n",
    "\n",
    "def gen_up(length, reverse = False):\n",
    "    mas = [random.randint(1, 100) for _ in range(length)]\n",
    "    return bubble_sort(mas, reverse)\n",
    "\n",
    "\n",
    "\n",
    "def gen_rand(length):\n",
    "    return [random.randint(1, 100) for _ in range(length)]\n",
    "\n",
    "\n",
    "def gen_up_alm(length):\n",
    "    mas = [random.randint(1, 100) for _ in range(length)]\n",
    "    return bubble_sort(mas[:length//2]) + mas[length//2:]\n",
    "    \n",
    "#tests\n",
    "print(gen_up(10))\n",
    "print(gen_up(10, reverse=True))\n",
    "print(gen_rand(10))\n",
    "print(gen_up_alm(10))"
   ],
   "metadata": {
    "collapsed": false,
    "ExecuteTime": {
     "end_time": "2024-03-10T13:03:56.913670300Z",
     "start_time": "2024-03-10T13:03:56.753132100Z"
    }
   },
   "id": "91ba70f167939ee"
  },
  {
   "cell_type": "code",
   "execution_count": 17,
   "outputs": [],
   "source": [
    "#sort algorithms\n",
    "def bubble_sort_cntr(x, reverse=False):\n",
    "    compares = 0\n",
    "    transpositions = 0\n",
    "    if reverse:\n",
    "        for i in range(len(x) - 1, 0, -1):\n",
    "            flag = False\n",
    "            for j in range(i):\n",
    "                compares+=1\n",
    "                if x[j] < x[j + 1] :\n",
    "                    x[j], x[j + 1] = x[j + 1], x[j]\n",
    "                    flag = True\n",
    "                    transpositions+=1\n",
    "            if not flag:\n",
    "                return x, compares, transpositions\n",
    "        return x, compares, transpositions\n",
    "        \n",
    "        \n",
    "    for i in range(len(x) - 1, 0, -1):\n",
    "        flag = False\n",
    "        for j in range(i):\n",
    "            compares+=1\n",
    "            if x[j] > x[j + 1] :\n",
    "                x[j], x[j + 1] = x[j + 1], x[j]\n",
    "                flag = True\n",
    "                transpositions+=1\n",
    "        if not flag:\n",
    "            return x, compares, transpositions\n",
    "    return x, compares, transpositions\n",
    "\n",
    "\n",
    "def selection_sort_cntr(x):\n",
    "    compares = 0\n",
    "    transpositions = 0\n",
    "    for fill_slot in range(len(x) - 1, 0, -1):\n",
    "        pos_of_max = 0\n",
    "\n",
    "        for location in range(1, fill_slot + 1):\n",
    "            compares+=1\n",
    "            if x[location] > x[pos_of_max]:\n",
    "                pos_of_max = location\n",
    "        x[pos_of_max], x[fill_slot] = x[fill_slot], x[pos_of_max]\n",
    "        transpositions+=1\n",
    "    return x, compares, transpositions\n",
    "\n",
    "\n",
    "def insertion_sort(x):\n",
    "    for index in range(1, len(x)):\n",
    "        current_value = x[index]\n",
    "        position = index\n",
    "        \n",
    "        while position > 0 and x[position - 1] > current_value:\n",
    "            x[position] = x [position - 1]\n",
    "            position -= 1\n",
    "        \n",
    "        x[position] = current_value\n",
    "    \n",
    "    return x\n",
    "        \n"
   ],
   "metadata": {
    "collapsed": false,
    "ExecuteTime": {
     "end_time": "2024-03-10T13:03:56.929265800Z",
     "start_time": "2024-03-10T13:03:56.773026600Z"
    }
   },
   "id": "b674d749ad655c25"
  },
  {
   "cell_type": "markdown",
   "source": [
    "11) Реализовать функцию тестирования алгоритма сортировки. Процедура принимает на вход алгоритм сортировки и алгоритм порождения списка f_gen(list_len), генерирующий список заданной длины, количество повтороений теста и список длин использующихся для тестирования. Для каждой длины списка функция тестирования возвращает минимальное, среднее и наибольшее количество сравнений и перестановок."
   ],
   "metadata": {
    "collapsed": false
   },
   "id": "3a2d687bff0ea5f4"
  },
  {
   "cell_type": "code",
   "execution_count": 18,
   "outputs": [
    {
     "name": "stdout",
     "output_type": "stream",
     "text": [
      "For len 5 |compares| max = 10.0, min = 7.0, average = 9.0 \n",
      "For len 5 |transpositions| max = 7.0, min = 2.0, average = 4.3 \n",
      "\n",
      "For len 8 |compares| max = 28.0, min = 25.0, average = 27.2 \n",
      "For len 8 |transpositions| max = 22.0, min = 10.0, average = 16.4 \n",
      "\n",
      "For len 10 |compares| max = 45.0, min = 35.0, average = 41.2 \n",
      "For len 10 |transpositions| max = 29.0, min = 12.0, average = 22.0 \n",
      "\n",
      "For len 5 |compares| max = 10.0, min = 10.0, average = 10.0 \n",
      "For len 5 |transpositions| max = 4.0, min = 4.0, average = 4.0 \n",
      "\n",
      "For len 8 |compares| max = 28.0, min = 28.0, average = 28.0 \n",
      "For len 8 |transpositions| max = 7.0, min = 7.0, average = 7.0 \n",
      "\n",
      "For len 10 |compares| max = 45.0, min = 45.0, average = 45.0 \n",
      "For len 10 |transpositions| max = 9.0, min = 9.0, average = 9.0 \n"
     ]
    }
   ],
   "source": [
    "import numpy as np\n",
    "\n",
    "def sort_test(sort_type, gen_type, repeats, lns=None):\n",
    "    for ln in lns:\n",
    "        compares = np.array([])\n",
    "        transpositions = np.array([])\n",
    "        for _ in range(repeats):\n",
    "            temp = sort_type(gen_type(ln))\n",
    "            compares = np.append(compares, temp[1])\n",
    "            transpositions = np.append(transpositions, temp[2])\n",
    "        print(f'For len {ln} |compares| max = {np.max(compares)}, min = {np.min(compares)}, average = {np.mean(compares)} ')\n",
    "        print(f'For len {ln} |transpositions| max = {np.max(transpositions)}, min = {np.min(transpositions)}, average = {np.mean(transpositions)} ', end='\\n\\n')\n",
    "        \n",
    "\n",
    "    \n",
    "sort_test(bubble_sort_cntr, gen_rand, repeats=10, lns=[5, 8, 10])\n",
    "sort_test(selection_sort_cntr, gen_rand, repeats=100, lns=[5, 8, 10])"
   ],
   "metadata": {
    "collapsed": false,
    "ExecuteTime": {
     "end_time": "2024-03-10T13:03:57.039034200Z",
     "start_time": "2024-03-10T13:03:56.819894500Z"
    }
   },
   "id": "8e45d181208a5d2d"
  },
  {
   "cell_type": "markdown",
   "source": [
    "12) Реализовать модификацию сортировки пузырьком: \"камешек-пузырек\" - с чередующимися проходами, приводящими к \"всплытию\" самого большого значения списка и \"погружению\" самого маленького значения из неотсортированной части списка."
   ],
   "metadata": {
    "collapsed": false
   },
   "id": "3ddb45a8b6680c9b"
  },
  {
   "cell_type": "code",
   "execution_count": 22,
   "outputs": [],
   "source": [
    "def rock_bubble(x):\n",
    "    for i in range(len(x) - 1, 0, -1):\n",
    "        for j in range(i):\n",
    "            if x[j] > x[j + 1] :\n",
    "                x[j], x[j + 1] = x[j + 1], x[j]\n",
    "                \n",
    "            if x[j] < x[j - 1] and j != 0:\n",
    "                x[j], x[j - 1] = x[j - 1], x[j]\n",
    "    return x\n"
   ],
   "metadata": {
    "collapsed": false,
    "ExecuteTime": {
     "end_time": "2024-03-10T13:04:05.542015700Z",
     "start_time": "2024-03-10T13:04:05.510669500Z"
    }
   },
   "id": "73aba6f3f2549b6d"
  },
  {
   "cell_type": "markdown",
   "source": [
    "14) Протестировать алгоритм \"пузырек\" и \"камешек-пузырек\" на разных типах списков"
   ],
   "metadata": {
    "collapsed": false
   },
   "id": "bc3d9691ef1a7d95"
  },
  {
   "cell_type": "code",
   "execution_count": 23,
   "outputs": [
    {
     "name": "stdout",
     "output_type": "stream",
     "text": [
      "[22, 24, 25, 26, 31, 32, 59, 66, 86, 96]\n",
      "[1, 4, 10, 38, 39, 58, 85, 90, 96, 100]\n",
      "[7, 23, 26, 37, 63, 73, 86, 93, 95, 98]\n",
      "[4, 19, 23, 46, 52, 57, 62, 66, 70, 91]\n",
      "[1, 26, 27, 46, 50, 53, 75, 76, 94, 97]\n",
      "[6, 7, 11, 11, 12, 23, 54, 62, 73, 87]\n",
      "[4, 17, 37, 44, 44, 63, 69, 80, 89, 94]\n",
      "[7, 15, 25, 36, 38, 49, 67, 68, 69, 81]\n",
      "[4, 19, 20, 46, 47, 57, 62, 77, 81, 87]\n",
      "[30, 34, 39, 42, 43, 48, 63, 64, 65, 68]\n"
     ]
    }
   ],
   "source": [
    "for _ in range(10):\n",
    "    print(rock_bubble(gen_rand(10)))\n"
   ],
   "metadata": {
    "collapsed": false,
    "ExecuteTime": {
     "end_time": "2024-03-10T13:04:06.420032200Z",
     "start_time": "2024-03-10T13:04:06.404380800Z"
    }
   },
   "id": "28b4041d9dc74d19"
  },
  {
   "cell_type": "markdown",
   "source": [
    "15) Реализовать модификацию сортировки выбором на основе выбора из подсписков (описанного в лекции). Протестировать алгоритм.43:54"
   ],
   "metadata": {
    "collapsed": false
   },
   "id": "278b5a7202bba6b1"
  },
  {
   "cell_type": "code",
   "execution_count": 21,
   "outputs": [
    {
     "name": "stdout",
     "output_type": "stream",
     "text": [
      "[14, 14, 17, 18, 21, 23, 30, 35, 39, 43, 44, 45, 53, 56, 61, 67, 73, 74, 76, 87, 89, 90, 93, 96, 98]\n",
      "[14, 14, 17, 18, 21, 23, 30, 35, 39, 43, 44, 45, 53, 56, 61, 67, 73, 74, 76, 87, 89, 90, 93, 96, 98]\n"
     ]
    }
   ],
   "source": [
    "from math import sqrt\n",
    "def selection_sort_cntr(x):\n",
    "    compares = 0\n",
    "    transpositions = 0\n",
    "    for fill_slot in range(len(x) - 1, 0, -1):\n",
    "        pos_of_max = 0\n",
    "\n",
    "        for location in range(1, fill_slot + 1):\n",
    "            compares+=1\n",
    "            if x[location] > x[pos_of_max]:\n",
    "                pos_of_max = location\n",
    "        x[pos_of_max], x[fill_slot] = x[fill_slot], x[pos_of_max]\n",
    "        transpositions+=1\n",
    "    return x, compares, transpositions\n",
    "\n",
    "\n",
    "mas = [73, 14, 98, 35, 89, 53, 17, 45, 56, 67, 74, 87, 90, 44, 43, 93, 61, 30, 18, 96, 39, 23, 76, 14, 21]\n",
    "a = mas.copy()\n",
    "maximums = []\n",
    "group_size = int(sqrt(len(mas)))\n",
    "\n",
    "for splt in range(0, len(mas), group_size):\n",
    "    mx = splt + group_size - 2\n",
    "\n",
    "    for el in range(splt, splt+group_size):\n",
    "\n",
    "            if mas[el] > mas[mx]:\n",
    "                mx = el\n",
    "\n",
    "    maximums.append(mx)\n",
    "    \n",
    "try_res = []    \n",
    "for all in range(len(mas) - 1, -1, -1): \n",
    "    mx = maximums[0]\n",
    "    for i in maximums:\n",
    "        if mas[i] > mas[mx]:\n",
    "            mx = i\n",
    "    \n",
    "    try_res.append(mas[mx])\n",
    "    mas[mx] = 0 #меняем местами локальный максимум в исходном списке\n",
    "    \n",
    "    ind_deleted = maximums.index(mx)\n",
    "    \n",
    "    m_x = group_size * ind_deleted\n",
    "    for i in range(group_size * ind_deleted, group_size * ind_deleted + group_size):\n",
    "        if mas[m_x] < mas[i]:\n",
    "            m_x = i\n",
    "    maximums[ind_deleted] = m_x\n",
    "print(sorted(a))\n",
    "print(try_res[::-1])\n",
    "    "
   ],
   "metadata": {
    "collapsed": false,
    "ExecuteTime": {
     "end_time": "2024-03-10T13:03:57.117166300Z",
     "start_time": "2024-03-10T13:03:57.085917600Z"
    }
   },
   "id": "5ba576bfa487708a"
  },
  {
   "cell_type": "code",
   "execution_count": 21,
   "outputs": [],
   "source": [],
   "metadata": {
    "collapsed": false,
    "ExecuteTime": {
     "end_time": "2024-03-10T13:03:57.195293Z",
     "start_time": "2024-03-10T13:03:57.117166300Z"
    }
   },
   "id": "6482623991600cf1"
  }
 ],
 "metadata": {
  "kernelspec": {
   "display_name": "Python 3",
   "language": "python",
   "name": "python3"
  },
  "language_info": {
   "codemirror_mode": {
    "name": "ipython",
    "version": 2
   },
   "file_extension": ".py",
   "mimetype": "text/x-python",
   "name": "python",
   "nbconvert_exporter": "python",
   "pygments_lexer": "ipython2",
   "version": "2.7.6"
  }
 },
 "nbformat": 4,
 "nbformat_minor": 5
}
