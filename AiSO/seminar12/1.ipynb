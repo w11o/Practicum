{
 "cells": [
  {
   "cell_type": "markdown",
   "source": [
    "Задание 1"
   ],
   "metadata": {
    "collapsed": false
   },
   "id": "929cbb393e4a5bb5"
  },
  {
   "cell_type": "code",
   "execution_count": 19,
   "id": "initial_id",
   "metadata": {
    "collapsed": true,
    "ExecuteTime": {
     "end_time": "2024-02-06T16:55:21.946447600Z",
     "start_time": "2024-02-06T16:55:21.915227700Z"
    }
   },
   "outputs": [
    {
     "name": "stdout",
     "output_type": "stream",
     "text": [
      "Строка ((dsasdas((das(d)das)d)asd)da) корректна: True\n",
      "Строка (f(gfhd((hgfdg((fghh)dads)das))ds)adddads()))) корректна: False\n"
     ]
    }
   ],
   "source": [
    "class Stack:\n",
    "    def __init__(self):\n",
    "        self.stack = []\n",
    "\n",
    "    def push(self, item):\n",
    "        self.stack.append(item)\n",
    "\n",
    "    def pop(self):\n",
    "        if len(self.stack) == 0:\n",
    "            return None\n",
    "        removed = self.stack.pop()\n",
    "        return removed\n",
    "\n",
    "    def is_empty(self):\n",
    "        return len(self.stack) == 0 \n",
    "\n",
    "def check_brackets(expression):\n",
    "    stack = Stack()\n",
    "\n",
    "    for char in expression:\n",
    "        if char == '(':\n",
    "            stack.push(char)\n",
    "        elif char == ')':\n",
    "            if stack.is_empty():\n",
    "                return False\n",
    "            stack.pop()\n",
    "    return stack.is_empty()\n",
    "\n",
    "\n",
    "#тесты\n",
    "test_1 = '((dsasdas((das(d)das)d)asd)da)'\n",
    "test_2 = '(f(gfhd((hgfdg((fghh)dads)das))ds)adddads())))'\n",
    "tests = [test_1, test_2]\n",
    "\n",
    "\n",
    "for test in tests:\n",
    "    result = check_brackets(test)\n",
    "    print(f'Строка {test} корректна: {result}')\n"
   ]
  },
  {
   "cell_type": "markdown",
   "source": [
    "Задание 2"
   ],
   "metadata": {
    "collapsed": false
   },
   "id": "a11f3ed7142b7c59"
  },
  {
   "cell_type": "code",
   "execution_count": 54,
   "outputs": [
    {
     "name": "stdout",
     "output_type": "stream",
     "text": [
      "Error: Stack is very large!\n"
     ]
    }
   ],
   "source": [
    "class Stack:\n",
    "    def __init__(self, lenght):\n",
    "        self.stack = []\n",
    "        self.lenght = lenght\n",
    "\n",
    "    def push(self, item):\n",
    "        if len(self.stack) + 1 > self.lenght:\n",
    "            return print(Exception('Error: Stack is very large!'))\n",
    "        self.stack.append(item)\n",
    "            \n",
    "\n",
    "    def pop(self):\n",
    "        if len(self.stack) == 0:\n",
    "            return None\n",
    "        removed = self.stack.pop()\n",
    "        return removed\n",
    "\n",
    "    def top(self):\n",
    "        if len(self.stack) == 0:\n",
    "            return Exception('Error: Stack is empty!')\n",
    "        return self.stack[-1]\n",
    "    \n",
    "    def is_empty(self):\n",
    "        if len(self.stack) == 0:\n",
    "            return True\n",
    "        return False\n",
    "    \n",
    "    def __len__(self):\n",
    "        return len(self.stack)\n",
    "\n",
    "s = Stack(2)\n",
    "s.push(1)\n",
    "s.push(1)\n",
    "s.push(1)"
   ],
   "metadata": {
    "collapsed": false,
    "ExecuteTime": {
     "end_time": "2024-02-06T17:22:47.577203600Z",
     "start_time": "2024-02-06T17:22:47.561575500Z"
    }
   },
   "id": "6af7bf3773bcb57a"
  },
  {
   "cell_type": "markdown",
   "source": [
    "Задание 3"
   ],
   "metadata": {
    "collapsed": false
   },
   "id": "6747cc1408e402f3"
  },
  {
   "cell_type": "code",
   "execution_count": 4,
   "outputs": [
    {
     "name": "stdout",
     "output_type": "stream",
     "text": [
      "c b a \n"
     ]
    }
   ],
   "source": [
    "class Node:\n",
    "    def __init__(self, data=None):\n",
    "        self.data = data\n",
    "        self.next = None\n",
    "        \n",
    "class LinkedList:\n",
    "    def __init__(self):\n",
    "        self.head = None\n",
    "\n",
    "    def is_empty(self):\n",
    "        return self.head is None\n",
    "\n",
    "    def prepend(self, data):    #[*] --> [*] --> [*] --> [*] -->  ... | * - информация из new_node, --> - ссылка на старый узел\n",
    "        new_node = Node(data)   # .head выбирает узел, но не сохраняет\n",
    "        new_node.next = self.head \n",
    "        self.head = new_node \n",
    "        \n",
    "    def display(self):\n",
    "        current_node = self.head\n",
    "        while current_node:\n",
    "            print(current_node.data, end=' ')\n",
    "            current_node = current_node.next\n",
    "        print()\n",
    "ll = LinkedList()\n",
    "ll.prepend('a'); ll.prepend('b'); ll.prepend('c')\n",
    "ll.display()"
   ],
   "metadata": {
    "collapsed": false,
    "ExecuteTime": {
     "start_time": "2024-02-08T16:44:14.011442100Z"
    }
   },
   "id": "3384aad87b3ac6cf"
  },
  {
   "cell_type": "code",
   "execution_count": null,
   "outputs": [],
   "source": [],
   "metadata": {
    "collapsed": false
   },
   "id": "7135fe9fd9cdbf93"
  }
 ],
 "metadata": {
  "kernelspec": {
   "display_name": "Python 3",
   "language": "python",
   "name": "python3"
  },
  "language_info": {
   "codemirror_mode": {
    "name": "ipython",
    "version": 2
   },
   "file_extension": ".py",
   "mimetype": "text/x-python",
   "name": "python",
   "nbconvert_exporter": "python",
   "pygments_lexer": "ipython2",
   "version": "2.7.6"
  }
 },
 "nbformat": 4,
 "nbformat_minor": 5
}
