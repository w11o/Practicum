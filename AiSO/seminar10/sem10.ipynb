{
 "cells": [
  {
   "cell_type": "code",
   "execution_count": 11,
   "outputs": [
    {
     "name": "stdout",
     "output_type": "stream",
     "text": [
      "0\n",
      "1\n",
      "2\n",
      "3\n",
      "4\n",
      "список закончился\n"
     ]
    }
   ],
   "source": [
    "#6.1.1\n",
    "a = [0, 1, 2, 3, 4]\n",
    "i = iter(a)\n",
    "try:\n",
    "    print(next(i))\n",
    "    print(next(i))\n",
    "    print(next(i))\n",
    "    print(next(i))\n",
    "    print(next(i))\n",
    "    print(next(i))\n",
    "except StopIteration:\n",
    "    print('список закончился')"
   ],
   "metadata": {
    "collapsed": false,
    "ExecuteTime": {
     "end_time": "2023-12-06T12:26:58.907302800Z",
     "start_time": "2023-12-06T12:26:58.876034800Z"
    }
   },
   "id": "73bda87556a9392d"
  },
  {
   "cell_type": "code",
   "execution_count": 41,
   "outputs": [
    {
     "ename": "TypeError",
     "evalue": "'int' object is not callable",
     "output_type": "error",
     "traceback": [
      "\u001B[1;31m---------------------------------------------------------------------------\u001B[0m",
      "\u001B[1;31mTypeError\u001B[0m                                 Traceback (most recent call last)",
      "Cell \u001B[1;32mIn[41], line 19\u001B[0m\n\u001B[0;32m     16\u001B[0m     \u001B[38;5;28;01mraise\u001B[39;00m \u001B[38;5;167;01mValueError\u001B[39;00m(\u001B[38;5;124m\"\u001B[39m\u001B[38;5;124mОшибка ввода\u001B[39m\u001B[38;5;124m\"\u001B[39m)\n\u001B[0;32m     18\u001B[0m \u001B[38;5;28;01melse\u001B[39;00m:\n\u001B[1;32m---> 19\u001B[0m     \u001B[38;5;28;43mprint\u001B[39;49m\u001B[43m(\u001B[49m\u001B[43ma\u001B[49m\u001B[43m)\u001B[49m\n",
      "\u001B[1;31mTypeError\u001B[0m: 'int' object is not callable"
     ]
    }
   ],
   "source": [
    "#6.1.2/6.1.3\n",
    "\n",
    "from math import sqrt\n",
    "\n",
    "def cathetus_2(hypotenuse:int, cathetus:int) -> float:\n",
    "    try:\n",
    "        if hypotenuse > 0 and cathetus > 0 and hypotenuse != cathetus:\n",
    "            return sqrt(hypotenuse ** 2 - cathetus ** 2)\n",
    "    except:\n",
    "        return 'Ошибка ввода'\n",
    "    \n",
    "\n",
    "a = cathetus_2(float(input()), float(input()))\n",
    "\n",
    "if a is None:\n",
    "    raise ValueError(\"Ошибка ввода\")\n",
    "\n",
    "else:\n",
    "    print(a)"
   ],
   "metadata": {
    "collapsed": false,
    "ExecuteTime": {
     "end_time": "2023-12-07T21:20:26.026466Z",
     "start_time": "2023-12-07T21:20:23.753415900Z"
    }
   },
   "id": "b77716dcad9621f7"
  },
  {
   "cell_type": "code",
   "execution_count": 89,
   "outputs": [
    {
     "name": "stdout",
     "output_type": "stream",
     "text": [
      "Такого файла не существует\n"
     ]
    }
   ],
   "source": [
    "#6.1.4\n",
    "try:\n",
    "    f = open('words.txt','r')\n",
    "    print(f.readline())\n",
    "    \n",
    "except (FileNotFoundError):\n",
    "   print('Такого файла не существует')"
   ],
   "metadata": {
    "collapsed": false,
    "ExecuteTime": {
     "end_time": "2023-12-06T13:44:09.358689400Z",
     "start_time": "2023-12-06T13:44:09.343096900Z"
    }
   },
   "id": "d1993a16b78a016b"
  },
  {
   "cell_type": "code",
   "execution_count": 11,
   "outputs": [
    {
     "name": "stdout",
     "output_type": "stream",
     "text": [
      "Файл 3 сохранен\n"
     ]
    }
   ],
   "source": [
    "def file():\n",
    "    name = input()\n",
    "    lines = []\n",
    "    while True:\n",
    "        line = input()\n",
    "\n",
    "        if not line:\n",
    "            break\n",
    "\n",
    "        lines.append(line)\n",
    "\n",
    "    try:\n",
    "        with open(name, 'w') as file:\n",
    "            for line in lines:\n",
    "                file.write(line + '\\n')\n",
    "        print(f'Файл {name} сохранен')\n",
    "    except IOError as e:\n",
    "        print(f'Ошибка при сохранении:{e}')\n",
    "file()\n",
    " \n"
   ],
   "metadata": {
    "collapsed": false,
    "ExecuteTime": {
     "end_time": "2023-12-07T16:28:13.140174400Z",
     "start_time": "2023-12-07T16:27:58.315814100Z"
    }
   },
   "id": "db18ab142fb9dfcd"
  },
  {
   "cell_type": "code",
   "execution_count": 29,
   "outputs": [
    {
     "name": "stdout",
     "output_type": "stream",
     "text": [
      "line 1\n",
      "line 2\n",
      "line 3"
     ]
    }
   ],
   "source": [
    "#6.2.2\n",
    "def output(count=None):\n",
    "    f = open('words.txt', 'r')\n",
    "    a = f.readlines()\n",
    "    if count != None:\n",
    "        for line in range(0, count):\n",
    "            print(a[line], end='')\n",
    "    else:\n",
    "        for line in a:\n",
    "            print(line, end='')\n",
    "output()"
   ],
   "metadata": {
    "collapsed": false,
    "ExecuteTime": {
     "end_time": "2023-12-07T19:12:20.781951900Z",
     "start_time": "2023-12-07T19:12:20.763920900Z"
    }
   },
   "id": "d589e49ef149ed86"
  },
  {
   "cell_type": "code",
   "execution_count": 63,
   "outputs": [
    {
     "name": "stdout",
     "output_type": "stream",
     "text": [
      "{'Lorem': 1, 'ipsum': 1, 'dolor': 2, 'sit': 1, 'amet': 1, 'consectetur': 1, 'id': 3, 'tempor': 2, 'adipiscing': 1, 'elit': 1, 'sed': 1, 'do': 1, 'eiusmod': 1, 'incididunt': 1, 'ut': 2, 'labore': 1, 'et': 1, 'dolore': 2, 'magna': 1, 'aliqua': 1, 'Ut': 1, 'enim': 1, 'ad': 1, 'minim': 1, 'veniam': 1, 'quis': 1, 'nostrud': 1, 'exercitation': 1, 'ullamco': 1, 'laboris': 1, 'nisi': 1, 'aliquip': 1, 'ex': 1, 'ea': 1, 'commodo': 1, 'consequat': 1, 'Duis': 1, 'aute': 1, 'irure': 1, 'in': 3, 'reprehenderit': 1, 'voluptate': 1, 'velit': 1, 'esse': 1, 'cillum': 1, 'eu': 1, 'fugiat': 1, 'nulla': 1, 'pariatur': 1, 'Excepteur': 1, 'sint': 1, 'occaecat': 1, 'cupidatat': 1, 'non': 1, 'proident': 1, 'sunt': 1, 'culpa': 1, 'qui': 1, 'officia': 1, 'deserunt': 1, 'mollit': 1, 'anim': 1, 'est': 1, 'laborum': 1}\n"
     ]
    }
   ],
   "source": [
    "#6.2.3\n",
    "def stat():\n",
    "    with open ('statistic.txt') as f:\n",
    "        a = [i.strip(',.!?-') for i in f.readline().split()]\n",
    "        res = {}\n",
    "        for i in a:\n",
    "            res[i] = res.get(i, 0) + 1\n",
    "        print(res)\n",
    "stat()"
   ],
   "metadata": {
    "collapsed": false,
    "ExecuteTime": {
     "end_time": "2023-12-07T19:28:27.773234800Z",
     "start_time": "2023-12-07T19:28:27.754858800Z"
    }
   },
   "id": "9246320e74ec1c6e"
  },
  {
   "cell_type": "code",
   "execution_count": 71,
   "outputs": [
    {
     "name": "stdout",
     "output_type": "stream",
     "text": [
      "b'\\x80\\x04\\x95\\xa5\\x02\\x00\\x00\\x00\\x00\\x00\\x00}\\x94(\\x8c\\x05Lorem\\x94K\\x01\\x8c\\x05ipsum\\x94K\\x01\\x8c\\x05dolor\\x94K\\x02\\x8c\\x03sit\\x94K\\x01\\x8c\\x04amet\\x94K\\x01\\x8c\\x0bconsectetur\\x94K\\x01\\x8c\\x02id\\x94K\\x03\\x8c\\x06tempor\\x94K\\x02\\x8c\\nadipiscing\\x94K\\x01\\x8c\\x04elit\\x94K\\x01\\x8c\\x03sed\\x94K\\x01\\x8c\\x02do\\x94K\\x01\\x8c\\x07eiusmod\\x94K\\x01\\x8c\\nincididunt\\x94K\\x01\\x8c\\x02ut\\x94K\\x02\\x8c\\x06labore\\x94K\\x01\\x8c\\x02et\\x94K\\x01\\x8c\\x06dolore\\x94K\\x02\\x8c\\x05magna\\x94K\\x01\\x8c\\x06aliqua\\x94K\\x01\\x8c\\x02Ut\\x94K\\x01\\x8c\\x04enim\\x94K\\x01\\x8c\\x02ad\\x94K\\x01\\x8c\\x05minim\\x94K\\x01\\x8c\\x06veniam\\x94K\\x01\\x8c\\x04quis\\x94K\\x01\\x8c\\x07nostrud\\x94K\\x01\\x8c\\x0cexercitation\\x94K\\x01\\x8c\\x07ullamco\\x94K\\x01\\x8c\\x07laboris\\x94K\\x01\\x8c\\x04nisi\\x94K\\x01\\x8c\\x07aliquip\\x94K\\x01\\x8c\\x02ex\\x94K\\x01\\x8c\\x02ea\\x94K\\x01\\x8c\\x07commodo\\x94K\\x01\\x8c\\tconsequat\\x94K\\x01\\x8c\\x04Duis\\x94K\\x01\\x8c\\x04aute\\x94K\\x01\\x8c\\x05irure\\x94K\\x01\\x8c\\x02in\\x94K\\x03\\x8c\\rreprehenderit\\x94K\\x01\\x8c\\tvoluptate\\x94K\\x01\\x8c\\x05velit\\x94K\\x01\\x8c\\x04esse\\x94K\\x01\\x8c\\x06cillum\\x94K\\x01\\x8c\\x02eu\\x94K\\x01\\x8c\\x06fugiat\\x94K\\x01\\x8c\\x05nulla\\x94K\\x01\\x8c\\x08pariatur\\x94K\\x01\\x8c\\tExcepteur\\x94K\\x01\\x8c\\x04sint\\x94K\\x01\\x8c\\x08occaecat\\x94K\\x01\\x8c\\tcupidatat\\x94K\\x01\\x8c\\x03non\\x94K\\x01\\x8c\\x08proident\\x94K\\x01\\x8c\\x04sunt\\x94K\\x01\\x8c\\x05culpa\\x94K\\x01\\x8c\\x03qui\\x94K\\x01\\x8c\\x07officia\\x94K\\x01\\x8c\\x08deserunt\\x94K\\x01\\x8c\\x06mollit\\x94K\\x01\\x8c\\x04anim\\x94K\\x01\\x8c\\x03est\\x94K\\x01\\x8c\\x07laborum\\x94K\\x01u.'\n",
      "{'Lorem': 1, 'ipsum': 1, 'dolor': 2, 'sit': 1, 'amet': 1, 'consectetur': 1, 'id': 3, 'tempor': 2, 'adipiscing': 1, 'elit': 1, 'sed': 1, 'do': 1, 'eiusmod': 1, 'incididunt': 1, 'ut': 2, 'labore': 1, 'et': 1, 'dolore': 2, 'magna': 1, 'aliqua': 1, 'Ut': 1, 'enim': 1, 'ad': 1, 'minim': 1, 'veniam': 1, 'quis': 1, 'nostrud': 1, 'exercitation': 1, 'ullamco': 1, 'laboris': 1, 'nisi': 1, 'aliquip': 1, 'ex': 1, 'ea': 1, 'commodo': 1, 'consequat': 1, 'Duis': 1, 'aute': 1, 'irure': 1, 'in': 3, 'reprehenderit': 1, 'voluptate': 1, 'velit': 1, 'esse': 1, 'cillum': 1, 'eu': 1, 'fugiat': 1, 'nulla': 1, 'pariatur': 1, 'Excepteur': 1, 'sint': 1, 'occaecat': 1, 'cupidatat': 1, 'non': 1, 'proident': 1, 'sunt': 1, 'culpa': 1, 'qui': 1, 'officia': 1, 'deserunt': 1, 'mollit': 1, 'anim': 1, 'est': 1, 'laborum': 1}\n"
     ]
    }
   ],
   "source": [
    "#6.2.4\n",
    "import pickle\n",
    "def stat():\n",
    "    with open ('statistic.txt') as f:\n",
    "        a = [i.strip(',.!?-') for i in f.readline().split()]\n",
    "        res = {}\n",
    "        for i in a:\n",
    "            res[i] = res.get(i, 0) + 1\n",
    "        return res\n",
    "    \n",
    "pickled_data = pickle.dumps(stat())\n",
    "print(pickled_data)\n",
    "\n",
    "dct = pickle.loads(pickled_data)\n",
    "print(dct)"
   ],
   "metadata": {
    "collapsed": false,
    "ExecuteTime": {
     "start_time": "2023-12-07T19:52:44.567485100Z"
    }
   },
   "id": "5af33be02e0d1215"
  },
  {
   "cell_type": "code",
   "execution_count": null,
   "outputs": [],
   "source": [
    "#создать 3 файла stat для сбора статистики\n",
    "\n",
    "import pickle\n",
    "def stat(file_name: str) -> dict:\n",
    "    with open(file_name) as f:\n",
    "        a = [i.strip(',.!?-') for i in f.readline().split()]\n",
    "        res = {}\n",
    "        for i in a:\n",
    "            res[i] = res.get(i, 0) + 1\n",
    "        return res\n",
    "\n",
    "f = open('pickle_stat_1', 'wb')\n",
    "pickle.dump(stat('stat1'), f)\n",
    "f.close()\n",
    "\n",
    "f = open('pickle_stat_2', 'wb')\n",
    "pickle.dump(stat('stat2'), f)\n",
    "f.close()\n",
    "\n",
    "f = open('pickle_stat_3', 'wb')\n",
    "pickle.dump(stat('stat3'), f)\n",
    "f.close()\n",
    "\n",
    "\n",
    "\n",
    "f = open('pickle_stat_1', 'rb')\n",
    "load1 = pickle.load(f)\n",
    "f.close()\n",
    "\n",
    "f = open('pickle_stat_2', 'rb')\n",
    "load2 = pickle.load(f)\n",
    "f.close()\n",
    "\n",
    "f = open('pickle_stat_3', 'rb')\n",
    "load3 = pickle.load(f)\n",
    "f.close()\n",
    "\n",
    "\n",
    "def word_counts(dict1, dict2):\n",
    "    merged_dict = dict1.copy()\n",
    "    for word, count in dict2.items():\n",
    "        if word in merged_dict:\n",
    "            merged_dict[word] += count\n",
    "        else:\n",
    "            merged_dict[word] = count\n",
    "    return merged_dict\n",
    "\n",
    "\n",
    "res = word_counts(load1,load2)\n",
    "res = word_counts(res, load3)\n",
    "print(res)\n",
    "\n",
    "with open('result.txt', 'w') as f:\n",
    "    for word, count in res.items():\n",
    "        f.write(f'Word \"{word}\" was {count} times in text' + '\\n')\n"
   ],
   "metadata": {
    "collapsed": false
   },
   "id": "936136fd2cfd2876"
  }
 ],
 "metadata": {
  "kernelspec": {
   "display_name": "Python 3",
   "language": "python",
   "name": "python3"
  },
  "language_info": {
   "codemirror_mode": {
    "name": "ipython",
    "version": 2
   },
   "file_extension": ".py",
   "mimetype": "text/x-python",
   "name": "python",
   "nbconvert_exporter": "python",
   "pygments_lexer": "ipython2",
   "version": "2.7.6"
  }
 },
 "nbformat": 4,
 "nbformat_minor": 5
}
