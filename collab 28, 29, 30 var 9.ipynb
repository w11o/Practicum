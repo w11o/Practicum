{
 "cells": [
  {
   "metadata": {},
   "cell_type": "markdown",
   "source": [
    "а) С помощью лямбда-функции проверьте, является ли данная строка числом или нет.\n",
    "\n",
    "б) Напишите программу для поиска чисел в заданном диапазоне, где каждое число делится на каждую цифру, которую оно содержит. Пример: задан диапазон от 1 до 22 → [1, 2, 3, 4, 5, 6, 7, 8, 9, 11, 12, 15, 22].\n",
    "\n",
    "в) Удалите все элементы из заданного списка, присутствующие в другом списке. Пример: [1, 2, 3, 4, 5, 6, 7, 8, 9, 10], [2, 4, 6, 8] → [1, 3, 5, 7, 9, 10]."
   ],
   "id": "7a638a633fbe2a5d"
  },
  {
   "metadata": {
    "ExecuteTime": {
     "end_time": "2024-04-16T14:58:24.319365Z",
     "start_time": "2024-04-16T14:58:24.315790Z"
    }
   },
   "cell_type": "code",
   "source": [
    "st_1 = 'abc'\n",
    "st_2 = 123\n",
    "\n",
    "f = lambda x: type(x) == int\n",
    "print(f(st_1), f(st_2))"
   ],
   "id": "4d51be241c68eb16",
   "outputs": [
    {
     "name": "stdout",
     "output_type": "stream",
     "text": [
      "False True\n"
     ]
    }
   ],
   "execution_count": 9
  },
  {
   "metadata": {
    "ExecuteTime": {
     "end_time": "2024-04-16T15:28:19.912116Z",
     "start_time": "2024-04-16T15:28:19.907255Z"
    }
   },
   "cell_type": "code",
   "source": "[digit for digit in range(1, 23) if len(list(filter(lambda x: digit % x == 0, [int(i) for i in list(str(digit)) if i != '0']))) == len(str(digit))] #находим все делители числа и сравниаем их с длиной числа",
   "id": "319b3fffa20e5d4b",
   "outputs": [
    {
     "data": {
      "text/plain": [
       "[1, 2, 3, 4, 5, 6, 7, 8, 9, 11, 12, 15, 22]"
      ]
     },
     "execution_count": 59,
     "metadata": {},
     "output_type": "execute_result"
    }
   ],
   "execution_count": 59
  },
  {
   "metadata": {
    "ExecuteTime": {
     "end_time": "2024-04-16T15:31:38.717265Z",
     "start_time": "2024-04-16T15:31:38.713155Z"
    }
   },
   "cell_type": "code",
   "source": [
    "m_1 = list(range(1, 11))\n",
    "m_2 = list(range(2, 9, 2))\n",
    "\n",
    "[i for i in m_1 if i not in m_2]"
   ],
   "id": "bd3275e9d86d8439",
   "outputs": [
    {
     "data": {
      "text/plain": [
       "[1, 3, 5, 7, 9, 10]"
      ]
     },
     "execution_count": 63,
     "metadata": {},
     "output_type": "execute_result"
    }
   ],
   "execution_count": 63
  },
  {
   "metadata": {},
   "cell_type": "markdown",
   "source": [
    "а) Преобразуйте заданный список строк в список списков с помощью функции map(). Пример: ['Red', 'Green', 'Black', 'Orange'] → [['R', 'e', 'd'], ['G', 'r', 'e', 'e', 'n'], ['B', 'l', 'a', 'c', 'k'], ['O', 'r', 'a', 'n', 'g', 'e']].\n",
    "\n",
    "б) Сгенерировать список целых чисел. С помощью функции filter() выбрать из списка все числа меньше 15 и упорядочить их по убыванию. Используя функцию reduce(), найти их сумму."
   ],
   "id": "3513db04eabed96d"
  },
  {
   "metadata": {
    "ExecuteTime": {
     "end_time": "2024-04-16T15:43:46.658763Z",
     "start_time": "2024-04-16T15:43:46.653835Z"
    }
   },
   "cell_type": "code",
   "source": [
    "m = ['Red', 'Green', 'Black', 'Orange'] \n",
    "list(map(lambda x: list(x), m))"
   ],
   "id": "9cd41b32ba81625",
   "outputs": [
    {
     "data": {
      "text/plain": [
       "[['R', 'e', 'd'],\n",
       " ['G', 'r', 'e', 'e', 'n'],\n",
       " ['B', 'l', 'a', 'c', 'k'],\n",
       " ['O', 'r', 'a', 'n', 'g', 'e']]"
      ]
     },
     "execution_count": 64,
     "metadata": {},
     "output_type": "execute_result"
    }
   ],
   "execution_count": 64
  },
  {
   "metadata": {
    "ExecuteTime": {
     "end_time": "2024-04-16T15:49:36.095539Z",
     "start_time": "2024-04-16T15:49:36.091523Z"
    }
   },
   "cell_type": "code",
   "source": [
    "from functools import reduce\n",
    "\n",
    "reduce(lambda x, y: x + y, sorted(list(filter(lambda x: x < 15, list(range(1, 21)))), reverse=True))"
   ],
   "id": "1120da5b343e8006",
   "outputs": [
    {
     "data": {
      "text/plain": [
       "105"
      ]
     },
     "execution_count": 75,
     "metadata": {},
     "output_type": "execute_result"
    }
   ],
   "execution_count": 75
  },
  {
   "metadata": {},
   "cell_type": "markdown",
   "source": [
    "а) Создайте декоратор, который будет проверять аргументы функции на корректность и выбрасывать исключение при обнаружении некорректных данных.\n",
    "\n",
    "б) Создайте декоратор, который будет принимать список и словарь аргументов и передавать их в функцию в определенном порядке и с заданными значениями по умолчанию."
   ],
   "id": "dd034248fd1b81a0"
  },
  {
   "metadata": {
    "ExecuteTime": {
     "end_time": "2024-04-16T16:05:13.758765Z",
     "start_time": "2024-04-16T16:05:13.738517Z"
    }
   },
   "cell_type": "code",
   "source": [
    "def decorator(func):\n",
    "    def wrapper(x, y):\n",
    "        assert type(x) == int and type(y) == int, \"arguments must be an integers\"\n",
    "        result = func(x, y)\n",
    "        return result\n",
    "\n",
    "    return wrapper\n",
    "\n",
    "@decorator\n",
    "def add(x, y):\n",
    "    return x + y\n",
    "\n",
    "print(add(1, 2))\n",
    "print(add('y', 2))\n",
    "print(add(1, 'x'))"
   ],
   "id": "2237e666c79eac1f",
   "outputs": [
    {
     "name": "stdout",
     "output_type": "stream",
     "text": [
      "3\n"
     ]
    },
    {
     "ename": "AssertionError",
     "evalue": "arguments must be an integers",
     "output_type": "error",
     "traceback": [
      "\u001B[0;31m---------------------------------------------------------------------------\u001B[0m",
      "\u001B[0;31mAssertionError\u001B[0m                            Traceback (most recent call last)",
      "Cell \u001B[0;32mIn[98], line 14\u001B[0m\n\u001B[1;32m     11\u001B[0m     \u001B[38;5;28;01mreturn\u001B[39;00m x \u001B[38;5;241m+\u001B[39m y\n\u001B[1;32m     13\u001B[0m \u001B[38;5;28mprint\u001B[39m(add(\u001B[38;5;241m1\u001B[39m, \u001B[38;5;241m2\u001B[39m))\n\u001B[0;32m---> 14\u001B[0m \u001B[38;5;28mprint\u001B[39m(\u001B[43madd\u001B[49m\u001B[43m(\u001B[49m\u001B[38;5;124;43m'\u001B[39;49m\u001B[38;5;124;43my\u001B[39;49m\u001B[38;5;124;43m'\u001B[39;49m\u001B[43m,\u001B[49m\u001B[43m \u001B[49m\u001B[38;5;241;43m2\u001B[39;49m\u001B[43m)\u001B[49m)\n\u001B[1;32m     15\u001B[0m \u001B[38;5;66;03m# print(add(1, 'x'))\u001B[39;00m\n",
      "Cell \u001B[0;32mIn[98], line 3\u001B[0m, in \u001B[0;36mdecorator.<locals>.wrapper\u001B[0;34m(x, y)\u001B[0m\n\u001B[1;32m      2\u001B[0m \u001B[38;5;28;01mdef\u001B[39;00m \u001B[38;5;21mwrapper\u001B[39m(x, y):\n\u001B[0;32m----> 3\u001B[0m     \u001B[38;5;28;01massert\u001B[39;00m \u001B[38;5;28mtype\u001B[39m(x) \u001B[38;5;241m==\u001B[39m \u001B[38;5;28mint\u001B[39m \u001B[38;5;129;01mand\u001B[39;00m \u001B[38;5;28mtype\u001B[39m(y) \u001B[38;5;241m==\u001B[39m \u001B[38;5;28mint\u001B[39m, \u001B[38;5;124m\"\u001B[39m\u001B[38;5;124marguments must be an integers\u001B[39m\u001B[38;5;124m\"\u001B[39m\n\u001B[1;32m      4\u001B[0m     result \u001B[38;5;241m=\u001B[39m func(x, y)\n\u001B[1;32m      5\u001B[0m     \u001B[38;5;28;01mreturn\u001B[39;00m result\n",
      "\u001B[0;31mAssertionError\u001B[0m: arguments must be an integers"
     ]
    }
   ],
   "execution_count": 98
  },
  {
   "metadata": {},
   "cell_type": "code",
   "outputs": [],
   "execution_count": null,
   "source": "",
   "id": "d5ce143fceda0a56"
  }
 ],
 "metadata": {
  "kernelspec": {
   "display_name": "Python 3",
   "language": "python",
   "name": "python3"
  },
  "language_info": {
   "codemirror_mode": {
    "name": "ipython",
    "version": 2
   },
   "file_extension": ".py",
   "mimetype": "text/x-python",
   "name": "python",
   "nbconvert_exporter": "python",
   "pygments_lexer": "ipython2",
   "version": "2.7.6"
  }
 },
 "nbformat": 4,
 "nbformat_minor": 5
}
