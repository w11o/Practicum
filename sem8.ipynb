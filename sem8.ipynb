{
 "cells": [
  {
   "cell_type": "code",
   "execution_count": null,
   "id": "58ce44bc",
   "metadata": {},
   "outputs": [],
   "source": [
    "l1 = ['1', '123', '123', '12', '1', '123']\n",
    "l2 = [2, 4, -2, -3, 0 , 11 , 3, -1]\n",
    "d4 = {1: 10, 2: 20, 3: 30, 4: 40, 5: 50, 6: 60}\n",
    "d5 = {'a': 3, 'b': 4, 'c': 5, 'd': 6, 'e': 7, 'f': 8, 'g': 9}\n",
    "d6 = {'e': 20, 'f': 21, 'g': 22, 'h': 23, 'i': 24, 'j': 25, 'k': 26, 'l': 27}\n"
   ]
  },
  {
   "cell_type": "code",
   "execution_count": 3,
   "id": "9b2ea2c2",
   "metadata": {},
   "outputs": [
    {
     "name": "stdout",
     "output_type": "stream",
     "text": [
      "[1, 3, 3, 2, 1, 3]\n"
     ]
    }
   ],
   "source": [
    "#1\n",
    "print([len(i) for i in ['1', '123', '123', '12', '1', '123']])"
   ]
  },
  {
   "cell_type": "code",
   "execution_count": null,
   "id": "b68a7365",
   "metadata": {},
   "outputs": [],
   "source": [
    "#2\n",
    "print(len([len(i) for i in ['1', '123', '123', '12', '1', '123'] if len(i) > 2]))"
   ]
  },
  {
   "cell_type": "code",
   "execution_count": 52,
   "id": "7d981162",
   "metadata": {},
   "outputs": [
    {
     "name": "stdout",
     "output_type": "stream",
     "text": [
      "[0, 4, -4, -9, 0, 55, 18, -7]\n"
     ]
    }
   ],
   "source": [
    "#3\n",
    "print([i * i_count for i_count, i in enumerate([2, 4, -2, -3, 0 , 11 , 3, -1])])"
   ]
  },
  {
   "cell_type": "code",
   "execution_count": null,
   "id": "36771598",
   "metadata": {},
   "outputs": [],
   "source": [
    "#4\n",
    "print([i for i in [2, 4, -2, -3, 0 , 11 , 3, -1] if i > -1])"
   ]
  },
  {
   "cell_type": "code",
   "execution_count": null,
   "id": "58efc75a",
   "metadata": {},
   "outputs": [],
   "source": [
    "#5\n",
    "print([i if i >= 0 else i_count for i_count, i in enumerate([2, 4, -2, -3, 0 , 11 , 3, -1])])"
   ]
  },
  {
   "cell_type": "code",
   "execution_count": 53,
   "id": "8f4ed5b4",
   "metadata": {},
   "outputs": [
    {
     "name": "stdout",
     "output_type": "stream",
     "text": [
      "{1: 'a', 2: 'b', 3: 'c', 4: 'd', 5: 'e', 6: 'f'}\n"
     ]
    }
   ],
   "source": [
    "#6\n",
    "print({i + 1:j for i, j in enumerate('abcdef')})"
   ]
  },
  {
   "cell_type": "code",
   "execution_count": 2,
   "id": "22832f14",
   "metadata": {},
   "outputs": [
    {
     "name": "stdout",
     "output_type": "stream",
     "text": [
      "{'a': 2, 'b': 1, 'c': 1, 'd': 1, 'e': 1, 't': 2, 'm': 1}\n"
     ]
    }
   ],
   "source": [
    "#8\n",
    "print({i:'aabcdettm'.count(i) for i in 'aabcdettm'})"
   ]
  },
  {
   "cell_type": "code",
   "execution_count": 55,
   "id": "9ec8ae58",
   "metadata": {},
   "outputs": [
    {
     "name": "stdout",
     "output_type": "stream",
     "text": [
      "{'a': 2, 'b': 1, 'c': 1, 'd': 1, 'e': 1, 't': 2, 'm': 1}\n"
     ]
    }
   ],
   "source": [
    "#9\n",
    "print({i:'aabcXDFGRFdettm'.count(i) for i in 'aabcXDFGRFdettm' if i == i.lower()})"
   ]
  },
  {
   "cell_type": "code",
   "execution_count": 56,
   "id": "7c4024e9",
   "metadata": {},
   "outputs": [
    {
     "name": "stdout",
     "output_type": "stream",
     "text": [
      "231\n"
     ]
    }
   ],
   "source": [
    "#10\n",
    "d4 = {1: 10, 2: 20, 3: 30, 4: 40, 5: 50, 6: 60}\n",
    "\n",
    "print(sum([i[0] + i[1] for i in d4.items()]))"
   ]
  },
  {
   "cell_type": "code",
   "execution_count": 7,
   "id": "15b120c4",
   "metadata": {},
   "outputs": [
    {
     "name": "stdout",
     "output_type": "stream",
     "text": [
      "{'h': 23, 'i': 24, 'j': 25, 'k': 26, 'l': 27}\n"
     ]
    }
   ],
   "source": [
    "#11\n",
    "d5 = {'a': 3, 'b': 4, 'c': 5, 'd': 6, 'e': 7, 'f': 8, 'g': 9}\n",
    "d6 = {'e': 20, 'f': 21, 'g': 22, 'h': 23, 'i': 24, 'j': 25, 'k': 26, 'l': 27}\n",
    "\n",
    "print({i:j for i, j in d6.items() if i not in d5.keys()})"
   ]
  },
  {
   "cell_type": "code",
   "execution_count": 51,
   "id": "06600c3a",
   "metadata": {},
   "outputs": [
    {
     "name": "stdout",
     "output_type": "stream",
     "text": [
      "{'a': 3, 'b': 4, 'c': 5, 'd': 6, 'e': 20, 'f': 21, 'g': 22, 'h': 23, 'i': 24, 'j': 25, 'k': 26, 'l': 27}\n"
     ]
    }
   ],
   "source": [
    "#12\n",
    "d5 = {'a': 3, 'b': 4, 'c': 5, 'd': 6, 'e': 7, 'f': 8, 'g': 9}\n",
    "d6 = {'e': 20, 'f': 21, 'g': 22, 'h': 23, 'i': 24, 'j': 25, 'k': 26, 'l': 27}\n",
    "\n",
    "d9={i:j for i, j in list(d5.items()) + list(d6.items())}\n",
    "print(d9)\n",
    "\n",
    "\n",
    "\n"
   ]
  },
  {
   "cell_type": "code",
   "execution_count": null,
   "id": "d79c44c1",
   "metadata": {},
   "outputs": [],
   "source": []
  },
  {
   "cell_type": "code",
   "execution_count": null,
   "id": "f069af14",
   "metadata": {},
   "outputs": [],
   "source": []
  }
 ],
 "metadata": {
  "kernelspec": {
   "display_name": "Python 3 (ipykernel)",
   "language": "python",
   "name": "python3"
  },
  "language_info": {
   "codemirror_mode": {
    "name": "ipython",
    "version": 3
   },
   "file_extension": ".py",
   "mimetype": "text/x-python",
   "name": "python",
   "nbconvert_exporter": "python",
   "pygments_lexer": "ipython3",
   "version": "3.10.9"
  }
 },
 "nbformat": 4,
 "nbformat_minor": 5
}
