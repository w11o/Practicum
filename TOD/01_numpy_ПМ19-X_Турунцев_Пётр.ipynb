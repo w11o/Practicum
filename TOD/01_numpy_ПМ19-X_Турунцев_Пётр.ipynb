{
 "cells": [
  {
   "cell_type": "markdown",
   "metadata": {},
   "source": [
    "# Numpy"
   ]
  },
  {
   "cell_type": "markdown",
   "metadata": {},
   "source": [
    "Материалы:\n",
    "* Макрушин С.В. \"Лекция 1: Библиотека Numpy\"\n",
    "* https://numpy.org/doc/stable/user/index.html\n",
    "* https://numpy.org/doc/stable/reference/index.html"
   ]
  },
  {
   "cell_type": "markdown",
   "metadata": {},
   "source": [
    "## Задачи для совместного разбора"
   ]
  },
  {
   "cell_type": "markdown",
   "metadata": {},
   "source": [
    "1. Сгенерировать двухмерный массив `arr` размерности (4, 7), состоящий из случайных действительных чисел, равномерно распределенных в диапазоне от 0 до 20. Нормализовать значения массива с помощью преобразования вида  $𝑎𝑥+𝑏$  так, что после нормализации максимальный элемент масcива будет равен 1.0, минимальный 0.0"
   ]
  },
  {
   "cell_type": "code",
   "execution_count": 1,
   "metadata": {
    "ExecuteTime": {
     "end_time": "2024-02-12T16:02:38.493232100Z",
     "start_time": "2024-02-12T16:02:38.180707400Z"
    }
   },
   "outputs": [
    {
     "name": "stdout",
     "output_type": "stream",
     "text": [
      "[[ 8  2 18  8  3 16 19]\n",
      " [ 5  2  2  3 14 18 11]\n",
      " [14 11 17  0  6  9  3]\n",
      " [ 1  9 15  2 12  8 15]] \n",
      "\n",
      "Normalized data:\n",
      "\n",
      " [[0.42105263 0.10526316 0.94736842 0.42105263 0.15789474 0.84210526\n",
      "  1.        ]\n",
      " [0.26315789 0.10526316 0.10526316 0.15789474 0.73684211 0.94736842\n",
      "  0.57894737]\n",
      " [0.73684211 0.57894737 0.89473684 0.         0.31578947 0.47368421\n",
      "  0.15789474]\n",
      " [0.05263158 0.47368421 0.78947368 0.10526316 0.63157895 0.42105263\n",
      "  0.78947368]]\n"
     ]
    }
   ],
   "source": [
    "import numpy as np\n",
    "import numpy.random as rand\n",
    "\n",
    "# Чтобы нормализовать значения между 0 и 1, мы можем использовать следующую формулу:\n",
    "# \n",
    "# x норма = (x i – x мин ) / (x макс – x мин )\n",
    "mas = np.random.randint(0, 20, (4, 7))\n",
    "print(mas, '\\n')\n",
    "x_min = np.min(mas)\n",
    "x_max = np.max(mas)\n",
    "\n",
    "normalized_mas = (mas - x_min) / (x_max - x_min)\n",
    "print('Normalized data:\\n\\n',normalized_mas)\n"
   ]
  },
  {
   "cell_type": "markdown",
   "metadata": {},
   "source": [
    "2. Создать матрицу 8 на 10 из случайных целых (используя модуль `numpy.random`) чисел из диапозона от 0 до 10 и найти в ней строку (ее индекс и вывести саму строку), в которой сумма значений минимальна."
   ]
  },
  {
   "cell_type": "code",
   "execution_count": 2,
   "outputs": [
    {
     "name": "stdout",
     "output_type": "stream",
     "text": [
      "[[1 1 6 8 3 6 0 1 0 4]\n",
      " [9 3 3 9 4 2 0 8 6 1]\n",
      " [0 2 9 7 1 0 5 1 9 7]\n",
      " [0 5 3 9 0 0 5 1 3 6]\n",
      " [7 0 8 9 8 9 4 0 0 8]\n",
      " [4 6 1 4 5 0 8 7 2 9]\n",
      " [3 2 2 2 3 9 3 7 3 5]\n",
      " [7 0 4 5 0 7 6 0 9 3]]\n",
      "\n",
      "30 45 41 32 53 46 39 41 \n",
      "\n",
      " Минимальная сумма: 30 \n",
      " Строка в массиве: 1\n"
     ]
    }
   ],
   "source": [
    "matr = np.random.randint(0, 10, (8, 10))\n",
    "mn = matr[1, :]\n",
    "ind=0\n",
    "print(matr, end = '\\n\\n')\n",
    "for i in matr:\n",
    "    if np.sum(i) < np.sum(mn):\n",
    "        mn = i\n",
    "    print(np.sum(i), end = ' ')\n",
    "mn_ind = np.where(np.sum(matr, axis=1) == np.sum(mn))\n",
    "print()\n",
    "\n",
    "print(f'\\n Минимальная сумма: {np.sum(mn)} \\n Строка в массиве: {mn_ind[0][0] + 1}')\n",
    "\n"
   ],
   "metadata": {
    "collapsed": false,
    "ExecuteTime": {
     "end_time": "2024-02-12T16:02:38.586955900Z",
     "start_time": "2024-02-12T16:02:38.493232100Z"
    }
   }
  },
  {
   "cell_type": "markdown",
   "metadata": {},
   "source": [
    "3. Найти евклидово расстояние между двумя одномерными векторами одинаковой размерности."
   ]
  },
  {
   "cell_type": "code",
   "execution_count": 3,
   "outputs": [
    {
     "name": "stdout",
     "output_type": "stream",
     "text": [
      "5.196152422706632\n"
     ]
    }
   ],
   "source": [
    "point_1 = np.array((0, 0, 0))\n",
    "point_2 = np.array((3, 3, 3))\n",
    "sm = np.sqrt((point_2[0] - point_1[0])**2 + (point_2[1] - point_1[1])**2 + (point_2[2] - point_1[2]) ** 2)\n",
    "print(sm)"
   ],
   "metadata": {
    "collapsed": false,
    "ExecuteTime": {
     "end_time": "2024-02-12T16:02:38.618211300Z",
     "start_time": "2024-02-12T16:02:38.524461100Z"
    }
   }
  },
  {
   "cell_type": "markdown",
   "metadata": {},
   "source": [
    "4. Решить матричное уравнение `A*X*B=-C` - найти матрицу `X`. Где `A = [[-1, 2, 4], [-3, 1, 2], [-3, 0, 1]]`, `B=[[3, -1], [2, 1]]`, `C=[[7, 21], [11, 8], [8, 4]]`."
   ]
  },
  {
   "cell_type": "code",
   "execution_count": 4,
   "outputs": [
    {
     "name": "stdout",
     "output_type": "stream",
     "text": [
      "[[ 1.00000000e+00  5.32907052e-16]\n",
      " [-2.00000000e+00  1.00000000e+00]\n",
      " [ 3.00000000e+00 -4.00000000e+00]]\n"
     ]
    }
   ],
   "source": [
    "#A*X*B=-C\n",
    "a=np.array([[-1, 2, 4], [-3, 1, 2], [-3, 0, 1]])\n",
    "b=np.array([[3, -1], [2, 1]])\n",
    "c=-np.array([[7, 21], [11, 8], [8, 4]])\n",
    "\n",
    "#X= A**-1 * -C * B**-1\n",
    "res = np.linalg.inv(a) @ c @ np.linalg.inv(b)\n",
    "print(res)"
   ],
   "metadata": {
    "collapsed": false,
    "ExecuteTime": {
     "end_time": "2024-02-12T16:02:38.758847Z",
     "start_time": "2024-02-12T16:02:38.571330400Z"
    }
   }
  },
  {
   "cell_type": "markdown",
   "metadata": {},
   "source": [
    "## Лабораторная работа №1"
   ]
  },
  {
   "cell_type": "markdown",
   "metadata": {},
   "source": [
    "Замечание: при решении данных задач не подразумевается использования циклов или генераторов Python, если в задании не сказано обратного. Решение должно опираться на использования функционала библиотеки `numpy`."
   ]
  },
  {
   "cell_type": "markdown",
   "metadata": {},
   "source": [
    "1. Файл `minutes_n_ingredients.csv` содержит информацию об идентификаторе рецепта, времени его выполнения в минутах и количестве необходимых ингредиентов. Считайте данные из этого файла в виде массива `numpy` типа `int32`, используя `np.loadtxt`. Выведите на экран первые 5 строк массива."
   ]
  },
  {
   "cell_type": "code",
   "execution_count": 29,
   "outputs": [
    {
     "name": "stdout",
     "output_type": "stream",
     "text": [
      "[[127244     60     16]\n",
      " [ 23891     25      7]\n",
      " [ 94746     10      6]\n",
      " [ 67660      5      6]\n",
      " [157911     60     14]]\n"
     ]
    }
   ],
   "source": [
    "file = np.loadtxt('minutes_n_ingredients.csv', delimiter=',', dtype='int32', skiprows=1)\n",
    "print(file[:5])"
   ],
   "metadata": {
    "collapsed": false,
    "ExecuteTime": {
     "end_time": "2024-02-12T16:19:37.793333600Z",
     "start_time": "2024-02-12T16:19:37.686906300Z"
    }
   }
  },
  {
   "cell_type": "markdown",
   "metadata": {},
   "source": [
    "2. Вычислите среднее значение, минимум, максимум и медиану по каждому из столбцов, кроме первого."
   ]
  },
  {
   "cell_type": "code",
   "execution_count": 82,
   "outputs": [
    {
     "name": "stdout",
     "output_type": "stream",
     "text": [
      "2 столбец|\n",
      "Минимум: 0\n",
      "Максимум: 2147483647\n",
      "Медиана: 40.0\n",
      "\n",
      "3 столбец|\n",
      "Минимум: 1\n",
      "Максимум: 39\n",
      "Медиана: 9.0\n"
     ]
    }
   ],
   "source": [
    "print(f'2 столбец|\\nМинимум: {np.min(file[:, 1])}\\nМаксимум: {np.max(file[:, 1])}\\nМедиана: {np.median(file[:, 1])}\\n')\n",
    "print(f'3 столбец|\\nМинимум: {np.min(file[:, 2])}\\nМаксимум: {np.max(file[:, 2])}\\nМедиана: {np.median(file[:, 2])}\\n')"
   ],
   "metadata": {
    "collapsed": false,
    "ExecuteTime": {
     "end_time": "2024-02-12T16:35:26.539538900Z",
     "start_time": "2024-02-12T16:35:26.477008600Z"
    }
   }
  },
  {
   "cell_type": "markdown",
   "metadata": {},
   "source": [
    "3. Ограничьте сверху значения продолжительности выполнения рецепта значением квантиля $q_{0.75}$. "
   ]
  },
  {
   "cell_type": "code",
   "execution_count": 127,
   "outputs": [
    {
     "name": "stdout",
     "output_type": "stream",
     "text": [
      "[[60]\n",
      " [25]\n",
      " [10]\n",
      " ...\n",
      " [35]\n",
      " [65]\n",
      " [ 5]]\n"
     ]
    }
   ],
   "source": [
    "# Квантиль - это показатель, который разделяет упорядоченную выборку на равные части. Например, медиана - это 50-й процентиль, то есть значение, которое делит выборку на две равные части. Квантиль 25% - это значение, которое делит выборку на две части, где 25% значений находятся ниже этого значения, а 75% значений находятся выше.\n",
    "time = np.array(file[:, 1])\n",
    "q = np.quantile(time, 0.75)\n",
    "time = time[time <= q]\n",
    "time = time.reshape(-1, 1)\n",
    "print(time)"
   ],
   "metadata": {
    "collapsed": false,
    "ExecuteTime": {
     "end_time": "2024-02-12T16:57:57.174313100Z",
     "start_time": "2024-02-12T16:57:57.111805400Z"
    }
   }
  },
  {
   "cell_type": "markdown",
   "metadata": {},
   "source": [
    "4. Посчитайте, для скольких рецептов указана продолжительность, равная нулю. Замените для таких строк значение в данном столбце на 1."
   ]
  },
  {
   "cell_type": "code",
   "execution_count": 142,
   "outputs": [
    {
     "name": "stdout",
     "output_type": "stream",
     "text": [
      "Для 479 рецептов продолжительность равна нулю\n",
      "После замены:[ 60  25  10 ...  65   5 140]\n",
      "Для 0 рецептов продолжительность равна нулю\n"
     ]
    }
   ],
   "source": [
    "column = np.array(file[:, 1])\n",
    "zeros = column[column == 0]\n",
    "print(f'Для {len(zeros)} рецептов продолжительность равна нулю')\n",
    "\n",
    "mask = column == 0 #создаем булеву маску\n",
    "mask = np.array(mask)\n",
    "column[mask] = 1\n",
    "\n",
    "print(f'После замены:{column}')\n",
    "zeros = column[column == 0]\n",
    "print(f'Для {len(zeros)} рецептов продолжительность равна нулю')"
   ],
   "metadata": {
    "collapsed": false,
    "ExecuteTime": {
     "end_time": "2024-02-12T17:10:06.839415400Z",
     "start_time": "2024-02-12T17:10:06.794502700Z"
    }
   }
  },
  {
   "cell_type": "markdown",
   "metadata": {},
   "source": [
    "5. Посчитайте, сколько уникальных рецептов находится в датасете."
   ]
  },
  {
   "cell_type": "code",
   "execution_count": 151,
   "outputs": [
    {
     "name": "stdout",
     "output_type": "stream",
     "text": [
      "В датасете 100000 уникальных рецептов\n"
     ]
    }
   ],
   "source": [
    "print(f'В датасете {np.unique(file[:, 0]).size} уникальных рецептов')"
   ],
   "metadata": {
    "collapsed": false,
    "ExecuteTime": {
     "end_time": "2024-02-12T17:15:49.310575500Z",
     "start_time": "2024-02-12T17:15:49.263641800Z"
    }
   }
  },
  {
   "cell_type": "markdown",
   "metadata": {},
   "source": [
    "6. Сколько и каких различных значений кол-ва ингредиентов присутвует в рецептах из датасета?"
   ]
  },
  {
   "cell_type": "code",
   "execution_count": 153,
   "outputs": [
    {
     "name": "stdout",
     "output_type": "stream",
     "text": [
      "В датасете 37 уникальных значений\n",
      "Значения: [ 1  2  3  4  5  6  7  8  9 10 11 12 13 14 15 16 17 18 19 20 21 22 23 24\n",
      " 25 26 27 28 29 30 31 32 33 34 35 37 39]\n"
     ]
    }
   ],
   "source": [
    "print(f'В датасете {np.unique(file[:, 2]).size} уникальных значений')\n",
    "print(f'Значения: {np.unique(file[:, 2])}')"
   ],
   "metadata": {
    "collapsed": false,
    "ExecuteTime": {
     "end_time": "2024-02-12T17:21:23.937779100Z",
     "start_time": "2024-02-12T17:21:23.859654500Z"
    }
   }
  },
  {
   "cell_type": "markdown",
   "metadata": {},
   "source": [
    "7. Создайте версию массива, содержащую информацию только о рецептах, состоящих не более чем из 5 ингредиентов."
   ]
  },
  {
   "cell_type": "code",
   "execution_count": 164,
   "outputs": [
    {
     "name": "stdout",
     "output_type": "stream",
     "text": [
      "[[446597     15      5]\n",
      " [204134      5      3]\n",
      " [ 25623      6      4]\n",
      " ...\n",
      " [ 52088     60      5]\n",
      " [128811     15      4]\n",
      " [370915      5      4]]\n"
     ]
    }
   ],
   "source": [
    "file_1 = file.copy()\n",
    "mask = file_1[:, 2] <= 5\n",
    "file_1 = file_1[mask]\n",
    "print(file_1)"
   ],
   "metadata": {
    "collapsed": false,
    "ExecuteTime": {
     "end_time": "2024-02-12T17:27:43.519917Z",
     "start_time": "2024-02-12T17:27:43.426261300Z"
    }
   }
  },
  {
   "cell_type": "markdown",
   "metadata": {},
   "source": [
    "8. Для каждого рецепта посчитайте, сколько в среднем ингредиентов приходится на одну минуту рецепта. Найдите максимальное значение этой величины для всего датасета"
   ]
  },
  {
   "cell_type": "code",
   "execution_count": 173,
   "outputs": [
    {
     "name": "stdout",
     "output_type": "stream",
     "text": [
      "В среднем на 1 минуту: [0.26666667 0.28       0.6        ... 0.23076923 0.8        0.1       ] \n",
      "Максимальное: 23.0\n"
     ]
    }
   ],
   "source": [
    "mask = file[:, 1] != 0\n",
    "file = file[mask]\n",
    "res = file[:, 2] / file[:, 1]\n",
    "print(f'В среднем на 1 минуту: {res} \\nМаксимальное: {np.max(res)}')"
   ],
   "metadata": {
    "collapsed": false,
    "ExecuteTime": {
     "end_time": "2024-02-12T17:40:24.674817800Z",
     "start_time": "2024-02-12T17:40:24.608372400Z"
    }
   }
  },
  {
   "cell_type": "markdown",
   "metadata": {},
   "source": [
    "9. Вычислите среднее количество ингредиентов для топ-100 рецептов с наибольшей продолжительностью"
   ]
  },
  {
   "cell_type": "code",
   "execution_count": 185,
   "outputs": [
    {
     "name": "stdout",
     "output_type": "stream",
     "text": [
      "6.63\n"
     ]
    }
   ],
   "source": [
    "file_sorted = file[np.argsort(file[:, 1])][::-1] #сортировка по возрастанию\n",
    "top = file_sorted[:100]\n",
    "ingr = top[:, 2]\n",
    "print(np.sum(ingr)/(ingr).size)"
   ],
   "metadata": {
    "collapsed": false,
    "ExecuteTime": {
     "end_time": "2024-02-12T18:03:01.105262Z",
     "start_time": "2024-02-12T18:03:00.972518700Z"
    }
   }
  },
  {
   "cell_type": "markdown",
   "metadata": {},
   "source": [
    "10. Выберите случайным образом и выведите информацию о 10 различных рецептах"
   ]
  },
  {
   "cell_type": "code",
   "execution_count": 193,
   "outputs": [
    {
     "name": "stdout",
     "output_type": "stream",
     "text": [
      "[[286429     30     11]\n",
      " [ 78173     23     13]\n",
      " [ 14323     40      9]\n",
      " [200730     35      3]\n",
      " [123976     50      9]\n",
      " [214610     25      7]\n",
      " [195085    215     12]\n",
      " [352662     65     15]\n",
      " [382613     27     12]\n",
      " [145339     65     10]]\n"
     ]
    }
   ],
   "source": [
    "indx = np.random.randint(0, len(file), 10)\n",
    "print(file[indx])"
   ],
   "metadata": {
    "collapsed": false,
    "ExecuteTime": {
     "end_time": "2024-02-12T18:08:06.452058800Z",
     "start_time": "2024-02-12T18:08:06.420807Z"
    }
   }
  },
  {
   "cell_type": "markdown",
   "metadata": {},
   "source": [
    "11. Выведите процент рецептов, кол-во ингредиентов в которых меньше среднего."
   ]
  },
  {
   "cell_type": "code",
   "execution_count": 199,
   "outputs": [
    {
     "name": "stdout",
     "output_type": "stream",
     "text": [
      "48.19887259975282\n"
     ]
    }
   ],
   "source": [
    "ingr = file[:, 2]\n",
    "sr = np.median(ingr) #среднее\n",
    "mask = ingr < sr #булева маска для поиска меньше среднего\n",
    "ingr_lower = ingr[mask]\n",
    "res = (ingr_lower.size / ingr.size) * 100 # процент\n",
    "print(res)"
   ],
   "metadata": {
    "collapsed": false,
    "ExecuteTime": {
     "end_time": "2024-02-12T18:14:19.840618400Z",
     "start_time": "2024-02-12T18:14:19.793660100Z"
    }
   }
  },
  {
   "cell_type": "markdown",
   "metadata": {},
   "source": [
    "12. Назовем \"простым\" такой рецепт, длительность выполнения которого не больше 20 минут и кол-во ингредиентов в котором не больше 5. Создайте версию датасета с дополнительным столбцом, значениями которого являются 1, если рецепт простой, и 0 в противном случае."
   ]
  },
  {
   "cell_type": "code",
   "execution_count": 252,
   "outputs": [
    {
     "name": "stdout",
     "output_type": "stream",
     "text": [
      "[[127244     60     16      0]\n",
      " [ 23891     25      7      0]\n",
      " [ 94746     10      6      0]\n",
      " ...\n",
      " [498432     65     15      0]\n",
      " [370915      5      4      1]\n",
      " [ 81993    140     14      0]]\n"
     ]
    }
   ],
   "source": [
    "file = np.loadtxt('minutes_n_ingredients.csv', delimiter=',', dtype='int32', skiprows=1)\n",
    "mask = (file[:, 1] <= 20) & (file[:, 2] <= 5)\n",
    "flag = np.arange(len(file)).reshape(-1, 1)\n",
    "flag[mask] = 1\n",
    "flag[~mask] = 0\n",
    "flag\n",
    "file_new = np.concatenate((file, flag), axis=1 )\n",
    "print(file_new)"
   ],
   "metadata": {
    "collapsed": false,
    "ExecuteTime": {
     "end_time": "2024-02-12T18:53:25.764742100Z",
     "start_time": "2024-02-12T18:53:25.665048900Z"
    }
   }
  },
  {
   "cell_type": "markdown",
   "metadata": {},
   "source": [
    "13. Выведите процент \"простых\" рецептов в датасете"
   ]
  },
  {
   "cell_type": "code",
   "execution_count": 265,
   "outputs": [
    {
     "name": "stdout",
     "output_type": "stream",
     "text": [
      "0.09552\n"
     ]
    }
   ],
   "source": [
    "al = len(file_new)\n",
    "temp = np.array(file_new[:, 3])\n",
    "simple = temp[temp == 1]\n",
    "res = len(simple) / al\n",
    "print(res)"
   ],
   "metadata": {
    "collapsed": false,
    "ExecuteTime": {
     "end_time": "2024-02-12T19:01:41.984268Z",
     "start_time": "2024-02-12T19:01:41.896041300Z"
    }
   }
  },
  {
   "cell_type": "markdown",
   "metadata": {},
   "source": [
    "14. Разделим рецепты на группы по следующему правилу. Назовем рецепты короткими, если их продолжительность составляет менее 10 минут; стандартными, если их продолжительность составляет более 10, но менее 20 минут; и длинными, если их продолжительность составляет не менее 20 минут. Создайте трехмерный массив, где нулевая ось отвечает за номер группы (короткий, стандартный или длинный рецепт), первая ось - за сам рецепт и вторая ось - за характеристики рецепта. Выберите максимальное количество рецептов из каждой группы таким образом, чтобы было возможно сформировать трехмерный массив. Выведите форму полученного массива."
   ]
  },
  {
   "cell_type": "code",
   "execution_count": 4,
   "metadata": {
    "ExecuteTime": {
     "end_time": "2024-02-12T16:02:38.814697400Z",
     "start_time": "2024-02-12T16:02:38.649457Z"
    }
   },
   "outputs": [],
   "source": []
  }
 ],
 "metadata": {
  "kernelspec": {
   "display_name": "Python 3 (ipykernel)",
   "language": "python",
   "name": "python3"
  },
  "language_info": {
   "codemirror_mode": {
    "name": "ipython",
    "version": 3
   },
   "file_extension": ".py",
   "mimetype": "text/x-python",
   "name": "python",
   "nbconvert_exporter": "python",
   "pygments_lexer": "ipython3",
   "version": "3.9.12"
  }
 },
 "nbformat": 4,
 "nbformat_minor": 4
}
