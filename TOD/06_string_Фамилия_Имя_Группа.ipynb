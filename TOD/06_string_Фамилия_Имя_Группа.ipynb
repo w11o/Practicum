{
 "cells": [
  {
   "cell_type": "markdown",
   "metadata": {},
   "source": [
    "# Работа со строковыми значениями"
   ]
  },
  {
   "cell_type": "markdown",
   "metadata": {},
   "source": [
    "__Автор задач: Блохин Н.В. (NVBlokhin@fa.ru)__\n",
    "\n",
    "Материалы:\n",
    "* Макрушин С.В. Лекция \"Работа со строковыми значениям\"\n",
    "* https://pyformat.info/\n",
    "* https://docs.python.org/3/library/re.html\n",
    "    * https://docs.python.org/3/library/re.html#flags\n",
    "    * https://docs.python.org/3/library/re.html#functions\n",
    "* https://pythonru.com/primery/primery-primeneniya-regulyarnyh-vyrazheniy-v-python\n",
    "* https://kanoki.org/2019/11/12/how-to-use-regex-in-pandas/\n",
    "* https://realpython.com/nltk-nlp-python/"
   ]
  },
  {
   "cell_type": "markdown",
   "metadata": {},
   "source": [
    "## Задачи для совместного разбора"
   ]
  },
  {
   "cell_type": "markdown",
   "metadata": {},
   "source": [
    "1. Вывести на экран данные из словаря `obj` построчно в виде `k = v`, задав формат таким образом, чтобы знак равенства оказался на одной и той же позиции во всех строках. Строковые литералы обернуть в кавычки."
   ]
  },
  {
   "cell_type": "code",
   "metadata": {
    "ExecuteTime": {
     "end_time": "2024-06-08T10:55:44.657110Z",
     "start_time": "2024-06-08T10:55:44.650390Z"
    }
   },
   "source": [
    "obj = {\n",
    "    \"home_page\": \"https://github.com/pypa/sampleproject\",\n",
    "    \"keywords\": \"sample setuptools development\",\n",
    "    \"license\": \"MIT\",\n",
    "}"
   ],
   "outputs": [],
   "execution_count": 5
  },
  {
   "cell_type": "markdown",
   "metadata": {},
   "source": [
    "2. Написать регулярное выражение,которое позволит найти номера групп студентов."
   ]
  },
  {
   "cell_type": "code",
   "metadata": {
    "ExecuteTime": {
     "end_time": "2024-06-08T10:55:45.480815Z",
     "start_time": "2024-06-08T10:55:45.453849Z"
    }
   },
   "source": [
    "obj = pd.Series([\"Евгения гр.ПМ19-1\", \"Илья пм 20-4\", \"Анна 20-3\"])\n",
    "obj"
   ],
   "outputs": [
    {
     "ename": "NameError",
     "evalue": "name 'pd' is not defined",
     "output_type": "error",
     "traceback": [
      "\u001B[1;31m---------------------------------------------------------------------------\u001B[0m",
      "\u001B[1;31mNameError\u001B[0m                                 Traceback (most recent call last)",
      "Cell \u001B[1;32mIn[6], line 1\u001B[0m\n\u001B[1;32m----> 1\u001B[0m obj \u001B[38;5;241m=\u001B[39m \u001B[43mpd\u001B[49m\u001B[38;5;241m.\u001B[39mSeries([\u001B[38;5;124m\"\u001B[39m\u001B[38;5;124mЕвгения гр.ПМ19-1\u001B[39m\u001B[38;5;124m\"\u001B[39m, \u001B[38;5;124m\"\u001B[39m\u001B[38;5;124mИлья пм 20-4\u001B[39m\u001B[38;5;124m\"\u001B[39m, \u001B[38;5;124m\"\u001B[39m\u001B[38;5;124mАнна 20-3\u001B[39m\u001B[38;5;124m\"\u001B[39m])\n\u001B[0;32m      2\u001B[0m obj\n",
      "\u001B[1;31mNameError\u001B[0m: name 'pd' is not defined"
     ]
    }
   ],
   "execution_count": 6
  },
  {
   "cell_type": "markdown",
   "metadata": {},
   "source": [
    "3. Разбейте текст формулировки задачи 2 на слова."
   ]
  },
  {
   "cell_type": "markdown",
   "metadata": {},
   "source": [
    "## Лабораторная работа 6"
   ]
  },
  {
   "cell_type": "markdown",
   "metadata": {},
   "source": [
    "### Форматирование строк"
   ]
  },
  {
   "metadata": {
    "ExecuteTime": {
     "end_time": "2024-06-08T10:55:59.370084Z",
     "start_time": "2024-06-08T10:55:55.723535Z"
    }
   },
   "cell_type": "code",
   "source": [
    "import pandas as pd\n",
    "import numpy as np\n",
    "from bs4 import BeautifulSoup\n"
   ],
   "outputs": [],
   "execution_count": 7
  },
  {
   "cell_type": "markdown",
   "metadata": {},
   "source": [
    "1\\. Загрузите данные из файла `recipes_sample.csv` (__ЛР2__) в виде `pd.DataFrame` `recipes` При помощи форматирования строк выведите информацию об id рецепта и времени выполнения 5 случайных рецептов в виде таблицы следующего вида:\n",
    "\n",
    "    \n",
    "    |      id      |  minutes  |\n",
    "    |--------------------------|\n",
    "    |    61178     |    65     |\n",
    "    |    202352    |    80     |\n",
    "    |    364322    |    150    |\n",
    "    |    26177     |    20     |\n",
    "    |    224785    |    35     |\n",
    "    \n",
    "Обратите внимание, что ширина столбцов заранее неизвестна и должна рассчитываться динамически, в зависимости от тех данных, которые были выбраны. "
   ]
  },
  {
   "metadata": {
    "ExecuteTime": {
     "end_time": "2024-06-08T10:56:01.377115Z",
     "start_time": "2024-06-08T10:56:00.605718Z"
    }
   },
   "cell_type": "code",
   "source": [
    "recipes_sample = pd.read_csv('data/recipes_sample.csv')\n",
    "\n",
    "data = [recipes_sample.iloc[i] for i in np.random.randint(0, len(recipes_sample), 5)]\n",
    "\n",
    "def f(a, b):\n",
    "    return f'|{a: ^15}|{b: ^15}|'\n",
    "print(f('id', 'minutes'))\n",
    "print(f'|{\"-\"*31}|')\n",
    "for i in data:\n",
    "    print(f(i['id'], i['minutes']))\n",
    "\n",
    "    "
   ],
   "outputs": [
    {
     "name": "stdout",
     "output_type": "stream",
     "text": [
      "|      id       |    minutes    |\n",
      "|-------------------------------|\n",
      "|    193732     |      15       |\n",
      "|    113913     |      35       |\n",
      "|     70886     |      52       |\n",
      "|    279600     |      73       |\n",
      "|    490865     |      10       |\n"
     ]
    }
   ],
   "execution_count": 8
  },
  {
   "cell_type": "markdown",
   "metadata": {},
   "source": [
    "2\\. Напишите функцию `show_info`, которая по данным о рецепте создает строку (в смысле объекта python) с описанием следующего вида:\n",
    "\n",
    "```\n",
    "\"Название Из Нескольких Слов\"\n",
    "\n",
    "1. Шаг 1\n",
    "2. Шаг 2\n",
    "----------\n",
    "Автор: contributor_id\n",
    "Среднее время приготовления: minutes минут\n",
    "```\n",
    "\n",
    "    \n",
    "Данные для создания строки получите из файлов `recipes_sample.csv` (__ЛР2__) и `steps_sample.xml` (__ЛР3__). \n",
    "Вызовите данную функцию для рецепта с id `170895` и выведите (через `print`) полученную строку на экран."
   ]
  },
  {
   "cell_type": "code",
   "metadata": {
    "ExecuteTime": {
     "end_time": "2024-06-08T10:56:02.883906Z",
     "start_time": "2024-06-08T10:56:02.849901Z"
    }
   },
   "source": [
    "data = recipes_sample.loc[recipes_sample['id'] == 170895]\n",
    "\n",
    "name = data['name'].values[0]\n",
    "author = data['contributor_id'].values[0]\n",
    "minutes = data['minutes'].values[0]\n",
    "\n",
    "with open('data/steps_sample_1.xml') as f:\n",
    "    dom_tree = BeautifulSoup(f, 'xml')\n",
    "    recipe = dom_tree.find('id', string='67664').find_parent('recipe')\n",
    "    \n",
    "    steps = [[i.get_text() for i in recipe.steps][i] for i in range(1, len(recipe.steps), 2)]\n",
    "  \n",
    "\n",
    "print(f'{name}\\n\\n1. {steps[0]}\\n2. {steps[1]}\\n3. {steps[2]}\\n{\"-\" * 10}\\nАвтор:  {author}\\nСреднее время приготовления: {minutes} минут ')\n"
   ],
   "outputs": [
    {
     "name": "stdout",
     "output_type": "stream",
     "text": [
      "leeks and parsnips  sauteed or creamed\n",
      "\n",
      "1. mix all the ingredients using a blender\n",
      "2. pour into popsicle molds\n",
      "3. freeze and enjoy !\n",
      "----------\n",
      "Автор:  8377\n",
      "Среднее время приготовления: 27 минут \n"
     ]
    }
   ],
   "execution_count": 9
  },
  {
   "cell_type": "markdown",
   "metadata": {},
   "source": [
    "## Работа с регулярными выражениями"
   ]
  },
  {
   "cell_type": "markdown",
   "metadata": {},
   "source": [
    "3\\. Напишите регулярное выражение, которое ищет следующий паттерн в строке: число (1 цифра или более), затем пробел, затем слова: hour или hours или minute или minutes. Произведите поиск по данному регулярному выражению в каждом шаге рецепта с id 25082. Выведите на экран все непустые результаты, найденные по данному шаблону."
   ]
  },
  {
   "metadata": {
    "ExecuteTime": {
     "end_time": "2024-06-08T12:12:57.757264Z",
     "start_time": "2024-06-08T12:12:57.677607Z"
    }
   },
   "cell_type": "code",
   "source": [
    "import requests\n",
    "from bs4 import BeautifulSoup\n",
    "import re\n",
    "\n",
    "with open('data/steps_sample_1.xml') as f:\n",
    "    ab = BeautifulSoup(f, 'xml')\n",
    "    recipe = ab.find('id', string='25082').find_parent('recipe')\n",
    "\n",
    "    steps = [[i.get_text() for i in recipe.steps][i] for i in range(1, len(recipe.steps), 2)] #нашли все этапы рецепта\n",
    "\n",
    "for i in steps:     \n",
    "    p = re.compile(r\"\\d+ ((hour|hours)|(minute|minutes))\", re.I)\n",
    "    res = p.findall(i)\n",
    "    if bool(res):\n",
    "        print(i)        #проверили все шаги на соответствие регулярному выражению"
   ],
   "outputs": [
    {
     "name": "stdout",
     "output_type": "stream",
     "text": [
      "turn out onto a lightly floured board and knead for about 20 minutes , adding flour as nescessary to keep the dough from sticking to the board\n",
      "when it has been sufficiently kneaded , cover it with a damp cloth for about 10 minutes and wash and grease the bowl lightly\n",
      "let the dough rise until it springs back when you stick your finger in it , and it is about twice the size as it was before (this takes about 2 hours\n",
      "when the dough has risen twice , deflate it again and cover it with the damp cloth again for about 10 minutes , then divide it into and shape it into loaves , buns , etc\n",
      "bake at 400 for 20 minutes , and then turn the oven down to 350 and bake for 20-30 minutes longer , until the loaf is a lovely brown and sounds hollow when you thump it on the bottom\n"
     ]
    }
   ],
   "execution_count": 86
  },
  {
   "metadata": {
    "ExecuteTime": {
     "end_time": "2024-06-08T12:42:50.240247Z",
     "start_time": "2024-06-08T12:42:50.178708Z"
    }
   },
   "cell_type": "code",
   "source": [
    "def steps_finder3000(step_id: str = None):\n",
    "    with open('data/steps_sample_1.xml') as f:\n",
    "        ab = BeautifulSoup(f, 'xml')\n",
    "        recipe = ab.find('id', string=step_id).find_parent('recipe')\n",
    "    \n",
    "        steps = [[i.get_text() for i in recipe.steps][i] for i in range(1, len(recipe.steps), 2)]\n",
    "        \n",
    "        return steps"
   ],
   "outputs": [
    {
     "name": "stdout",
     "output_type": "stream",
     "text": [
      "['proof yeast in half a cup of the water , with about a teaspoon of flour- let it sit , covered , until it becomes bubbly& active', 'combine the rest of the water with the yeast / water in a large bowl , and gradually add about half of the flour', 'stir the mixture about 100 times in the same direction , until it is well-mixed and strands are beginning to form', 'stir in the salt and oil', 'add the remaining flour half a cup at a time , stirring well , until it is too stiff to stir with a spoon', 'turn out onto a lightly floured board and knead for about 20 minutes , adding flour as nescessary to keep the dough from sticking to the board', 'the dough should be springy and nice to work with', 'when it has been sufficiently kneaded , cover it with a damp cloth for about 10 minutes and wash and grease the bowl lightly', 'after it has rested , knead the dough a few more times and place it in the bowl , covered with the damp cloth , a plastic bag , and maybe a plate', 'let the dough rise until it springs back when you stick your finger in it , and it is about twice the size as it was before (this takes about 2 hours', 'longer or shorter depending on the room temperature- i prefer a longer rise , because it allows the flavour to develop more', \"but sometimes you just don't have time for that sort of thing)\", 'deflate the dough by punching or kneading it a few times , and let it rise again- this time , it should take about half the amount of time as it did before', 'when the dough has risen twice , deflate it again and cover it with the damp cloth again for about 10 minutes , then divide it into and shape it into loaves , buns , etc', 'let the shaped dough rise on a baking sheet or in a loaf-pan for about an hour maybe- it will rise a bit more in the oven', \"slash the top of the bread if you want , so that it doesn't bust open in the oven\", 'bake at 400 for 20 minutes , and then turn the oven down to 350 and bake for 20-30 minutes longer , until the loaf is a lovely brown and sounds hollow when you thump it on the bottom', 'try to let the loaf cool before you tear into it']\n"
     ]
    }
   ],
   "execution_count": 140
  },
  {
   "cell_type": "markdown",
   "metadata": {},
   "source": [
    "4\\. Напишите регулярное выражение, которое ищет шаблон вида \"this..., but\" _в начале строки_ . Между словом \"this\" и частью \", but\" может находиться произвольное число букв, цифр, знаков подчеркивания и пробелов. Никаких других символов вместо многоточия быть не может. Пробел между запятой и словом \"but\" может присутствовать или отсутствовать.\n",
    "\n",
    "Используя строковые методы `pd.Series`, выясните, для каких рецептов данный шаблон содержится в тексте описания. Выведите на экран количество таких рецептов и 3 примера подходящих описаний (текст описания должен быть виден на экране полностью)."
   ]
  },
  {
   "metadata": {
    "ExecuteTime": {
     "end_time": "2024-06-08T12:34:05.121341Z",
     "start_time": "2024-06-08T12:34:05.066415Z"
    }
   },
   "cell_type": "code",
   "source": [
    "res = recipes_sample[recipes_sample['description'].str.match(r\"this [^!.,]*, but \", na=False)]\n",
    "print(*list(res['description'].head(3)), sep='\\n\\n' )\n",
    "print(f'\\n\\nlength = {len(res)}')\n"
   ],
   "outputs": [
    {
     "name": "stdout",
     "output_type": "stream",
     "text": [
      "this was adapted from a recipe i found on the net, but i added julienne onion to the peppers.  this is a meal in itself, or you could have a small slice with a meat dish.  for those that like to have brunch, it's a bit different to your traditional quiche recipes.  if you love cheese, you could add 1/2 cup of your favorite to the egg mixture, then pour over peppers.\n",
      "\n",
      "this is kind of similar to some of the other versions out there, but it is the best and easiest i have found\n",
      "\n",
      "this recipe was originally made into a 9\" pie, but i sometimes enjoy the simplicity of using it as a pudding! the junket brand danish dessert also comes in a raspberry flavor, if you can find it on the grocery shelf! preparation time does not include time needed to chill.\n",
      "\n",
      "\n",
      "length = 161\n"
     ]
    }
   ],
   "execution_count": 136
  },
  {
   "cell_type": "markdown",
   "metadata": {},
   "source": [
    "5\\. В текстах шагов рецептов обыкновенные дроби имеют вид \"a / b\". Используя регулярные выражения, уберите в тексте шагов рецепта с id 72367 пробелы до и после символа дроби. Выведите на экран шаги этого рецепта после их изменения."
   ]
  },
  {
   "metadata": {
    "ExecuteTime": {
     "end_time": "2024-06-08T13:19:09.456551Z",
     "start_time": "2024-06-08T13:19:09.364163Z"
    }
   },
   "cell_type": "code",
   "source": [
    "steps = steps_finder3000('72367')\n",
    "for i in range(len(steps)):\n",
    "    p = re.compile(r\"[0-9] / [0-9]\", re.I)\n",
    "    res = p.findall(steps[i])\n",
    "    if res:\n",
    "        steps[i] = re.sub(r\"( / )\", \"/\", steps[i])\n",
    "\n",
    "print(*steps, sep='\\n' )"
   ],
   "outputs": [
    {
     "name": "stdout",
     "output_type": "stream",
     "text": [
      "mix butter , flour , 1/3 c\n",
      "sugar and 1-1/4 t\n",
      "vanilla\n",
      "press into greased 9\" springform pan\n",
      "mix cream cheese , 1/4 c\n",
      "sugar , eggs and 1/2 t\n",
      "vanilla beating until fluffy\n",
      "pour over dough\n",
      "combine apples , 1/3 c\n",
      "sugar and cinnamon\n",
      "arrange on top of cream cheese mixture and sprinkle with almonds\n",
      "bake at 350 for 45-55 minutes , or until tester comes out clean\n"
     ]
    }
   ],
   "execution_count": 184
  },
  {
   "cell_type": "markdown",
   "metadata": {},
   "source": [
    "### Сегментация текста"
   ]
  },
  {
   "cell_type": "markdown",
   "metadata": {},
   "source": [
    "6\\. Разбейте тексты шагов рецептов на слова при помощи пакета `nltk`. Посчитайте и выведите на экран кол-во уникальных слов среди всех рецептов. Словом называется любая последовательность алфавитных символов (для проверки можно воспользоваться `str.isalpha`). При подсчете количества уникальных слов не учитывайте регистр."
   ]
  },
  {
   "metadata": {
    "ExecuteTime": {
     "end_time": "2024-06-08T14:32:52.575564Z",
     "start_time": "2024-06-08T14:32:52.567226Z"
    }
   },
   "cell_type": "code",
   "source": [
    "from nltk.tokenize.toktok import ToktokTokenizer\n",
    "from nltk.tokenize import sent_tokenize\n",
    "from nltk.tokenize import word_tokenize\n",
    "from nltk import pos_tag\n",
    "\n",
    "toktok = ToktokTokenizer()\n",
    "\n",
    "tokens = toktok.tokenize(' '.join(steps))\n",
    "\n",
    "unique_tokens = set(tokens)\n",
    "\n",
    "print(len(unique_tokens))"
   ],
   "outputs": [
    {
     "name": "stdout",
     "output_type": "stream",
     "text": [
      "99\n"
     ]
    }
   ],
   "execution_count": 265
  },
  {
   "cell_type": "markdown",
   "metadata": {},
   "source": "7. Разбейте описания рецептов из `recipes` на предложения при помощи пакета `nltk`. Найдите 5 самых длинных описаний (по количеству _предложений_) рецептов в датасете и выведите строки фрейма, соответствующие этим рецептами, в порядке убывания длины."
  },
  {
   "metadata": {
    "ExecuteTime": {
     "end_time": "2024-06-08T14:22:51.927550Z",
     "start_time": "2024-06-08T14:22:48.438176Z"
    }
   },
   "cell_type": "code",
   "source": [
    "res=[]\n",
    "for i in range(len(recipes_sample['description'])):\n",
    "    if type(recipes_sample['description'][i]) == str:      \n",
    "        res.append( (len(sent_tokenize(recipes_sample['description'][i])), i) )\n",
    "        \n",
    "for j, i in (sorted(res)[::-1][:5]):\n",
    "    print(recipes_sample.iloc[i])\n",
    "    print(f'sentances = {j}')"
   ],
   "outputs": [
    {
     "name": "stdout",
     "output_type": "stream",
     "text": [
      "name                   my favorite buttercream icing for decorating\n",
      "id                                                           334113\n",
      "minutes                                                          30\n",
      "contributor_id                                               681465\n",
      "submitted                                                2008-10-30\n",
      "n_steps                                                        12.0\n",
      "description       this wonderful icing is used for icing cakes a...\n",
      "n_ingredients                                                   NaN\n",
      "Name: 18408, dtype: object\n",
      "sentances = 76\n",
      "name              alligator claws  avocado fritters  with chipot...\n",
      "id                                                           287008\n",
      "minutes                                                          45\n",
      "contributor_id                                               765354\n",
      "submitted                                                2008-02-19\n",
      "n_steps                                                         NaN\n",
      "description       a translucent golden-brown crust allows the gr...\n",
      "n_ingredients                                                   9.0\n",
      "Name: 481, dtype: object\n",
      "sentances = 27\n",
      "name                                      rich barley mushroom soup\n",
      "id                                                           328708\n",
      "minutes                                                          60\n",
      "contributor_id                                               221776\n",
      "submitted                                                2008-10-03\n",
      "n_steps                                                         NaN\n",
      "description       this is one of the best soups i've ever made a...\n",
      "n_ingredients                                                  10.0\n",
      "Name: 22566, dtype: object\n",
      "sentances = 24\n",
      "name              little bunny foo foo cake  carrot cake  with c...\n",
      "id                                                           316000\n",
      "minutes                                                          68\n",
      "contributor_id                                               689540\n",
      "submitted                                                2008-07-27\n",
      "n_steps                                                        14.0\n",
      "description       the first time i made this cake i grated a mil...\n",
      "n_ingredients                                                   NaN\n",
      "Name: 16296, dtype: object\n",
      "sentances = 23\n",
      "name                                                  chocolate tea\n",
      "id                                                           205348\n",
      "minutes                                                           6\n",
      "contributor_id                                               428824\n",
      "submitted                                                2007-01-14\n",
      "n_steps                                                         NaN\n",
      "description       i wrote this because there are an astounding l...\n",
      "n_ingredients                                                   NaN\n",
      "Name: 6779, dtype: object\n",
      "sentances = 23\n"
     ]
    }
   ],
   "execution_count": 260
  },
  {
   "cell_type": "markdown",
   "metadata": {},
   "source": [
    "8. Напишите функцию, которая для заданного предложения выводит информацию о частях речи слов, входящих в предложение, в следующем виде:\n",
    "```\n",
    "PRP   VBD   DT      NNS     CC   VBD      NNS        RB   \n",
    " I  omitted the raspberries and added strawberries instead\n",
    "``` \n",
    "Для определения части речи слова можно воспользоваться `nltk.pos_tag`.\n",
    "\n",
    "Проверьте работоспособность функции на названии рецепта с id 241106.\n",
    "\n",
    "Обратите внимание, что часть речи должна находиться ровно посередине над соотвествующим словом, а между самими словами должен быть ровно один пробел.\n"
   ]
  },
  {
   "metadata": {
    "ExecuteTime": {
     "end_time": "2024-06-08T14:46:18.881137Z",
     "start_time": "2024-06-08T14:46:18.845433Z"
    }
   },
   "cell_type": "code",
   "source": [
    "steps = steps_finder3000('241106')\n",
    "text = ' '.join(steps)\n",
    "tokens = word_tokenize(text)\n",
    "tagged_tokens = pos_tag(tokens)\n",
    "\n",
    "for i in tagged_tokens[:5]:\n",
    "    print(i[1], end = ' ')\n",
    "\n",
    "print()\n",
    "\n",
    "for j in tagged_tokens[:5]:\n",
    "    print(j[0], end= ' ')"
   ],
   "outputs": [
    {
     "name": "stdout",
     "output_type": "stream",
     "text": [
      "TO VB DT JJ NN \n",
      "to make the balsamic marinade "
     ]
    }
   ],
   "execution_count": 295
  }
 ],
 "metadata": {
  "kernelspec": {
   "display_name": "Python 3 (ipykernel)",
   "language": "python",
   "name": "python3"
  },
  "language_info": {
   "codemirror_mode": {
    "name": "ipython",
    "version": 3
   },
   "file_extension": ".py",
   "mimetype": "text/x-python",
   "name": "python",
   "nbconvert_exporter": "python",
   "pygments_lexer": "ipython3",
   "version": "3.9.7"
  }
 },
 "nbformat": 4,
 "nbformat_minor": 4
}
