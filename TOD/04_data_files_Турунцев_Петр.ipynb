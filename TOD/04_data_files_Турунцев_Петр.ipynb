{
 "cells": [
  {
   "cell_type": "markdown",
   "metadata": {},
   "source": [
    "# Форматы данных (1)"
   ]
  },
  {
   "cell_type": "markdown",
   "metadata": {},
   "source": [
    "Материалы:\n",
    "* Макрушин С.В. \"Лекция 4: Форматы данных\"\n",
    "* https://docs.python.org/3/library/json.html\n",
    "* https://docs.python.org/3/library/pickle.html\n",
    "* https://www.crummy.com/software/BeautifulSoup/bs4/doc.ru/bs4ru.html\n",
    "* Уэс Маккини. Python и анализ данных"
   ]
  },
  {
   "cell_type": "markdown",
   "metadata": {},
   "source": [
    "## Задачи для совместного разбора"
   ]
  },
  {
   "cell_type": "markdown",
   "metadata": {},
   "source": [
    "1. Вывести все адреса электронной почты, содержащиеся в адресной книге `addres-book.json`"
   ]
  },
  {
   "cell_type": "code",
   "execution_count": 108,
   "outputs": [
    {
     "name": "stdout",
     "output_type": "stream",
     "text": [
      "faina@mail.ru robert@mail.ru\n"
     ]
    }
   ],
   "source": [
    "import json\n",
    "import pickle\n",
    "import pandas as pd\n",
    "import requests\n",
    "from bs4 import BeautifulSoup\n",
    "\n",
    "with open ('C:/Users/Wiio/PycharmProjects/Makrushin_TOD/TOD_Homework_3/data/addres-book.json') as f:\n",
    "    templates = json.load(f)\n",
    "    \n",
    "\n",
    "\n",
    "def json_selector(data: list, param: str) -> str:\n",
    "    res = []\n",
    "    for i in data:\n",
    "        res.append(i[param])\n",
    "    return res\n",
    "        \n",
    "print(*json_selector(templates, 'email'))"
   ],
   "metadata": {
    "collapsed": false,
    "ExecuteTime": {
     "end_time": "2024-03-04T19:10:05.626455900Z",
     "start_time": "2024-03-04T19:10:05.256451700Z"
    }
   }
  },
  {
   "cell_type": "markdown",
   "metadata": {},
   "source": [
    "2. Вывести телефоны, содержащиеся в адресной книге `addres-book.json`"
   ]
  },
  {
   "cell_type": "code",
   "execution_count": 109,
   "outputs": [
    {
     "name": "stdout",
     "output_type": "stream",
     "text": [
      "232-19-55\n",
      "+7 (916) 232-19-55\n",
      "\n",
      "111-19-55\n",
      "+7 (916) 445-19-55\n"
     ]
    }
   ],
   "source": [
    "for i in json_selector(templates, 'phones'):\n",
    "    for j in i:\n",
    "        print(j['phone'])\n",
    "    print()"
   ],
   "metadata": {
    "collapsed": false,
    "ExecuteTime": {
     "end_time": "2024-03-04T19:10:05.698455800Z",
     "start_time": "2024-03-04T19:10:05.305453500Z"
    }
   }
  },
  {
   "cell_type": "markdown",
   "metadata": {},
   "source": [
    "3. По данным из файла `addres-book-q.xml` сформировать список словарей с телефонами каждого из людей. "
   ]
  },
  {
   "cell_type": "code",
   "execution_count": 109,
   "outputs": [],
   "source": [],
   "metadata": {
    "collapsed": false,
    "ExecuteTime": {
     "end_time": "2024-03-04T19:10:05.749470100Z",
     "start_time": "2024-03-04T19:10:05.351453Z"
    }
   }
  },
  {
   "cell_type": "markdown",
   "metadata": {},
   "source": [
    "## Лабораторная работа №4"
   ]
  },
  {
   "cell_type": "markdown",
   "metadata": {},
   "source": [
    "### JSON"
   ]
  },
  {
   "cell_type": "markdown",
   "metadata": {},
   "source": [
    "1.1 Считайте файл `contributors_sample.json`. Воспользовавшись модулем `json`, преобразуйте содержимое файла в соответствующие объекты python. Выведите на экран информацию о первых 3 пользователях."
   ]
  },
  {
   "cell_type": "code",
   "execution_count": 110,
   "outputs": [
    {
     "name": "stdout",
     "output_type": "stream",
     "text": [
      "{'username': 'uhebert', 'name': 'Lindsey Nguyen', 'sex': 'F', 'address': '01261 Cameron Spring\\nTaylorfurt, AK 97791', 'mail': 'jsalazar@gmail.com', 'jobs': ['Energy engineer', 'Engineer, site', 'Environmental health practitioner', 'Biomedical scientist', 'Jewellery designer'], 'id': 35193}\n",
      "{'username': 'vickitaylor', 'name': 'Cheryl Lewis', 'sex': 'F', 'address': '66992 Welch Brooks\\nMarshallshire, ID 56004', 'mail': 'bhudson@gmail.com', 'jobs': ['Music therapist', 'Volunteer coordinator', 'Designer, interior/spatial'], 'id': 91970}\n",
      "{'username': 'sheilaadams', 'name': 'Julia Allen', 'sex': 'F', 'address': 'Unit 1632 Box 2971\\nDPO AE 23297', 'mail': 'darren44@yahoo.com', 'jobs': ['Management consultant', 'Engineer, structural', 'Lecturer, higher education', 'Theatre manager', 'Designer, textile'], 'id': 1848091}\n"
     ]
    }
   ],
   "source": [
    "import json\n",
    "with open ('C:/Users/Wiio/PycharmProjects/Makrushin_TOD/TOD_Homework_3/data/contributors_sample.json') as f:\n",
    "    templates = json.load(f)\n",
    "for i in range(3):\n",
    "    print(templates[i])"
   ],
   "metadata": {
    "collapsed": false,
    "ExecuteTime": {
     "end_time": "2024-03-04T19:10:05.757450500Z",
     "start_time": "2024-03-04T19:10:05.403463600Z"
    }
   }
  },
  {
   "cell_type": "markdown",
   "metadata": {},
   "source": [
    "    1.2 Выведите уникальные почтовые домены, содержащиеся в почтовых адресах людей"
   ]
  },
  {
   "cell_type": "code",
   "execution_count": 111,
   "outputs": [
    {
     "data": {
      "text/plain": "{'@gmail.com', '@hotmail.com', '@yahoo.com'}"
     },
     "execution_count": 111,
     "metadata": {},
     "output_type": "execute_result"
    }
   ],
   "source": [
    "set((i[i.index('@'):] for i in json_selector(templates, 'mail')))"
   ],
   "metadata": {
    "collapsed": false,
    "ExecuteTime": {
     "end_time": "2024-03-04T19:10:05.759452100Z",
     "start_time": "2024-03-04T19:10:05.470455200Z"
    }
   }
  },
  {
   "cell_type": "markdown",
   "metadata": {},
   "source": [
    "1.3 Напишите функцию, которая по `username` ищет человека и выводит информацию о нем. Если пользователь с заданным `username` отсутствует, возбудите исключение `ValueError`"
   ]
  },
  {
   "cell_type": "code",
   "execution_count": 112,
   "outputs": [
    {
     "name": "stdout",
     "output_type": "stream",
     "text": [
      "[{'username': 'sheilaadams', 'name': 'Julia Allen', 'sex': 'F', 'address': 'Unit 1632 Box 2971\\nDPO AE 23297', 'mail': 'darren44@yahoo.com', 'jobs': ['Management consultant', 'Engineer, structural', 'Lecturer, higher education', 'Theatre manager', 'Designer, textile'], 'id': 1848091}]\n"
     ]
    },
    {
     "ename": "ValueError",
     "evalue": "User not found",
     "output_type": "error",
     "traceback": [
      "\u001B[1;31m---------------------------------------------------------------------------\u001B[0m",
      "\u001B[1;31mValueError\u001B[0m                                Traceback (most recent call last)",
      "Cell \u001B[1;32mIn[112], line 10\u001B[0m\n\u001B[0;32m      8\u001B[0m     \u001B[38;5;28;01mreturn\u001B[39;00m res\n\u001B[0;32m      9\u001B[0m \u001B[38;5;28mprint\u001B[39m(find_by_name(templates, \u001B[38;5;124m'\u001B[39m\u001B[38;5;124msheilaadams\u001B[39m\u001B[38;5;124m'\u001B[39m))\n\u001B[1;32m---> 10\u001B[0m \u001B[43mfind_by_name\u001B[49m\u001B[43m(\u001B[49m\u001B[43mtemplates\u001B[49m\u001B[43m,\u001B[49m\u001B[43m \u001B[49m\u001B[38;5;124;43m'\u001B[39;49m\u001B[38;5;124;43msheilaadam\u001B[39;49m\u001B[38;5;124;43m'\u001B[39;49m\u001B[43m)\u001B[49m\n",
      "Cell \u001B[1;32mIn[112], line 7\u001B[0m, in \u001B[0;36mfind_by_name\u001B[1;34m(data, username)\u001B[0m\n\u001B[0;32m      5\u001B[0m         res\u001B[38;5;241m.\u001B[39mappend(i)\n\u001B[0;32m      6\u001B[0m \u001B[38;5;28;01mif\u001B[39;00m \u001B[38;5;28mlen\u001B[39m(res) \u001B[38;5;241m==\u001B[39m \u001B[38;5;241m0\u001B[39m:\n\u001B[1;32m----> 7\u001B[0m     \u001B[38;5;28;01mraise\u001B[39;00m \u001B[38;5;167;01mValueError\u001B[39;00m(\u001B[38;5;124m'\u001B[39m\u001B[38;5;124mUser not found\u001B[39m\u001B[38;5;124m'\u001B[39m)\n\u001B[0;32m      8\u001B[0m \u001B[38;5;28;01mreturn\u001B[39;00m res\n",
      "\u001B[1;31mValueError\u001B[0m: User not found"
     ]
    }
   ],
   "source": [
    "def find_by_name(data, username: str) -> json:\n",
    "    res=[]\n",
    "    for i in data:\n",
    "        if i['username'] == username:\n",
    "            res.append(i)\n",
    "    if len(res) == 0:\n",
    "        raise ValueError('User not found')\n",
    "    return res\n",
    "print(find_by_name(templates, 'sheilaadams'))\n",
    "find_by_name(templates, 'sheilaadam')"
   ],
   "metadata": {
    "collapsed": false,
    "ExecuteTime": {
     "end_time": "2024-03-04T19:10:05.760464900Z",
     "start_time": "2024-03-04T19:10:05.516454700Z"
    }
   }
  },
  {
   "cell_type": "markdown",
   "metadata": {},
   "source": [
    "1.4 Посчитайте, сколько мужчин и женщин присутсвует в этом наборе данных."
   ]
  },
  {
   "cell_type": "code",
   "execution_count": null,
   "outputs": [],
   "source": [
    "al = json_selector(templates, 'sex')\n",
    "print(f'Женщин: {al.count(\"F\")}\\nМужчин: {al.count(\"M\")}')"
   ],
   "metadata": {
    "collapsed": false,
    "ExecuteTime": {
     "start_time": "2024-03-04T19:10:05.564457200Z"
    }
   }
  },
  {
   "cell_type": "markdown",
   "metadata": {},
   "source": [
    "1.5 Создайте `pd.DataFrame` `contributors`, имеющий столбцы `id`, `username` и `sex`."
   ]
  },
  {
   "cell_type": "code",
   "execution_count": 114,
   "outputs": [
    {
     "data": {
      "text/plain": "           id       username sex\n0       35193        uhebert   F\n1       91970    vickitaylor   F\n2     1848091    sheilaadams   F\n3       50969       nicole82   F\n4      676820         jean67   M\n...       ...            ...  ..\n4195   423555  stevenspencer   F\n4196    35251      rwilliams   M\n4197   135887      lmartinez   F\n4198   212714     brendahill   M\n4199   344321       mistyray   F\n\n[4200 rows x 3 columns]",
      "text/html": "<div>\n<style scoped>\n    .dataframe tbody tr th:only-of-type {\n        vertical-align: middle;\n    }\n\n    .dataframe tbody tr th {\n        vertical-align: top;\n    }\n\n    .dataframe thead th {\n        text-align: right;\n    }\n</style>\n<table border=\"1\" class=\"dataframe\">\n  <thead>\n    <tr style=\"text-align: right;\">\n      <th></th>\n      <th>id</th>\n      <th>username</th>\n      <th>sex</th>\n    </tr>\n  </thead>\n  <tbody>\n    <tr>\n      <th>0</th>\n      <td>35193</td>\n      <td>uhebert</td>\n      <td>F</td>\n    </tr>\n    <tr>\n      <th>1</th>\n      <td>91970</td>\n      <td>vickitaylor</td>\n      <td>F</td>\n    </tr>\n    <tr>\n      <th>2</th>\n      <td>1848091</td>\n      <td>sheilaadams</td>\n      <td>F</td>\n    </tr>\n    <tr>\n      <th>3</th>\n      <td>50969</td>\n      <td>nicole82</td>\n      <td>F</td>\n    </tr>\n    <tr>\n      <th>4</th>\n      <td>676820</td>\n      <td>jean67</td>\n      <td>M</td>\n    </tr>\n    <tr>\n      <th>...</th>\n      <td>...</td>\n      <td>...</td>\n      <td>...</td>\n    </tr>\n    <tr>\n      <th>4195</th>\n      <td>423555</td>\n      <td>stevenspencer</td>\n      <td>F</td>\n    </tr>\n    <tr>\n      <th>4196</th>\n      <td>35251</td>\n      <td>rwilliams</td>\n      <td>M</td>\n    </tr>\n    <tr>\n      <th>4197</th>\n      <td>135887</td>\n      <td>lmartinez</td>\n      <td>F</td>\n    </tr>\n    <tr>\n      <th>4198</th>\n      <td>212714</td>\n      <td>brendahill</td>\n      <td>M</td>\n    </tr>\n    <tr>\n      <th>4199</th>\n      <td>344321</td>\n      <td>mistyray</td>\n      <td>F</td>\n    </tr>\n  </tbody>\n</table>\n<p>4200 rows × 3 columns</p>\n</div>"
     },
     "execution_count": 114,
     "metadata": {},
     "output_type": "execute_result"
    }
   ],
   "source": [
    "from functools import partial\n",
    "json_selector_2 = partial(json_selector, data=templates)\n",
    "\n",
    "contributors = pd.DataFrame({'id':json_selector_2(param='id'),\n",
    "                      'username':json_selector_2(param='username'),\n",
    "                      'sex':json_selector_2(param='sex')})\n",
    "contributors"
   ],
   "metadata": {
    "collapsed": false,
    "ExecuteTime": {
     "end_time": "2024-03-04T19:10:26.630519Z",
     "start_time": "2024-03-04T19:10:26.572521100Z"
    }
   }
  },
  {
   "cell_type": "markdown",
   "metadata": {},
   "source": [
    "1.6 Загрузите данные из файла `recipes_sample.csv` (__ЛР2__) в таблицу `recipes`. Объедините `recipes` с таблицей `contributors` с сохранением строк в том случае, если информация о человеке отсутствует в JSON-файле. Для скольких человек информация отсутствует? "
   ]
  },
  {
   "cell_type": "code",
   "execution_count": 124,
   "outputs": [
    {
     "data": {
      "text/plain": "                                             name          id  minutes  \\\n0                                boston cream pie          48    135.0   \n1      betty crocker s southwestern guacamole dip          55    125.0   \n2                     black coffee barbecue sauce          66     30.0   \n3                  brown rice and vegetable pilaf          91    150.0   \n4                           blueberry buttertarts          94     40.0   \n...                                           ...         ...      ...   \n34025                                         NaN  2001662740      NaN   \n34026                                         NaN  2001896867      NaN   \n34027                                         NaN  2001968497      NaN   \n34028                                         NaN  2002059754      NaN   \n34029                                         NaN  2002247884      NaN   \n\n       contributor_id  submitted  n_steps  \\\n0              1545.0 1999-08-24     32.0   \n1              1538.0 1999-09-15      NaN   \n2            174711.0 1999-09-10      NaN   \n3              1576.0 1999-09-06      NaN   \n4              1556.0 1999-09-12      8.0   \n...               ...        ...      ...   \n34025             NaN        NaT      NaN   \n34026             NaN        NaT      NaN   \n34027             NaN        NaT      NaN   \n34028             NaN        NaT      NaN   \n34029             NaN        NaT      NaN   \n\n                                             description  n_ingredients  \\\n0                                                    NaN           15.0   \n1                                                    NaN            5.0   \n2      it's great to know folks like this sauce so mu...           11.0   \n3              this is good with almost anything... robb            NaN   \n4                                                    NaN            NaN   \n...                                                  ...            ...   \n34025                                                NaN            NaN   \n34026                                                NaN            NaN   \n34027                                                NaN            NaN   \n34028                                                NaN            NaN   \n34029                                                NaN            NaN   \n\n         username  sex  \n0             NaN  NaN  \n1             NaN  NaN  \n2             NaN  NaN  \n3             NaN  NaN  \n4             NaN  NaN  \n...           ...  ...  \n34025    ejackson    M  \n34026      fcline    F  \n34027  ugutierrez    M  \n34028   anthony87    M  \n34029    martin01    F  \n\n[34030 rows x 10 columns]",
      "text/html": "<div>\n<style scoped>\n    .dataframe tbody tr th:only-of-type {\n        vertical-align: middle;\n    }\n\n    .dataframe tbody tr th {\n        vertical-align: top;\n    }\n\n    .dataframe thead th {\n        text-align: right;\n    }\n</style>\n<table border=\"1\" class=\"dataframe\">\n  <thead>\n    <tr style=\"text-align: right;\">\n      <th></th>\n      <th>name</th>\n      <th>id</th>\n      <th>minutes</th>\n      <th>contributor_id</th>\n      <th>submitted</th>\n      <th>n_steps</th>\n      <th>description</th>\n      <th>n_ingredients</th>\n      <th>username</th>\n      <th>sex</th>\n    </tr>\n  </thead>\n  <tbody>\n    <tr>\n      <th>0</th>\n      <td>boston cream pie</td>\n      <td>48</td>\n      <td>135.0</td>\n      <td>1545.0</td>\n      <td>1999-08-24</td>\n      <td>32.0</td>\n      <td>NaN</td>\n      <td>15.0</td>\n      <td>NaN</td>\n      <td>NaN</td>\n    </tr>\n    <tr>\n      <th>1</th>\n      <td>betty crocker s southwestern guacamole dip</td>\n      <td>55</td>\n      <td>125.0</td>\n      <td>1538.0</td>\n      <td>1999-09-15</td>\n      <td>NaN</td>\n      <td>NaN</td>\n      <td>5.0</td>\n      <td>NaN</td>\n      <td>NaN</td>\n    </tr>\n    <tr>\n      <th>2</th>\n      <td>black coffee barbecue sauce</td>\n      <td>66</td>\n      <td>30.0</td>\n      <td>174711.0</td>\n      <td>1999-09-10</td>\n      <td>NaN</td>\n      <td>it's great to know folks like this sauce so mu...</td>\n      <td>11.0</td>\n      <td>NaN</td>\n      <td>NaN</td>\n    </tr>\n    <tr>\n      <th>3</th>\n      <td>brown rice and vegetable pilaf</td>\n      <td>91</td>\n      <td>150.0</td>\n      <td>1576.0</td>\n      <td>1999-09-06</td>\n      <td>NaN</td>\n      <td>this is good with almost anything... robb</td>\n      <td>NaN</td>\n      <td>NaN</td>\n      <td>NaN</td>\n    </tr>\n    <tr>\n      <th>4</th>\n      <td>blueberry buttertarts</td>\n      <td>94</td>\n      <td>40.0</td>\n      <td>1556.0</td>\n      <td>1999-09-12</td>\n      <td>8.0</td>\n      <td>NaN</td>\n      <td>NaN</td>\n      <td>NaN</td>\n      <td>NaN</td>\n    </tr>\n    <tr>\n      <th>...</th>\n      <td>...</td>\n      <td>...</td>\n      <td>...</td>\n      <td>...</td>\n      <td>...</td>\n      <td>...</td>\n      <td>...</td>\n      <td>...</td>\n      <td>...</td>\n      <td>...</td>\n    </tr>\n    <tr>\n      <th>34025</th>\n      <td>NaN</td>\n      <td>2001662740</td>\n      <td>NaN</td>\n      <td>NaN</td>\n      <td>NaT</td>\n      <td>NaN</td>\n      <td>NaN</td>\n      <td>NaN</td>\n      <td>ejackson</td>\n      <td>M</td>\n    </tr>\n    <tr>\n      <th>34026</th>\n      <td>NaN</td>\n      <td>2001896867</td>\n      <td>NaN</td>\n      <td>NaN</td>\n      <td>NaT</td>\n      <td>NaN</td>\n      <td>NaN</td>\n      <td>NaN</td>\n      <td>fcline</td>\n      <td>F</td>\n    </tr>\n    <tr>\n      <th>34027</th>\n      <td>NaN</td>\n      <td>2001968497</td>\n      <td>NaN</td>\n      <td>NaN</td>\n      <td>NaT</td>\n      <td>NaN</td>\n      <td>NaN</td>\n      <td>NaN</td>\n      <td>ugutierrez</td>\n      <td>M</td>\n    </tr>\n    <tr>\n      <th>34028</th>\n      <td>NaN</td>\n      <td>2002059754</td>\n      <td>NaN</td>\n      <td>NaN</td>\n      <td>NaT</td>\n      <td>NaN</td>\n      <td>NaN</td>\n      <td>NaN</td>\n      <td>anthony87</td>\n      <td>M</td>\n    </tr>\n    <tr>\n      <th>34029</th>\n      <td>NaN</td>\n      <td>2002247884</td>\n      <td>NaN</td>\n      <td>NaN</td>\n      <td>NaT</td>\n      <td>NaN</td>\n      <td>NaN</td>\n      <td>NaN</td>\n      <td>martin01</td>\n      <td>F</td>\n    </tr>\n  </tbody>\n</table>\n<p>34030 rows × 10 columns</p>\n</div>"
     },
     "execution_count": 124,
     "metadata": {},
     "output_type": "execute_result"
    }
   ],
   "source": [
    "a='C:/Users/Wiio/PycharmProjects/Makrushin_TOD/TOD_Homework_2/data/'\n",
    "recipes = pd.read_csv(a + 'recipes_sample.csv', parse_dates=['submitted'], header=0)\n",
    "\n",
    "merged = pd.merge(recipes, contributors, left_on='id', right_on='id', how='outer')  \n",
    "merged['contributor_id'].isnull().sum()\n",
    "merged\n"
   ],
   "metadata": {
    "collapsed": false,
    "ExecuteTime": {
     "end_time": "2024-03-04T19:22:05.757381600Z",
     "start_time": "2024-03-04T19:22:05.349384100Z"
    }
   }
  },
  {
   "cell_type": "markdown",
   "metadata": {},
   "source": [
    "### pickle"
   ]
  },
  {
   "cell_type": "markdown",
   "metadata": {},
   "source": [
    "2.1 На основе файла `contributors_sample.json` создайте словарь следующего вида: \n",
    "```\n",
    "{\n",
    "    должность: [список username людей, занимавших эту должность]\n",
    "}\n",
    "```"
   ]
  },
  {
   "cell_type": "code",
   "execution_count": null,
   "outputs": [],
   "source": [
    "\n",
    "jobs = set()\n",
    "employees = {}\n",
    "\n",
    "for i in json_selector(templates, 'jobs'):\n",
    "    for j in i:\n",
    "        jobs.add(j)\n",
    "        \n",
    "jobs = list(jobs)\n",
    "\n",
    "for i in templates:\n",
    "    for j in i['jobs']:\n",
    "        if j in jobs:\n",
    "            employees.setdefault(j, []).append(i['username'])\n",
    "            break\n",
    "\n",
    "employees"
   ],
   "metadata": {
    "collapsed": false,
    "ExecuteTime": {
     "start_time": "2024-03-04T19:10:05.577453500Z"
    }
   }
  },
  {
   "cell_type": "markdown",
   "metadata": {},
   "source": [
    "2.2 Сохраните результаты в файл `job_people.pickle` и в файл `job_people.json` с использованием форматов pickle и JSON соответственно. Сравните объемы получившихся файлов. При сохранении в JSON укажите аргумент `indent`."
   ]
  },
  {
   "cell_type": "code",
   "execution_count": null,
   "outputs": [],
   "source": [
    "with open('job_people.json', 'w') as f:     #118 КБ\n",
    "    json.dump(employees, f, indent=4)\n",
    "    \n",
    "with open('job_people.pickle', 'wb') as f:  #70 КБ\n",
    "    pickle.dump(employees, f)    \n",
    "    "
   ],
   "metadata": {
    "collapsed": false,
    "ExecuteTime": {
     "start_time": "2024-03-04T19:10:05.581462800Z"
    }
   }
  },
  {
   "cell_type": "markdown",
   "metadata": {},
   "source": [
    "2.3 Считайте файл `job_people.pickle` и продемонстрируйте, что данные считались корректно. "
   ]
  },
  {
   "cell_type": "code",
   "execution_count": null,
   "outputs": [],
   "source": [
    "with open('job_people.pickle', 'rb') as f:\n",
    "    data = pickle.load(f)\n",
    "data"
   ],
   "metadata": {
    "collapsed": false,
    "ExecuteTime": {
     "start_time": "2024-03-04T19:10:05.584456900Z"
    }
   }
  },
  {
   "cell_type": "markdown",
   "metadata": {},
   "source": [
    "### XML"
   ]
  },
  {
   "cell_type": "markdown",
   "metadata": {},
   "source": [
    "3.1 По данным файла `steps_sample.xml` сформируйте словарь с шагами по каждому рецепту вида `{id_рецепта: [\"шаг1\", \"шаг2\"]}`. Сохраните этот словарь в файл `steps_sample.json`"
   ]
  },
  {
   "cell_type": "code",
   "execution_count": 125,
   "outputs": [
    {
     "data": {
      "text/plain": "{'44123': ['Шаг 1| in 1 / 4 cup butter , saute carrots , onion , celery and broccoli stems for 5 minutes',\n  'Шаг 2| add thyme , oregano and basil',\n  'Шаг 3| saute 5 minutes more',\n  'Шаг 4| add wine and deglaze pan',\n  'Шаг 5| add hot chicken stock and reduce by one-third',\n  'Шаг 6| add worcestershire sauce , tabasco , smoked chicken , beans and broccoli florets',\n  'Шаг 7| simmer 5 minutes',\n  'Шаг 8| add cream , simmer 5 minutes more and season to taste',\n  'Шаг 9| drop in remaining butter , piece by piece , stirring until melted and serve immediately',\n  'Шаг 10| smoked chicken: on a covered grill , slightly smoke boneless chicken , cooking to medium rare',\n  'Шаг 11| chef meskan uses applewood chips and does not allow the grill to become too hot'],\n '67664': ['Шаг 1| mix all the ingredients using a blender',\n  'Шаг 2| pour into popsicle molds',\n  'Шаг 3| freeze and enjoy !'],\n '38798': ['Шаг 1| combine all ingredients in a large bowl and mix well',\n  'Шаг 2| shape into one-inch balls',\n  'Шаг 3| cover and refrigerate or freeze until ready to bake',\n  'Шаг 4| preheat oven to 350 degrees',\n  'Шаг 5| place on ungreased baking sheet and bake until light brown'],\n '35173': ['Шаг 1| lay out sandwich rolls on jelly roll pans / cookie sheets',\n  'Шаг 2| melt butter , mix in italian dressing mix',\n  'Шаг 3| using a pastry or bbq brush , graciously apply seasoned butter to the top of the\"bottom bun\" and the top of the top bun',\n  \"Шаг 4| don't miss this step , i don't know why , but it does make a difference !\",\n  'Шаг 5| here is where i create an assembly line w / the bottoms of the buns',\n  'Шаг 6| layer each bun w / ham , then swiss cheese , turkey , then cheddar cheese , pepperoni , then mozzerella cheese',\n  'Шаг 7| place\"lids\" on buns and place in 425 degree oven for approximly 12-15 minutes , or until you see the tops start to turn golden brown'],\n '84797': ['Шаг 1| honey mustard sauce: whisk all the ingredients together serve warm or cold',\n  'Шаг 2| easy bbq sauce: combine all ingredients in a pot& cook over low heat until the sugar is dissolved',\n  'Шаг 3| serve warm or cold',\n  'Шаг 4| garlic dill sauce: mix all the ingredients and chill until ready to serve'],\n '44045': ['Шаг 1| combine eggs , flour , baking powder , salt& pepper with the corn',\n  'Шаг 2| mix thoroughly',\n  'Шаг 3| add cream to mixture',\n  'Шаг 4| melt fat in frying pan& drop corn mixture by spoonfuls into the hot fat',\n  'Шаг 5| brown on both sides',\n  'Шаг 6| serve w / syrup'],\n '107229': ['Шаг 1| cook pasta in salted water until al dente',\n  'Шаг 2| drain',\n  'Шаг 3| steam broccoli , set aside',\n  'Шаг 4| whisk next 6 ingredients together in large serving bowl',\n  'Шаг 5| add hot pasta',\n  'Шаг 6| stir in onions , broccoli , and chicken',\n  'Шаг 7| toss in cilantro',\n  'Шаг 8| sprinkle on sesame seeds'],\n '95926': ['Шаг 1| spread a tablespoon on one side of each slice on bread',\n  'Шаг 2| peel and cut the bananas into 1 / 4-inch round slices',\n  'Шаг 3| lay the slices on two of the slices of bread and then top with the other half',\n  'Шаг 4| enjoy !'],\n '453467': ['Шаг 1| pre-heat oven the 350 degrees f',\n  'Шаг 2| in a mixing bowl , sift together the flours and baking powder',\n  'Шаг 3| set aside',\n  'Шаг 4| in another mixing bowl , blend together the sugars , margarine , and salt until light and fluffy',\n  'Шаг 5| add the eggs , water , and vanilla to the margarine / sugar mixture and mix together until well combined',\n  'Шаг 6| add in the flour mixture to the wet ingredients and blend until combined',\n  'Шаг 7| scrape down the sides of the bowl and add the chocolate chips',\n  'Шаг 8| mix until combined',\n  'Шаг 9| scrape down the sides to the bowl again',\n  'Шаг 10| using an ice cream scoop , scoop evenly rounded balls of dough and place of cookie sheet about 1 - 2 inches apart to allow for spreading during baking',\n  'Шаг 11| bake for 10 - 15 minutes or until golden brown on the outside and soft & chewy in the center',\n  'Шаг 12| serve hot and enjoy !'],\n '306168': ['Шаг 1| preheat oven to 350 degrees',\n  'Шаг 2| spray a 2 quart baking dish with cooking spray , set aside',\n  'Шаг 3| in a large bowl mix together broccoli , soup , one cup of cheese , garlic powder , pepper , salt , milk , 1 cup of french onions , and soy sauce',\n  'Шаг 4| pour into baking dish , sprinkle remaining cheese over top',\n  'Шаг 5| bake for 25 minutes or until cheese is lightly browned',\n  'Шаг 6| sprinkle with rest of french fried onions and bake until onions are browned and cheese is bubbly , about 10 more minutes'],\n '50662': ['Шаг 1| coat the meat with 1 / 2 c of flour and the paprika',\n  'Шаг 2| brown in vegetable oil',\n  'Шаг 3| transfer to a casserole dish',\n  'Шаг 4| add can of onions',\n  'Шаг 5| combine one can of the chicken soup and one can water',\n  'Шаг 6| pour over meat and onions',\n  'Шаг 7| bake at 350 for 45 minutes',\n  'Шаг 8| while the meat is baking-- combine 2 c flour , the baking powder , salt , poultry seasoning , celery seed , onion flakes and poppy seeds',\n  'Шаг 9| mix well , and add 1 / 4 c oil and 1 c milk',\n  'Шаг 10| drop tablespoons of dough into breadcrumbs which you have mixed with melted butter',\n  'Шаг 11| put dumplings on top of the meat',\n  'Шаг 12| increase heat to 425 and bake for another 20 minutes',\n  'Шаг 13| make sauce',\n  'Шаг 14| combine one can of cream of chicken soup and sour cream',\n  'Шаг 15| heat sauce and serve over meat and dumplings'],\n '118843': ['Шаг 1| mix all ingredients together just until blended',\n  'Шаг 2| spoon large tbspfuls onto a baking sheet',\n  'Шаг 3| bake at 350 for 10-14 minutes'],\n '69190': ['Шаг 1| cook potatoes , onions , celery , and carrots in water until tender',\n  'Шаг 2| meanwhile , in other pan , put in milk , butter , cream of chicken , cream of celery , and bullion cubes on low heat',\n  'Шаг 3| when potatoes and the vegetables are tender , pour in the milk , butter , the cream of chicken and cream of celery , with the bullion cubes into the pan with the potatoes',\n  'Шаг 4| put on medium heat and stir in potato flakes occasionally',\n  'Шаг 5| enjoy !'],\n '503475': ['Шаг 1| beat the eggs lightly and add the milk',\n  'Шаг 2| combine the flour , sugar and salt',\n  'Шаг 3| stir the flour mixture into the egg mixture , stirring in the cup of cream as you mix',\n  'Шаг 4| fry the apple slices in butter in a skillet',\n  'Шаг 5| preheat oven to 500 degree',\n  'Шаг 6| cover the bottom of an oven-proof baking dish , or heavy skillet , with apples',\n  'Шаг 7| pour the batter over slices and bake in a preheated 500 oven',\n  'Шаг 8| when nearly done , remove from oven and sprinkle here and there with a mixture of sugar and cinnamon to taste',\n  'Шаг 9| place dabs of butter on the pancake and return to oven until browned',\n  'Шаг 10| just before serving , sprinkle with lemon juice , and cut into triangles']}"
     },
     "execution_count": 125,
     "metadata": {},
     "output_type": "execute_result"
    }
   ],
   "source": [
    "with open('C:/Users/Wiio/PycharmProjects/Makrushin_TOD/TOD_Homework_3/data/low_steps.xml') as f:\n",
    "    dom_tree = BeautifulSoup(f, 'xml')\n",
    "\n",
    "ids = {}\n",
    "# dom_tree.recipes.steps.getText('|', strip=True)\n",
    "# d = {dom_tree.recipes.id.text}\n",
    "# a = dom_tree.recipes.find('id')\n",
    "# b = a.next_sibling.next_sibling.getText('|', strip=True)\n",
    "# a.next\n",
    "for id_tag in dom_tree.find_all(\"id\"):\n",
    "    id_text = id_tag.get_text(strip=True)\n",
    "    \n",
    "    steps = []\n",
    "    steps_counter=0\n",
    "    \n",
    "    next_sibling = id_tag.next_sibling.next_sibling\n",
    "\n",
    "    for i in next_sibling:\n",
    "        if i.text == '\\n':\n",
    "            continue\n",
    "        steps_counter+=1\n",
    "        steps.append(f'Шаг {steps_counter}| {i.text}')\n",
    "\n",
    "    \n",
    "    ids[id_text] = steps  \n",
    "    steps_counter=0\n",
    "    ids[id_text] = steps\n",
    "    steps = []\n",
    "\n",
    "ids"
   ],
   "metadata": {
    "collapsed": false,
    "ExecuteTime": {
     "end_time": "2024-03-04T19:23:30.206971300Z",
     "start_time": "2024-03-04T19:23:30.113986100Z"
    }
   }
  },
  {
   "cell_type": "markdown",
   "metadata": {},
   "source": [
    "3.2 По данным файла `steps_sample.xml` сформируйте словарь следующего вида: `кол-во_шагов_в_рецепте: [список_id_рецептов]`"
   ]
  },
  {
   "cell_type": "code",
   "execution_count": null,
   "outputs": [],
   "source": [],
   "metadata": {
    "collapsed": false,
    "ExecuteTime": {
     "start_time": "2024-03-04T19:10:05.592461Z"
    }
   }
  },
  {
   "cell_type": "markdown",
   "metadata": {},
   "source": [
    "3.3 Получите список рецептов, в этапах выполнения которых есть информация о времени (часы или минуты). Для отбора подходящих рецептов обратите внимание на атрибуты соответствующих тэгов."
   ]
  },
  {
   "cell_type": "markdown",
   "metadata": {},
   "source": [
    "3.4 Загрузите данные из файла `recipes_sample.csv` (__ЛР2__) в таблицу `recipes`. Для строк, которые содержат пропуски в столбце `n_steps`, заполните этот столбец на основе файла  `steps_sample.xml`. Строки, в которых столбец `n_steps` заполнен, оставьте без изменений."
   ]
  },
  {
   "cell_type": "markdown",
   "metadata": {},
   "source": [
    "3.5 Проверьте, содержит ли столбец `n_steps` пропуски. Если нет, то преобразуйте его к целочисленному типу и сохраните результаты в файл `recipes_sample_with_filled_nsteps.csv`"
   ]
  },
  {
   "cell_type": "code",
   "execution_count": null,
   "metadata": {
    "ExecuteTime": {
     "start_time": "2024-03-04T19:10:05.603452200Z"
    }
   },
   "outputs": [],
   "source": []
  }
 ],
 "metadata": {
  "kernelspec": {
   "display_name": "Python 3",
   "language": "python",
   "name": "python3"
  },
  "language_info": {
   "codemirror_mode": {
    "name": "ipython",
    "version": 3
   },
   "file_extension": ".py",
   "mimetype": "text/x-python",
   "name": "python",
   "nbconvert_exporter": "python",
   "pygments_lexer": "ipython3",
   "version": "3.7.6"
  }
 },
 "nbformat": 4,
 "nbformat_minor": 4
}
