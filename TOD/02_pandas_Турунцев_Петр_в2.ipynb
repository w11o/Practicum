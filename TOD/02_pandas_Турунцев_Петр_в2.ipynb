{
 "cells": [
  {
   "cell_type": "markdown",
   "metadata": {},
   "source": [
    "# Pandas"
   ]
  },
  {
   "cell_type": "markdown",
   "metadata": {},
   "source": [
    "Материалы:\n",
    "* Макрушин С.В. \"Лекция 2: Библиотека Pandas\"\n",
    "* https://pandas.pydata.org/docs/user_guide/index.html#\n",
    "* https://pandas.pydata.org/docs/reference/index.html\n",
    "* Уэс Маккини. Python и анализ данных"
   ]
  },
  {
   "cell_type": "markdown",
   "metadata": {},
   "source": [
    "## Задачи для совместного разбора"
   ]
  },
  {
   "cell_type": "markdown",
   "metadata": {},
   "source": [
    "1. Загрузите данные из файла `sp500hst.txt` и обозначьте столбцы в соответствии с содержимым: `\"date\", \"ticker\", \"open\", \"high\", \"low\", \"close\", \"volume\"`."
   ]
  },
  {
   "cell_type": "code",
   "execution_count": 326,
   "outputs": [
    {
     "data": {
      "text/plain": "            date ticker   open     high     low  close  volume\n0       20090821      A  25.60  25.6100  25.220  25.55   34758\n1       20090824      A  25.64  25.7400  25.330  25.50   22247\n2       20090825      A  25.50  25.7000  25.225  25.34   30891\n3       20090826      A  25.32  25.6425  25.145  25.48   33334\n4       20090827      A  25.50  25.5700  25.230  25.54   70176\n...          ...    ...    ...      ...     ...    ...     ...\n122569  20100813    ZMH  51.72  51.9000  51.380  51.44   14561\n122570  20100816    ZMH  51.13  51.4700  50.600  51.00   13489\n122571  20100817    ZMH  51.14  51.6000  50.890  51.21   20498\n122572  20100819    ZMH  51.63  51.6300  50.170  50.22   18259\n122573  20100820    ZMH  50.03  50.5500  49.480  49.82   17792\n\n[122574 rows x 7 columns]",
      "text/html": "<div>\n<style scoped>\n    .dataframe tbody tr th:only-of-type {\n        vertical-align: middle;\n    }\n\n    .dataframe tbody tr th {\n        vertical-align: top;\n    }\n\n    .dataframe thead th {\n        text-align: right;\n    }\n</style>\n<table border=\"1\" class=\"dataframe\">\n  <thead>\n    <tr style=\"text-align: right;\">\n      <th></th>\n      <th>date</th>\n      <th>ticker</th>\n      <th>open</th>\n      <th>high</th>\n      <th>low</th>\n      <th>close</th>\n      <th>volume</th>\n    </tr>\n  </thead>\n  <tbody>\n    <tr>\n      <th>0</th>\n      <td>20090821</td>\n      <td>A</td>\n      <td>25.60</td>\n      <td>25.6100</td>\n      <td>25.220</td>\n      <td>25.55</td>\n      <td>34758</td>\n    </tr>\n    <tr>\n      <th>1</th>\n      <td>20090824</td>\n      <td>A</td>\n      <td>25.64</td>\n      <td>25.7400</td>\n      <td>25.330</td>\n      <td>25.50</td>\n      <td>22247</td>\n    </tr>\n    <tr>\n      <th>2</th>\n      <td>20090825</td>\n      <td>A</td>\n      <td>25.50</td>\n      <td>25.7000</td>\n      <td>25.225</td>\n      <td>25.34</td>\n      <td>30891</td>\n    </tr>\n    <tr>\n      <th>3</th>\n      <td>20090826</td>\n      <td>A</td>\n      <td>25.32</td>\n      <td>25.6425</td>\n      <td>25.145</td>\n      <td>25.48</td>\n      <td>33334</td>\n    </tr>\n    <tr>\n      <th>4</th>\n      <td>20090827</td>\n      <td>A</td>\n      <td>25.50</td>\n      <td>25.5700</td>\n      <td>25.230</td>\n      <td>25.54</td>\n      <td>70176</td>\n    </tr>\n    <tr>\n      <th>...</th>\n      <td>...</td>\n      <td>...</td>\n      <td>...</td>\n      <td>...</td>\n      <td>...</td>\n      <td>...</td>\n      <td>...</td>\n    </tr>\n    <tr>\n      <th>122569</th>\n      <td>20100813</td>\n      <td>ZMH</td>\n      <td>51.72</td>\n      <td>51.9000</td>\n      <td>51.380</td>\n      <td>51.44</td>\n      <td>14561</td>\n    </tr>\n    <tr>\n      <th>122570</th>\n      <td>20100816</td>\n      <td>ZMH</td>\n      <td>51.13</td>\n      <td>51.4700</td>\n      <td>50.600</td>\n      <td>51.00</td>\n      <td>13489</td>\n    </tr>\n    <tr>\n      <th>122571</th>\n      <td>20100817</td>\n      <td>ZMH</td>\n      <td>51.14</td>\n      <td>51.6000</td>\n      <td>50.890</td>\n      <td>51.21</td>\n      <td>20498</td>\n    </tr>\n    <tr>\n      <th>122572</th>\n      <td>20100819</td>\n      <td>ZMH</td>\n      <td>51.63</td>\n      <td>51.6300</td>\n      <td>50.170</td>\n      <td>50.22</td>\n      <td>18259</td>\n    </tr>\n    <tr>\n      <th>122573</th>\n      <td>20100820</td>\n      <td>ZMH</td>\n      <td>50.03</td>\n      <td>50.5500</td>\n      <td>49.480</td>\n      <td>49.82</td>\n      <td>17792</td>\n    </tr>\n  </tbody>\n</table>\n<p>122574 rows × 7 columns</p>\n</div>"
     },
     "execution_count": 326,
     "metadata": {},
     "output_type": "execute_result"
    }
   ],
   "source": [
    "import pandas as pd\n",
    "import numpy as np\n",
    "file = pd.read_csv('C:/Users/Wiio/PycharmProjects/Makrushin_TOD/TOD_Homework_2/data/sp500hst.txt',names = [\"date\", \"ticker\", \"open\", \"high\", \"low\", \"close\", \"volume\"], engine='python')\n",
    "file"
   ],
   "metadata": {
    "collapsed": false,
    "ExecuteTime": {
     "end_time": "2024-02-19T20:30:12.748608300Z",
     "start_time": "2024-02-19T20:30:10.298608900Z"
    }
   }
  },
  {
   "cell_type": "code",
   "execution_count": 326,
   "outputs": [],
   "source": [],
   "metadata": {
    "collapsed": false,
    "ExecuteTime": {
     "end_time": "2024-02-19T20:30:12.748608300Z",
     "start_time": "2024-02-19T20:30:11.846607100Z"
    }
   }
  },
  {
   "cell_type": "markdown",
   "metadata": {},
   "source": [
    "2. Рассчитайте среднее значение показателей для каждого из столбцов c номерами 3-6."
   ]
  },
  {
   "cell_type": "code",
   "execution_count": 327,
   "outputs": [
    {
     "data": {
      "text/plain": "[42.59545765904678, 43.102243387667855, 42.05446366521448, 42.60186484817335]"
     },
     "execution_count": 327,
     "metadata": {},
     "output_type": "execute_result"
    }
   ],
   "source": [
    "[np.mean(file[i]) for i in file.loc[:, 'open':'close']]"
   ],
   "metadata": {
    "collapsed": false,
    "ExecuteTime": {
     "end_time": "2024-02-19T20:30:12.748608300Z",
     "start_time": "2024-02-19T20:30:11.861611400Z"
    }
   }
  },
  {
   "cell_type": "markdown",
   "metadata": {},
   "source": [
    "3. Добавьте столбец, содержащий только число месяца, к которому относится дата."
   ]
  },
  {
   "cell_type": "code",
   "execution_count": 328,
   "outputs": [
    {
     "data": {
      "text/plain": "            date month ticker   open     high     low  close  volume\n0       20090821    08      A  25.60  25.6100  25.220  25.55   34758\n1       20090824    08      A  25.64  25.7400  25.330  25.50   22247\n2       20090825    08      A  25.50  25.7000  25.225  25.34   30891\n3       20090826    08      A  25.32  25.6425  25.145  25.48   33334\n4       20090827    08      A  25.50  25.5700  25.230  25.54   70176\n...          ...   ...    ...    ...      ...     ...    ...     ...\n122569  20100813    08    ZMH  51.72  51.9000  51.380  51.44   14561\n122570  20100816    08    ZMH  51.13  51.4700  50.600  51.00   13489\n122571  20100817    08    ZMH  51.14  51.6000  50.890  51.21   20498\n122572  20100819    08    ZMH  51.63  51.6300  50.170  50.22   18259\n122573  20100820    08    ZMH  50.03  50.5500  49.480  49.82   17792\n\n[122574 rows x 8 columns]",
      "text/html": "<div>\n<style scoped>\n    .dataframe tbody tr th:only-of-type {\n        vertical-align: middle;\n    }\n\n    .dataframe tbody tr th {\n        vertical-align: top;\n    }\n\n    .dataframe thead th {\n        text-align: right;\n    }\n</style>\n<table border=\"1\" class=\"dataframe\">\n  <thead>\n    <tr style=\"text-align: right;\">\n      <th></th>\n      <th>date</th>\n      <th>month</th>\n      <th>ticker</th>\n      <th>open</th>\n      <th>high</th>\n      <th>low</th>\n      <th>close</th>\n      <th>volume</th>\n    </tr>\n  </thead>\n  <tbody>\n    <tr>\n      <th>0</th>\n      <td>20090821</td>\n      <td>08</td>\n      <td>A</td>\n      <td>25.60</td>\n      <td>25.6100</td>\n      <td>25.220</td>\n      <td>25.55</td>\n      <td>34758</td>\n    </tr>\n    <tr>\n      <th>1</th>\n      <td>20090824</td>\n      <td>08</td>\n      <td>A</td>\n      <td>25.64</td>\n      <td>25.7400</td>\n      <td>25.330</td>\n      <td>25.50</td>\n      <td>22247</td>\n    </tr>\n    <tr>\n      <th>2</th>\n      <td>20090825</td>\n      <td>08</td>\n      <td>A</td>\n      <td>25.50</td>\n      <td>25.7000</td>\n      <td>25.225</td>\n      <td>25.34</td>\n      <td>30891</td>\n    </tr>\n    <tr>\n      <th>3</th>\n      <td>20090826</td>\n      <td>08</td>\n      <td>A</td>\n      <td>25.32</td>\n      <td>25.6425</td>\n      <td>25.145</td>\n      <td>25.48</td>\n      <td>33334</td>\n    </tr>\n    <tr>\n      <th>4</th>\n      <td>20090827</td>\n      <td>08</td>\n      <td>A</td>\n      <td>25.50</td>\n      <td>25.5700</td>\n      <td>25.230</td>\n      <td>25.54</td>\n      <td>70176</td>\n    </tr>\n    <tr>\n      <th>...</th>\n      <td>...</td>\n      <td>...</td>\n      <td>...</td>\n      <td>...</td>\n      <td>...</td>\n      <td>...</td>\n      <td>...</td>\n      <td>...</td>\n    </tr>\n    <tr>\n      <th>122569</th>\n      <td>20100813</td>\n      <td>08</td>\n      <td>ZMH</td>\n      <td>51.72</td>\n      <td>51.9000</td>\n      <td>51.380</td>\n      <td>51.44</td>\n      <td>14561</td>\n    </tr>\n    <tr>\n      <th>122570</th>\n      <td>20100816</td>\n      <td>08</td>\n      <td>ZMH</td>\n      <td>51.13</td>\n      <td>51.4700</td>\n      <td>50.600</td>\n      <td>51.00</td>\n      <td>13489</td>\n    </tr>\n    <tr>\n      <th>122571</th>\n      <td>20100817</td>\n      <td>08</td>\n      <td>ZMH</td>\n      <td>51.14</td>\n      <td>51.6000</td>\n      <td>50.890</td>\n      <td>51.21</td>\n      <td>20498</td>\n    </tr>\n    <tr>\n      <th>122572</th>\n      <td>20100819</td>\n      <td>08</td>\n      <td>ZMH</td>\n      <td>51.63</td>\n      <td>51.6300</td>\n      <td>50.170</td>\n      <td>50.22</td>\n      <td>18259</td>\n    </tr>\n    <tr>\n      <th>122573</th>\n      <td>20100820</td>\n      <td>08</td>\n      <td>ZMH</td>\n      <td>50.03</td>\n      <td>50.5500</td>\n      <td>49.480</td>\n      <td>49.82</td>\n      <td>17792</td>\n    </tr>\n  </tbody>\n</table>\n<p>122574 rows × 8 columns</p>\n</div>"
     },
     "execution_count": 328,
     "metadata": {},
     "output_type": "execute_result"
    }
   ],
   "source": [
    "file_copy = file\n",
    "month = file_copy['date'].astype(str).str.slice(4, 6)\n",
    "month.name = 'month'\n",
    "file_copy = pd.concat([file_copy, month], axis=1)\n",
    "file_copy = file_copy[['date', 'month', *[i for i in file.keys()[1:]]]]\n",
    "file_copy\n",
    "# pd.merge(file_copy, month)\n",
    "# file_copy"
   ],
   "metadata": {
    "collapsed": false,
    "ExecuteTime": {
     "end_time": "2024-02-19T20:30:12.750607500Z",
     "start_time": "2024-02-19T20:30:11.890609Z"
    }
   }
  },
  {
   "cell_type": "markdown",
   "metadata": {},
   "source": [
    "4. Рассчитайте суммарный объем торгов для одинаковых значений тикеров."
   ]
  },
  {
   "cell_type": "code",
   "execution_count": 329,
   "outputs": [
    {
     "data": {
      "text/plain": "              date       open        high         low       close    volume\nticker                                                                     \nA       4923802646   7407.540   7489.1202   7317.2843   7410.3050   8609336\nAA      4923802646   3206.305   3252.4585   3146.5237   3196.5995  81898998\nAAPL    4843409396  53343.525  53877.0314  52636.6681  53291.2073  52261170\nABC     4923802646   6720.870   6782.4967   6646.1108   6720.1900   9006756\nABT     4923802646  12494.210  12584.5576  12386.0907  12491.6900  18975870\n...            ...        ...         ...         ...         ...       ...\nXTO     4159974364   9240.550   9326.8261   9135.3342   9229.9000  21297931\nYHOO    4883610729   3852.710   3900.2942   3802.0314   3850.8526  56837171\nYUM     4923802646   9176.940   9265.1362   9088.1754   9182.5100  10971538\nZION    4903711534   4805.350   4921.7573   4691.3648   4807.4981  15551119\nZMH     4923802646  13774.140  13915.9962  13633.8349  13780.3000   4938916\n\n[524 rows x 6 columns]",
      "text/html": "<div>\n<style scoped>\n    .dataframe tbody tr th:only-of-type {\n        vertical-align: middle;\n    }\n\n    .dataframe tbody tr th {\n        vertical-align: top;\n    }\n\n    .dataframe thead th {\n        text-align: right;\n    }\n</style>\n<table border=\"1\" class=\"dataframe\">\n  <thead>\n    <tr style=\"text-align: right;\">\n      <th></th>\n      <th>date</th>\n      <th>open</th>\n      <th>high</th>\n      <th>low</th>\n      <th>close</th>\n      <th>volume</th>\n    </tr>\n    <tr>\n      <th>ticker</th>\n      <th></th>\n      <th></th>\n      <th></th>\n      <th></th>\n      <th></th>\n      <th></th>\n    </tr>\n  </thead>\n  <tbody>\n    <tr>\n      <th>A</th>\n      <td>4923802646</td>\n      <td>7407.540</td>\n      <td>7489.1202</td>\n      <td>7317.2843</td>\n      <td>7410.3050</td>\n      <td>8609336</td>\n    </tr>\n    <tr>\n      <th>AA</th>\n      <td>4923802646</td>\n      <td>3206.305</td>\n      <td>3252.4585</td>\n      <td>3146.5237</td>\n      <td>3196.5995</td>\n      <td>81898998</td>\n    </tr>\n    <tr>\n      <th>AAPL</th>\n      <td>4843409396</td>\n      <td>53343.525</td>\n      <td>53877.0314</td>\n      <td>52636.6681</td>\n      <td>53291.2073</td>\n      <td>52261170</td>\n    </tr>\n    <tr>\n      <th>ABC</th>\n      <td>4923802646</td>\n      <td>6720.870</td>\n      <td>6782.4967</td>\n      <td>6646.1108</td>\n      <td>6720.1900</td>\n      <td>9006756</td>\n    </tr>\n    <tr>\n      <th>ABT</th>\n      <td>4923802646</td>\n      <td>12494.210</td>\n      <td>12584.5576</td>\n      <td>12386.0907</td>\n      <td>12491.6900</td>\n      <td>18975870</td>\n    </tr>\n    <tr>\n      <th>...</th>\n      <td>...</td>\n      <td>...</td>\n      <td>...</td>\n      <td>...</td>\n      <td>...</td>\n      <td>...</td>\n    </tr>\n    <tr>\n      <th>XTO</th>\n      <td>4159974364</td>\n      <td>9240.550</td>\n      <td>9326.8261</td>\n      <td>9135.3342</td>\n      <td>9229.9000</td>\n      <td>21297931</td>\n    </tr>\n    <tr>\n      <th>YHOO</th>\n      <td>4883610729</td>\n      <td>3852.710</td>\n      <td>3900.2942</td>\n      <td>3802.0314</td>\n      <td>3850.8526</td>\n      <td>56837171</td>\n    </tr>\n    <tr>\n      <th>YUM</th>\n      <td>4923802646</td>\n      <td>9176.940</td>\n      <td>9265.1362</td>\n      <td>9088.1754</td>\n      <td>9182.5100</td>\n      <td>10971538</td>\n    </tr>\n    <tr>\n      <th>ZION</th>\n      <td>4903711534</td>\n      <td>4805.350</td>\n      <td>4921.7573</td>\n      <td>4691.3648</td>\n      <td>4807.4981</td>\n      <td>15551119</td>\n    </tr>\n    <tr>\n      <th>ZMH</th>\n      <td>4923802646</td>\n      <td>13774.140</td>\n      <td>13915.9962</td>\n      <td>13633.8349</td>\n      <td>13780.3000</td>\n      <td>4938916</td>\n    </tr>\n  </tbody>\n</table>\n<p>524 rows × 6 columns</p>\n</div>"
     },
     "execution_count": 329,
     "metadata": {},
     "output_type": "execute_result"
    }
   ],
   "source": [
    "file.groupby('ticker').sum()"
   ],
   "metadata": {
    "collapsed": false,
    "ExecuteTime": {
     "end_time": "2024-02-19T20:30:12.751608Z",
     "start_time": "2024-02-19T20:30:12.033611500Z"
    }
   }
  },
  {
   "cell_type": "markdown",
   "metadata": {},
   "source": [
    "5. Загрузите данные из файла sp500hst.txt и обозначьте столбцы в соответствии с содержимым: \"date\", \"ticker\", \"open\", \"high\", \"low\", \"close\", \"volume\". Добавьте столбец с расшифровкой названия тикера, используя данные из файла `sp_data2.csv` . В случае нехватки данных об именах тикеров корректно обработать их."
   ]
  },
  {
   "cell_type": "code",
   "execution_count": 330,
   "outputs": [
    {
     "data": {
      "text/plain": "           date           ticker_mean ticker   open     high     low  close  \\\n0      20090821  Agilent Technologies      A  25.60  25.6100  25.220  25.55   \n1      20090824  Agilent Technologies      A  25.64  25.7400  25.330  25.50   \n2      20090825  Agilent Technologies      A  25.50  25.7000  25.225  25.34   \n3      20090826  Agilent Technologies      A  25.32  25.6425  25.145  25.48   \n4      20090827  Agilent Technologies      A  25.50  25.5700  25.230  25.54   \n...         ...                   ...    ...    ...      ...     ...    ...   \n82167  20100813         Zions Bancorp   ZION  20.17  20.4300  19.840  19.89   \n82168  20100816         Zions Bancorp   ZION  19.81  19.9600  19.600  19.95   \n82169  20100817         Zions Bancorp   ZION  20.07  20.4700  19.830  20.31   \n82170  20100819         Zions Bancorp   ZION  19.83  20.0000  19.130  19.35   \n82171  20100820         Zions Bancorp   ZION  19.15  19.2700  18.810  19.14   \n\n       volume  \n0       34758  \n1       22247  \n2       30891  \n3       33334  \n4       70176  \n...       ...  \n82167   25193  \n82168   25914  \n82169   31717  \n82170   45935  \n82171   37225  \n\n[82172 rows x 8 columns]",
      "text/html": "<div>\n<style scoped>\n    .dataframe tbody tr th:only-of-type {\n        vertical-align: middle;\n    }\n\n    .dataframe tbody tr th {\n        vertical-align: top;\n    }\n\n    .dataframe thead th {\n        text-align: right;\n    }\n</style>\n<table border=\"1\" class=\"dataframe\">\n  <thead>\n    <tr style=\"text-align: right;\">\n      <th></th>\n      <th>date</th>\n      <th>ticker_mean</th>\n      <th>ticker</th>\n      <th>open</th>\n      <th>high</th>\n      <th>low</th>\n      <th>close</th>\n      <th>volume</th>\n    </tr>\n  </thead>\n  <tbody>\n    <tr>\n      <th>0</th>\n      <td>20090821</td>\n      <td>Agilent Technologies</td>\n      <td>A</td>\n      <td>25.60</td>\n      <td>25.6100</td>\n      <td>25.220</td>\n      <td>25.55</td>\n      <td>34758</td>\n    </tr>\n    <tr>\n      <th>1</th>\n      <td>20090824</td>\n      <td>Agilent Technologies</td>\n      <td>A</td>\n      <td>25.64</td>\n      <td>25.7400</td>\n      <td>25.330</td>\n      <td>25.50</td>\n      <td>22247</td>\n    </tr>\n    <tr>\n      <th>2</th>\n      <td>20090825</td>\n      <td>Agilent Technologies</td>\n      <td>A</td>\n      <td>25.50</td>\n      <td>25.7000</td>\n      <td>25.225</td>\n      <td>25.34</td>\n      <td>30891</td>\n    </tr>\n    <tr>\n      <th>3</th>\n      <td>20090826</td>\n      <td>Agilent Technologies</td>\n      <td>A</td>\n      <td>25.32</td>\n      <td>25.6425</td>\n      <td>25.145</td>\n      <td>25.48</td>\n      <td>33334</td>\n    </tr>\n    <tr>\n      <th>4</th>\n      <td>20090827</td>\n      <td>Agilent Technologies</td>\n      <td>A</td>\n      <td>25.50</td>\n      <td>25.5700</td>\n      <td>25.230</td>\n      <td>25.54</td>\n      <td>70176</td>\n    </tr>\n    <tr>\n      <th>...</th>\n      <td>...</td>\n      <td>...</td>\n      <td>...</td>\n      <td>...</td>\n      <td>...</td>\n      <td>...</td>\n      <td>...</td>\n      <td>...</td>\n    </tr>\n    <tr>\n      <th>82167</th>\n      <td>20100813</td>\n      <td>Zions Bancorp</td>\n      <td>ZION</td>\n      <td>20.17</td>\n      <td>20.4300</td>\n      <td>19.840</td>\n      <td>19.89</td>\n      <td>25193</td>\n    </tr>\n    <tr>\n      <th>82168</th>\n      <td>20100816</td>\n      <td>Zions Bancorp</td>\n      <td>ZION</td>\n      <td>19.81</td>\n      <td>19.9600</td>\n      <td>19.600</td>\n      <td>19.95</td>\n      <td>25914</td>\n    </tr>\n    <tr>\n      <th>82169</th>\n      <td>20100817</td>\n      <td>Zions Bancorp</td>\n      <td>ZION</td>\n      <td>20.07</td>\n      <td>20.4700</td>\n      <td>19.830</td>\n      <td>20.31</td>\n      <td>31717</td>\n    </tr>\n    <tr>\n      <th>82170</th>\n      <td>20100819</td>\n      <td>Zions Bancorp</td>\n      <td>ZION</td>\n      <td>19.83</td>\n      <td>20.0000</td>\n      <td>19.130</td>\n      <td>19.35</td>\n      <td>45935</td>\n    </tr>\n    <tr>\n      <th>82171</th>\n      <td>20100820</td>\n      <td>Zions Bancorp</td>\n      <td>ZION</td>\n      <td>19.15</td>\n      <td>19.2700</td>\n      <td>18.810</td>\n      <td>19.14</td>\n      <td>37225</td>\n    </tr>\n  </tbody>\n</table>\n<p>82172 rows × 8 columns</p>\n</div>"
     },
     "execution_count": 330,
     "metadata": {},
     "output_type": "execute_result"
    }
   ],
   "source": [
    "file_1 = pd.read_csv('C:/Users/Wiio/PycharmProjects/Makrushin_TOD/TOD_Homework_2/data/sp_data2.csv', sep =';', names = [\"ticker\", \"ticker_mean\", \"3\",], engine='python')\n",
    "\n",
    "cl = file_1.drop('3', axis=1)\n",
    "res = pd.merge(file, cl)\n",
    "\n",
    "res = res[['date','ticker_mean', *[i for i in file.keys()[1:]]]]\n",
    "res"
   ],
   "metadata": {
    "collapsed": false,
    "ExecuteTime": {
     "end_time": "2024-02-19T20:30:12.751608Z",
     "start_time": "2024-02-19T20:30:12.076620300Z"
    }
   }
  },
  {
   "cell_type": "markdown",
   "metadata": {},
   "source": [
    "## Лабораторная работа №2"
   ]
  },
  {
   "cell_type": "markdown",
   "metadata": {},
   "source": [
    "### Базовые операции с `DataFrame`"
   ]
  },
  {
   "cell_type": "markdown",
   "metadata": {},
   "source": [
    "1.1 В файлах `recipes_sample.csv` и `reviews_sample.csv` находится информация об рецептах блюд и отзывах на эти рецепты соответственно. Загрузите данные из файлов в виде `pd.DataFrame` с названиями `recipes` и `reviews`. Обратите внимание на корректное считывание столбца с индексами в таблице `reviews` (безымянный столбец)."
   ]
  },
  {
   "cell_type": "code",
   "execution_count": 331,
   "outputs": [
    {
     "data": {
      "text/plain": "                                               name      id  minutes  \\\n0             george s at the cove  black bean soup   44123       90   \n1                healthy for them  yogurt popsicles   67664       10   \n2                      i can t believe it s spinach   38798       30   \n3                              italian  gut busters   35173       45   \n4          love is in the air  beef fondue   sauces   84797       25   \n...                                             ...     ...      ...   \n29995  zurie s holey rustic olive and cheddar bread  267661       80   \n29996          zwetschgenkuchen  bavarian plum cake  386977      240   \n29997   zwiebelkuchen   southwest german onion cake  103312       75   \n29998                                   zydeco soup  486161       60   \n29999        cookies by design   cookies on a stick  298512       29   \n\n       contributor_id  submitted  n_steps  \\\n0               35193 2002-10-25      NaN   \n1               91970 2003-07-26      NaN   \n2                1533 2002-08-29      NaN   \n3               22724 2002-07-27      NaN   \n4                4470 2004-02-23      4.0   \n...               ...        ...      ...   \n29995          200862 2007-11-25     16.0   \n29996          177443 2009-08-24      NaN   \n29997          161745 2004-11-03      NaN   \n29998          227978 2012-08-29      NaN   \n29999          506822 2008-04-15      9.0   \n\n                                             description  n_ingredients  \n0      an original recipe created by chef scott meska...           18.0  \n1      my children and their friends ask for my homem...            NaN  \n2                these were so go, it surprised even me.            8.0  \n3      my sister-in-law made these for us at a family...            NaN  \n4      i think a fondue is a very romantic casual din...            NaN  \n...                                                  ...            ...  \n29995  this is based on a french recipe but i changed...           10.0  \n29996  this is a traditional fresh plum cake, thought...           11.0  \n29997  this is a traditional late summer early fall s...            NaN  \n29998  this is a delicious soup that i originally fou...            NaN  \n29999  i've heard of the 'cookies by design' company,...           10.0  \n\n[30000 rows x 8 columns]",
      "text/html": "<div>\n<style scoped>\n    .dataframe tbody tr th:only-of-type {\n        vertical-align: middle;\n    }\n\n    .dataframe tbody tr th {\n        vertical-align: top;\n    }\n\n    .dataframe thead th {\n        text-align: right;\n    }\n</style>\n<table border=\"1\" class=\"dataframe\">\n  <thead>\n    <tr style=\"text-align: right;\">\n      <th></th>\n      <th>name</th>\n      <th>id</th>\n      <th>minutes</th>\n      <th>contributor_id</th>\n      <th>submitted</th>\n      <th>n_steps</th>\n      <th>description</th>\n      <th>n_ingredients</th>\n    </tr>\n  </thead>\n  <tbody>\n    <tr>\n      <th>0</th>\n      <td>george s at the cove  black bean soup</td>\n      <td>44123</td>\n      <td>90</td>\n      <td>35193</td>\n      <td>2002-10-25</td>\n      <td>NaN</td>\n      <td>an original recipe created by chef scott meska...</td>\n      <td>18.0</td>\n    </tr>\n    <tr>\n      <th>1</th>\n      <td>healthy for them  yogurt popsicles</td>\n      <td>67664</td>\n      <td>10</td>\n      <td>91970</td>\n      <td>2003-07-26</td>\n      <td>NaN</td>\n      <td>my children and their friends ask for my homem...</td>\n      <td>NaN</td>\n    </tr>\n    <tr>\n      <th>2</th>\n      <td>i can t believe it s spinach</td>\n      <td>38798</td>\n      <td>30</td>\n      <td>1533</td>\n      <td>2002-08-29</td>\n      <td>NaN</td>\n      <td>these were so go, it surprised even me.</td>\n      <td>8.0</td>\n    </tr>\n    <tr>\n      <th>3</th>\n      <td>italian  gut busters</td>\n      <td>35173</td>\n      <td>45</td>\n      <td>22724</td>\n      <td>2002-07-27</td>\n      <td>NaN</td>\n      <td>my sister-in-law made these for us at a family...</td>\n      <td>NaN</td>\n    </tr>\n    <tr>\n      <th>4</th>\n      <td>love is in the air  beef fondue   sauces</td>\n      <td>84797</td>\n      <td>25</td>\n      <td>4470</td>\n      <td>2004-02-23</td>\n      <td>4.0</td>\n      <td>i think a fondue is a very romantic casual din...</td>\n      <td>NaN</td>\n    </tr>\n    <tr>\n      <th>...</th>\n      <td>...</td>\n      <td>...</td>\n      <td>...</td>\n      <td>...</td>\n      <td>...</td>\n      <td>...</td>\n      <td>...</td>\n      <td>...</td>\n    </tr>\n    <tr>\n      <th>29995</th>\n      <td>zurie s holey rustic olive and cheddar bread</td>\n      <td>267661</td>\n      <td>80</td>\n      <td>200862</td>\n      <td>2007-11-25</td>\n      <td>16.0</td>\n      <td>this is based on a french recipe but i changed...</td>\n      <td>10.0</td>\n    </tr>\n    <tr>\n      <th>29996</th>\n      <td>zwetschgenkuchen  bavarian plum cake</td>\n      <td>386977</td>\n      <td>240</td>\n      <td>177443</td>\n      <td>2009-08-24</td>\n      <td>NaN</td>\n      <td>this is a traditional fresh plum cake, thought...</td>\n      <td>11.0</td>\n    </tr>\n    <tr>\n      <th>29997</th>\n      <td>zwiebelkuchen   southwest german onion cake</td>\n      <td>103312</td>\n      <td>75</td>\n      <td>161745</td>\n      <td>2004-11-03</td>\n      <td>NaN</td>\n      <td>this is a traditional late summer early fall s...</td>\n      <td>NaN</td>\n    </tr>\n    <tr>\n      <th>29998</th>\n      <td>zydeco soup</td>\n      <td>486161</td>\n      <td>60</td>\n      <td>227978</td>\n      <td>2012-08-29</td>\n      <td>NaN</td>\n      <td>this is a delicious soup that i originally fou...</td>\n      <td>NaN</td>\n    </tr>\n    <tr>\n      <th>29999</th>\n      <td>cookies by design   cookies on a stick</td>\n      <td>298512</td>\n      <td>29</td>\n      <td>506822</td>\n      <td>2008-04-15</td>\n      <td>9.0</td>\n      <td>i've heard of the 'cookies by design' company,...</td>\n      <td>10.0</td>\n    </tr>\n  </tbody>\n</table>\n<p>30000 rows × 8 columns</p>\n</div>"
     },
     "execution_count": 331,
     "metadata": {},
     "output_type": "execute_result"
    }
   ],
   "source": [
    "a='C:/Users/Wiio/PycharmProjects/Makrushin_TOD/TOD_Homework_2/data/'\n",
    "recipes = pd.read_csv(a + 'recipes_sample.csv', parse_dates=['submitted'], header=0)\n",
    "reviews = pd.read_csv(a + 'reviews_sample.csv', header=0)\n",
    "reviews = reviews.rename(columns={'Unnamed: 0':'review_id'})\n",
    "recipes"
   ],
   "metadata": {
    "collapsed": false,
    "ExecuteTime": {
     "end_time": "2024-02-19T20:30:13.758620Z",
     "start_time": "2024-02-19T20:30:12.170622600Z"
    }
   }
  },
  {
   "cell_type": "markdown",
   "metadata": {},
   "source": [
    "1.2 Для каждой из таблиц выведите основные параметры:\n",
    "* количество точек данных (строк);\n",
    "* количество столбцов;\n",
    "* тип данных каждого столбца."
   ]
  },
  {
   "cell_type": "code",
   "execution_count": 332,
   "outputs": [
    {
     "name": "stdout",
     "output_type": "stream",
     "text": [
      "Recipes 30000 8\n",
      "Reviews 126696 6\n",
      "name                      object\n",
      "id                         int64\n",
      "minutes                    int64\n",
      "contributor_id             int64\n",
      "submitted         datetime64[ns]\n",
      "n_steps                  float64\n",
      "description               object\n",
      "n_ingredients            float64\n",
      "dtype: object\n"
     ]
    },
    {
     "data": {
      "text/plain": "review_id     int64\nuser_id       int64\nrecipe_id     int64\ndate         object\nrating        int64\nreview       object\ndtype: object"
     },
     "execution_count": 332,
     "metadata": {},
     "output_type": "execute_result"
    }
   ],
   "source": [
    "a = [recipes, reviews]\n",
    "b = ['Recipes', 'Reviews']\n",
    "\n",
    "for i in range(len(a)):\n",
    "    print(b[i], end = ' ')\n",
    "    print(len(a[i].index), end = ' ')\n",
    "    print(len(a[i].columns))\n",
    "\n",
    "print(recipes.dtypes)\n",
    "reviews.dtypes"
   ],
   "metadata": {
    "collapsed": false,
    "ExecuteTime": {
     "end_time": "2024-02-19T20:30:13.869609400Z",
     "start_time": "2024-02-19T20:30:13.715608500Z"
    }
   }
  },
  {
   "cell_type": "markdown",
   "metadata": {},
   "source": [
    "1.3 Исследуйте, в каких столбцах таблиц содержатся пропуски. Посчитайте долю строк, содержащих пропуски, в отношении к общему количеству строк."
   ]
  },
  {
   "cell_type": "code",
   "execution_count": 334,
   "outputs": [
    {
     "data": {
      "text/plain": "0.5684666666666667"
     },
     "execution_count": 334,
     "metadata": {},
     "output_type": "execute_result"
    }
   ],
   "source": [
    "# tables = [recipes, reviews, 'recipes', 'reviews']\n",
    "# na_sum=0\n",
    "# for i in range(0, len(tables) - 2):\n",
    "#     for j in tables[i].keys():\n",
    "#         print(f'{tables[i + 2]}| {j}: {tables[i][j].isna().sum()} ')\n",
    "#         na_sum+=tables[i][j].isna().sum()\n",
    "#     print(f'Пропуски в отношении ко всем строкам: {na_sum/len(tables[i].index)}')\n",
    "#     na_sum=0\n",
    "#     print('---------------------', end='')\n",
    "#     print() \n",
    "(len(recipes) - len(recipes.dropna()))/len(recipes)"
   ],
   "metadata": {
    "collapsed": false,
    "ExecuteTime": {
     "end_time": "2024-02-19T20:30:53.864112400Z",
     "start_time": "2024-02-19T20:30:53.746083Z"
    }
   }
  },
  {
   "cell_type": "markdown",
   "metadata": {},
   "source": [
    "1.4 Рассчитайте среднее значение для каждого из числовых столбцов (где это имеет смысл)."
   ]
  },
  {
   "cell_type": "code",
   "execution_count": null,
   "outputs": [],
   "source": [
    "print(recipes['id'].mean(), recipes['minutes'].mean())\n",
    "print(reviews['rating'].mean())"
   ],
   "metadata": {
    "collapsed": false,
    "ExecuteTime": {
     "start_time": "2024-02-19T20:30:13.764611200Z"
    }
   }
  },
  {
   "cell_type": "markdown",
   "metadata": {},
   "source": [
    "1.5 Создайте серию из 10 случайных названий рецептов."
   ]
  },
  {
   "cell_type": "code",
   "execution_count": null,
   "outputs": [],
   "source": [
    "print(pd.Series([recipes.iloc[i][0] for i in np.random.randint(0, 29999, 10)]))"
   ],
   "metadata": {
    "collapsed": false,
    "ExecuteTime": {
     "start_time": "2024-02-19T20:30:13.766612200Z"
    }
   }
  },
  {
   "cell_type": "markdown",
   "metadata": {},
   "source": [
    "1.6 Измените индекс в таблице `reviews`, пронумеровав строки, начиная с нуля."
   ]
  },
  {
   "cell_type": "code",
   "execution_count": null,
   "outputs": [],
   "source": [
    "reviews_copy = reviews.copy()\n",
    "reviews_copy.reset_index().set_index('index')"
   ],
   "metadata": {
    "collapsed": false,
    "ExecuteTime": {
     "start_time": "2024-02-19T20:30:13.772610300Z"
    }
   }
  },
  {
   "cell_type": "markdown",
   "metadata": {},
   "source": [
    "1.7 Выведите информацию о рецептах, время выполнения которых не больше 20 минут и кол-во ингредиентов в которых не больше 5."
   ]
  },
  {
   "cell_type": "code",
   "execution_count": null,
   "outputs": [],
   "source": [
    "recipes[(recipes['minutes'] <= 20) & (recipes['n_ingredients'] <= 5)] "
   ],
   "metadata": {
    "collapsed": false,
    "ExecuteTime": {
     "start_time": "2024-02-19T20:30:13.775621500Z"
    }
   }
  },
  {
   "cell_type": "markdown",
   "metadata": {},
   "source": [
    "### Работа с датами в `pandas`"
   ]
  },
  {
   "cell_type": "markdown",
   "metadata": {},
   "source": [
    "2.1 Преобразуйте столбец `submitted` из таблицы `recipes` в формат времени. Модифицируйте решение задачи 1.1 так, чтобы считать столбец сразу в нужном формате."
   ]
  },
  {
   "cell_type": "code",
   "execution_count": null,
   "outputs": [],
   "source": [
    "recipes['submitted'] = pd.to_datetime(recipes['submitted'])\n",
    "\n",
    "recipes"
   ],
   "metadata": {
    "collapsed": false,
    "ExecuteTime": {
     "start_time": "2024-02-19T20:30:13.786607300Z"
    }
   }
  },
  {
   "cell_type": "markdown",
   "metadata": {},
   "source": [
    "2.2 Выведите информацию о рецептах, добавленных в датасет не позже 2010 года."
   ]
  },
  {
   "cell_type": "code",
   "execution_count": null,
   "outputs": [],
   "source": [
    "recipes[recipes['submitted'].dt.year <= 2010]"
   ],
   "metadata": {
    "collapsed": false,
    "ExecuteTime": {
     "start_time": "2024-02-19T20:30:13.788608500Z"
    }
   }
  },
  {
   "cell_type": "markdown",
   "metadata": {},
   "source": [
    "### Работа со строковыми данными в `pandas`"
   ]
  },
  {
   "cell_type": "markdown",
   "metadata": {},
   "source": [
    "3.1  Добавьте в таблицу `recipes` столбец `description_length`, в котором хранится длина описания рецепта из столбца `description`."
   ]
  },
  {
   "cell_type": "code",
   "execution_count": null,
   "outputs": [],
   "source": [
    "des_len = pd.DataFrame({'description_length': recipes['description'].str.len()})\n",
    "temp = pd.concat([recipes,des_len], axis=1)\n",
    "temp = temp[[*[i for i in temp.keys()[:-3]],'n_ingredients', 'description', 'description_length']]\n",
    "temp"
   ],
   "metadata": {
    "collapsed": false,
    "ExecuteTime": {
     "start_time": "2024-02-19T20:30:13.795608Z"
    }
   }
  },
  {
   "cell_type": "markdown",
   "metadata": {},
   "source": [
    "3.2 Измените название каждого рецепта в таблице `recipes` таким образом, чтобы каждое слово в названии начиналось с прописной буквы."
   ]
  },
  {
   "cell_type": "code",
   "execution_count": null,
   "outputs": [],
   "source": [
    "temp = recipes\n",
    "temp['name'] = temp['name'].transform(lambda x: x.title())\n",
    "temp"
   ],
   "metadata": {
    "collapsed": false,
    "ExecuteTime": {
     "start_time": "2024-02-19T20:30:13.809619Z"
    }
   }
  },
  {
   "cell_type": "markdown",
   "source": [
    "3.3 Добавьте в таблицу `recipes` столбец `name_word_count`, в котором хранится количество слов из названии рецепта (считайте, что слова в названии разделяются только пробелами). Обратите внимание, что между словами может располагаться несколько пробелов подряд."
   ],
   "metadata": {
    "collapsed": false
   }
  },
  {
   "cell_type": "code",
   "execution_count": null,
   "outputs": [],
   "source": [
    "temp = recipes\n",
    "length = pd.DataFrame({'name_word_count':temp['name'].transform(lambda x: len(x.split()))})\n",
    "temp = pd.merge(temp, length,left_index=True, right_index=True)\n",
    "temp[['name', 'name_word_count',*[i for i in temp.keys()[1:-1]]]]"
   ],
   "metadata": {
    "collapsed": false,
    "ExecuteTime": {
     "start_time": "2024-02-19T20:30:13.817610Z"
    }
   }
  },
  {
   "cell_type": "markdown",
   "metadata": {},
   "source": [
    "### Группировки таблиц `pd.DataFrame`"
   ]
  },
  {
   "cell_type": "markdown",
   "metadata": {},
   "source": [
    "4.1 Посчитайте количество рецептов, представленных каждым из участников (`contributor_id`). Какой участник добавил максимальное кол-во рецептов?"
   ]
  },
  {
   "cell_type": "code",
   "execution_count": null,
   "outputs": [],
   "source": [
    "temp = recipes\n",
    "# temp[temp['contributor_id'] == 1533] #проверка\n",
    "temp = temp.groupby('contributor_id')['name'].count()\n",
    "temp \n",
    "#temp['name'].max()| 421 - max"
   ],
   "metadata": {
    "collapsed": false,
    "ExecuteTime": {
     "start_time": "2024-02-19T20:30:13.828608600Z"
    }
   }
  },
  {
   "cell_type": "markdown",
   "metadata": {},
   "source": [
    "4.2 Посчитайте средний рейтинг к каждому из рецептов. Для скольких рецептов отсутствуют отзывы? Обратите внимание, что отзыв с нулевым рейтингом или не заполненным текстовым описанием не считается отсутствующим."
   ]
  },
  {
   "cell_type": "code",
   "execution_count": null,
   "outputs": [],
   "source": [
    "temp = reviews\n",
    "mean_rating = temp.groupby('recipe_id')['rating'].mean().reset_index(name='mean_rating')\n",
    "# x = pd.concat([reviews['recipe_id'], recipes['id']], axis=1)\n",
    "# x['id'] = x['id'].fillna(0).astype(int)\n",
    "# x.sort_index(axis=1, ascending=False)\n",
    "mean_rating"
   ],
   "metadata": {
    "collapsed": false,
    "ExecuteTime": {
     "start_time": "2024-02-19T20:30:13.835608900Z"
    }
   }
  },
  {
   "cell_type": "markdown",
   "metadata": {},
   "source": [
    "4.3 Посчитайте количество рецептов с разбивкой по годам создания."
   ]
  },
  {
   "cell_type": "code",
   "execution_count": null,
   "outputs": [],
   "source": [
    "recipes['year'] = pd.to_datetime(recipes['submitted']).dt.year\n",
    "recipes.groupby('year')['name'].count()"
   ],
   "metadata": {
    "collapsed": false,
    "ExecuteTime": {
     "start_time": "2024-02-19T20:30:13.841609200Z"
    }
   }
  },
  {
   "cell_type": "markdown",
   "metadata": {},
   "source": [
    "### Объединение таблиц `pd.DataFrame`"
   ]
  },
  {
   "cell_type": "markdown",
   "metadata": {},
   "source": [
    "5.1 При помощи объединения таблиц, создайте `DataFrame`, состоящий из четырех столбцов: `id`, `name`, `user_id`, `rating`. Рецепты, на которые не оставлен ни один отзыв, должны отсутствовать в полученной таблице. Подтвердите правильность работы вашего кода, выбрав рецепт, не имеющий отзывов, и попытавшись найти строку, соответствующую этому рецепту, в полученном `DataFrame`."
   ]
  },
  {
   "cell_type": "code",
   "execution_count": null,
   "outputs": [],
   "source": [
    "reviews_notnan = reviews[~reviews['review'].isna()]\n",
    "recipes_notnan = recipes[recipes['id'].isin(reviews_notnan['recipe_id'])]\n",
    "temp = pd.merge(recipes_notnan, reviews_notnan, left_on='id', right_on='recipe_id')\n",
    "temp = temp[['id', 'name', 'user_id', 'rating']]\n",
    "temp\n"
   ],
   "metadata": {
    "collapsed": false,
    "ExecuteTime": {
     "start_time": "2024-02-19T20:30:13.851611100Z"
    }
   }
  },
  {
   "cell_type": "markdown",
   "metadata": {},
   "source": [
    "5.2 При помощи объединения таблиц и группировок, создайте `DataFrame`, состоящий из трех столбцов: `recipe_id`, `name`, `review_count`, где столбец `review_count` содержит кол-во отзывов, оставленных на рецепт `recipe_id`. У рецептов, на которые не оставлен ни один отзыв, в столбце `review_count` должен быть указан 0. Подтвердите правильность работы вашего кода, выбрав рецепт, не имеющий отзывов, и найдя строку, соответствующую этому рецепту, в полученном `DataFrame`."
   ]
  },
  {
   "cell_type": "markdown",
   "metadata": {},
   "source": [
    "5.3. Выясните, рецепты, добавленные в каком году, имеют наименьший средний рейтинг?"
   ]
  },
  {
   "cell_type": "markdown",
   "metadata": {},
   "source": [
    "### Сохранение таблиц `pd.DataFrame`"
   ]
  },
  {
   "cell_type": "markdown",
   "metadata": {},
   "source": [
    "6.1 Отсортируйте таблицу в порядке убывания величины столбца `name_word_count` и сохраните результаты выполнения заданий 3.1-3.3 в csv файл. "
   ]
  },
  {
   "cell_type": "markdown",
   "metadata": {},
   "source": [
    "6.2 Воспользовавшись `pd.ExcelWriter`, cохраните результаты 5.1 и 5.2 в файл: на лист с названием `Рецепты с оценками` сохраните результаты выполнения 5.1; на лист с названием `Количество отзывов по рецептам` сохраните результаты выполнения 5.2."
   ]
  },
  {
   "cell_type": "code",
   "execution_count": null,
   "metadata": {
    "ExecuteTime": {
     "start_time": "2024-02-19T20:30:13.855610200Z"
    }
   },
   "outputs": [],
   "source": []
  },
  {
   "cell_type": "code",
   "execution_count": null,
   "metadata": {
    "ExecuteTime": {
     "start_time": "2024-02-19T20:30:13.860609900Z"
    }
   },
   "outputs": [],
   "source": []
  },
  {
   "cell_type": "markdown",
   "metadata": {},
   "source": [
    "#### [версия 2]\n",
    "* Уточнены формулировки задач 1.1, 3.3, 4.2, 5.1, 5.2, 5.3"
   ]
  },
  {
   "cell_type": "code",
   "execution_count": null,
   "metadata": {
    "ExecuteTime": {
     "start_time": "2024-02-19T20:30:13.864613500Z"
    }
   },
   "outputs": [],
   "source": []
  }
 ],
 "metadata": {
  "kernelspec": {
   "display_name": "Python 3",
   "language": "python",
   "name": "python3"
  },
  "language_info": {
   "codemirror_mode": {
    "name": "ipython",
    "version": 3
   },
   "file_extension": ".py",
   "mimetype": "text/x-python",
   "name": "python",
   "nbconvert_exporter": "python",
   "pygments_lexer": "ipython3",
   "version": "3.7.4"
  }
 },
 "nbformat": 4,
 "nbformat_minor": 4
}
