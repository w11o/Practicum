{
 "cells": [
  {
   "cell_type": "markdown",
   "metadata": {},
   "source": [
    "# Работа с Excel"
   ]
  },
  {
   "cell_type": "markdown",
   "metadata": {},
   "source": [
    "Материалы:\n",
    "* Макрушин С.В. Лекция 7: Работа с Excel\n",
    "* https://docs.xlwings.org/en/stable/quickstart.html\n",
    "* https://nbviewer.jupyter.org/github/pybokeh/jupyter_notebooks/blob/master/xlwings/Excel_Formatting.ipynb#search_text\n"
   ]
  },
  {
   "cell_type": "markdown",
   "metadata": {},
   "source": [
    "## Задачи для совместного разбора"
   ]
  },
  {
   "cell_type": "markdown",
   "metadata": {},
   "source": [
    "1. На листе \"Рецептура\" файла `себестоимостьА_в1.xlsx` для области \"Пшеничный хлеб\" рассчитать себестоимость всех видов продукции."
   ]
  },
  {
   "cell_type": "markdown",
   "metadata": {},
   "source": [
    "2. Результаты расчетов 1.1 сохранить в отдельном столбце области \"Пшеничный хлеб\""
   ]
  },
  {
   "cell_type": "markdown",
   "metadata": {},
   "source": [
    "3. Приблизить форматирование столбца, добавленного в задаче 2 к оформлению всей области."
   ]
  },
  {
   "cell_type": "markdown",
   "metadata": {},
   "source": [
    "4. Выполнить 3 с помощью \"протягиваемых\" формул."
   ]
  },
  {
   "cell_type": "markdown",
   "metadata": {},
   "source": [
    "## Лабораторная работа 7.1"
   ]
  },
  {
   "cell_type": "markdown",
   "metadata": {},
   "source": [
    "1. Загрузите данные из файлов `reviews_sample.csv` (__ЛР2__) и `recipes_sample.csv` (__ЛР5__) в виде `pd.DataFrame`. Обратите внимание на корректное считывание столбца(ов) с индексами. Оставьте в таблице с рецептами следующие столбцы: `id`, `name`, `minutes`, `submitted`, `description`, `n_ingredients`"
   ]
  },
  {
   "cell_type": "code",
   "execution_count": 35,
   "metadata": {},
   "outputs": [
    {
     "data": {
      "text/html": [
       "<div>\n",
       "<style scoped>\n",
       "    .dataframe tbody tr th:only-of-type {\n",
       "        vertical-align: middle;\n",
       "    }\n",
       "\n",
       "    .dataframe tbody tr th {\n",
       "        vertical-align: top;\n",
       "    }\n",
       "\n",
       "    .dataframe thead th {\n",
       "        text-align: right;\n",
       "    }\n",
       "</style>\n",
       "<table border=\"1\" class=\"dataframe\">\n",
       "  <thead>\n",
       "    <tr style=\"text-align: right;\">\n",
       "      <th></th>\n",
       "      <th>name</th>\n",
       "      <th>id</th>\n",
       "      <th>minutes</th>\n",
       "      <th>submitted</th>\n",
       "      <th>description</th>\n",
       "      <th>n_ingredients</th>\n",
       "    </tr>\n",
       "  </thead>\n",
       "  <tbody>\n",
       "    <tr>\n",
       "      <th>0</th>\n",
       "      <td>george s at the cove  black bean soup</td>\n",
       "      <td>44123</td>\n",
       "      <td>90</td>\n",
       "      <td>2002-10-25</td>\n",
       "      <td>an original recipe created by chef scott meska...</td>\n",
       "      <td>18.0</td>\n",
       "    </tr>\n",
       "    <tr>\n",
       "      <th>1</th>\n",
       "      <td>healthy for them  yogurt popsicles</td>\n",
       "      <td>67664</td>\n",
       "      <td>10</td>\n",
       "      <td>2003-07-26</td>\n",
       "      <td>my children and their friends ask for my homem...</td>\n",
       "      <td>NaN</td>\n",
       "    </tr>\n",
       "    <tr>\n",
       "      <th>2</th>\n",
       "      <td>i can t believe it s spinach</td>\n",
       "      <td>38798</td>\n",
       "      <td>30</td>\n",
       "      <td>2002-08-29</td>\n",
       "      <td>these were so go, it surprised even me.</td>\n",
       "      <td>8.0</td>\n",
       "    </tr>\n",
       "    <tr>\n",
       "      <th>3</th>\n",
       "      <td>italian  gut busters</td>\n",
       "      <td>35173</td>\n",
       "      <td>45</td>\n",
       "      <td>2002-07-27</td>\n",
       "      <td>my sister-in-law made these for us at a family...</td>\n",
       "      <td>NaN</td>\n",
       "    </tr>\n",
       "    <tr>\n",
       "      <th>4</th>\n",
       "      <td>love is in the air  beef fondue   sauces</td>\n",
       "      <td>84797</td>\n",
       "      <td>25</td>\n",
       "      <td>2004-02-23</td>\n",
       "      <td>i think a fondue is a very romantic casual din...</td>\n",
       "      <td>NaN</td>\n",
       "    </tr>\n",
       "    <tr>\n",
       "      <th>...</th>\n",
       "      <td>...</td>\n",
       "      <td>...</td>\n",
       "      <td>...</td>\n",
       "      <td>...</td>\n",
       "      <td>...</td>\n",
       "      <td>...</td>\n",
       "    </tr>\n",
       "    <tr>\n",
       "      <th>29995</th>\n",
       "      <td>zurie s holey rustic olive and cheddar bread</td>\n",
       "      <td>267661</td>\n",
       "      <td>80</td>\n",
       "      <td>2007-11-25</td>\n",
       "      <td>this is based on a french recipe but i changed...</td>\n",
       "      <td>10.0</td>\n",
       "    </tr>\n",
       "    <tr>\n",
       "      <th>29996</th>\n",
       "      <td>zwetschgenkuchen  bavarian plum cake</td>\n",
       "      <td>386977</td>\n",
       "      <td>240</td>\n",
       "      <td>2009-08-24</td>\n",
       "      <td>this is a traditional fresh plum cake, thought...</td>\n",
       "      <td>11.0</td>\n",
       "    </tr>\n",
       "    <tr>\n",
       "      <th>29997</th>\n",
       "      <td>zwiebelkuchen   southwest german onion cake</td>\n",
       "      <td>103312</td>\n",
       "      <td>75</td>\n",
       "      <td>2004-11-03</td>\n",
       "      <td>this is a traditional late summer early fall s...</td>\n",
       "      <td>NaN</td>\n",
       "    </tr>\n",
       "    <tr>\n",
       "      <th>29998</th>\n",
       "      <td>zydeco soup</td>\n",
       "      <td>486161</td>\n",
       "      <td>60</td>\n",
       "      <td>2012-08-29</td>\n",
       "      <td>this is a delicious soup that i originally fou...</td>\n",
       "      <td>NaN</td>\n",
       "    </tr>\n",
       "    <tr>\n",
       "      <th>29999</th>\n",
       "      <td>cookies by design   cookies on a stick</td>\n",
       "      <td>298512</td>\n",
       "      <td>29</td>\n",
       "      <td>2008-04-15</td>\n",
       "      <td>i've heard of the 'cookies by design' company,...</td>\n",
       "      <td>10.0</td>\n",
       "    </tr>\n",
       "  </tbody>\n",
       "</table>\n",
       "<p>30000 rows × 6 columns</p>\n",
       "</div>"
      ],
      "text/plain": [
       "                                               name      id  minutes  \\\n",
       "0             george s at the cove  black bean soup   44123       90   \n",
       "1                healthy for them  yogurt popsicles   67664       10   \n",
       "2                      i can t believe it s spinach   38798       30   \n",
       "3                              italian  gut busters   35173       45   \n",
       "4          love is in the air  beef fondue   sauces   84797       25   \n",
       "...                                             ...     ...      ...   \n",
       "29995  zurie s holey rustic olive and cheddar bread  267661       80   \n",
       "29996          zwetschgenkuchen  bavarian plum cake  386977      240   \n",
       "29997   zwiebelkuchen   southwest german onion cake  103312       75   \n",
       "29998                                   zydeco soup  486161       60   \n",
       "29999        cookies by design   cookies on a stick  298512       29   \n",
       "\n",
       "        submitted                                        description  \\\n",
       "0      2002-10-25  an original recipe created by chef scott meska...   \n",
       "1      2003-07-26  my children and their friends ask for my homem...   \n",
       "2      2002-08-29            these were so go, it surprised even me.   \n",
       "3      2002-07-27  my sister-in-law made these for us at a family...   \n",
       "4      2004-02-23  i think a fondue is a very romantic casual din...   \n",
       "...           ...                                                ...   \n",
       "29995  2007-11-25  this is based on a french recipe but i changed...   \n",
       "29996  2009-08-24  this is a traditional fresh plum cake, thought...   \n",
       "29997  2004-11-03  this is a traditional late summer early fall s...   \n",
       "29998  2012-08-29  this is a delicious soup that i originally fou...   \n",
       "29999  2008-04-15  i've heard of the 'cookies by design' company,...   \n",
       "\n",
       "       n_ingredients  \n",
       "0               18.0  \n",
       "1                NaN  \n",
       "2                8.0  \n",
       "3                NaN  \n",
       "4                NaN  \n",
       "...              ...  \n",
       "29995           10.0  \n",
       "29996           11.0  \n",
       "29997            NaN  \n",
       "29998            NaN  \n",
       "29999           10.0  \n",
       "\n",
       "[30000 rows x 6 columns]"
      ]
     },
     "execution_count": 35,
     "metadata": {},
     "output_type": "execute_result"
    }
   ],
   "source": [
    "import pandas as pd\n",
    "import xlwings as xw\n",
    "import numpy as np\n",
    "\n",
    "reviews = pd.read_csv('reviews_sample.csv')\n",
    "recipes = pd.read_csv('recipes_sample.csv')\n",
    "\n",
    "recipes = recipes.drop(['contributor_id', 'n_steps'], axis=1)\n",
    "recipes"
   ]
  },
  {
   "cell_type": "markdown",
   "metadata": {},
   "source": [
    "2. Случайным образом выберите 5% строк из каждой таблицы и сохраните две таблицы на разные листы в один файл `recipes.xlsx`. Дайте листам названия \"Рецепты\" и \"Отзывы\", соответствующие содержанию таблиц. "
   ]
  },
  {
   "cell_type": "code",
   "execution_count": 62,
   "metadata": {},
   "outputs": [],
   "source": [
    "# print(df.loc['b'])\n",
    "# print(df.iloc[1])\n",
    "\n",
    "rev_data = reviews.iloc[np.random.randint(0, reviews.shape[0], int(reviews.shape[0] * 0.05))] #срезы\n",
    "rec_data = recipes.iloc[np.random.randint(0, recipes.shape[0], int(recipes.shape[0] * 0.05))]\n",
    "\n",
    "xlrec = xw.Book('recipes.xlsx')\n",
    "sheet_rec = xlrec.sheets.add(name=\"Рецепты\", after=wb.sheets[0].name)\n",
    "sheet_rev = xlrec.sheets.add(name=\"Отзывы\", after=wb.sheets[0].name) #создание листов\n"
   ]
  },
  {
   "cell_type": "code",
   "execution_count": 63,
   "metadata": {},
   "outputs": [],
   "source": [
    "sheet_rec.range('A1').value = rec_data #добавление датафреймов на листы\n",
    "sheet_rev.range('A1').value = rev_data "
   ]
  },
  {
   "cell_type": "markdown",
   "metadata": {},
   "source": [
    "3. Используя `xlwings`, добавьте на лист `Рецепты` столбец `seconds_assign`, показывающий время выполнения рецепта в секундах. Выполните задание при помощи присваивания массива значений диапазону ячеек."
   ]
  },
  {
   "cell_type": "code",
   "execution_count": 102,
   "metadata": {},
   "outputs": [],
   "source": [
    "sheet_rec.range('H1').value = 'seconds_assign'\n",
    "minutes = sheet_rec.range('D2').options(np.array, expand='down').value #собрали массив\n",
    "sheet_rec.range('H2').options(transpose=True).value = minutes*60 #добавили в пустую ячейку"
   ]
  },
  {
   "cell_type": "markdown",
   "metadata": {},
   "source": [
    "4. Используя `xlwings`, добавьте на лист `Рецепты` столбец `seconds_formula`, показывающий время выполнения рецепта в секундах. Выполните задание при помощи формул Excel."
   ]
  },
  {
   "cell_type": "code",
   "execution_count": 109,
   "metadata": {},
   "outputs": [],
   "source": [
    "sheet_rec.range('I1').value = 'seconds_formula' #называем столбец\n",
    "\n",
    "fml = sheet_rec.range('I2').formula = f'=D2 * 60' # пишем формулу\n",
    "sheet_rec.range(\"I2\").expand('down').formula = fml # протягиваем формулу"
   ]
  },
  {
   "cell_type": "markdown",
   "metadata": {},
   "source": [
    "5. Сделайте названия всех добавленных столбцов полужирными и выровняйте по центру ячейки."
   ]
  },
  {
   "cell_type": "code",
   "execution_count": 125,
   "metadata": {},
   "outputs": [],
   "source": [
    "sheet_rec.range('H1', 'I1').options(expand='right').autofit() #автоматически подгоняем ширину ячейки\n",
    "sheet_rec.range('H1', 'I1').font.bold = True #делаем полужирным\n",
    "sheet_rec.range('H:H').api.HorizontalAlignment = -4108 #выравниваем по центру (-4108 соответствует центрированию)\n",
    "sheet_rec.range('I:I').api.HorizontalAlignment = -4108"
   ]
  },
  {
   "cell_type": "markdown",
   "metadata": {},
   "source": [
    "6. Раскрасьте ячейки столбца `minutes` в соответствии со следующим правилом: если рецепт выполняется быстрее 5 минут, то цвет - зеленый; от 5 до 10 минут - жёлтый; и больше 10 - красный."
   ]
  },
  {
   "cell_type": "code",
   "execution_count": 141,
   "metadata": {},
   "outputs": [],
   "source": [
    "for i, j in enumerate(sheet_rec.range('D2').expand('down').options(ndim=1).value): #цикл по списку минут\n",
    "    \n",
    "    if j < 5:\n",
    "        sheet_rec.range('D' + str(i + 2)).color = (0, 255, 0) #красим клетку в нужный цвет\n",
    "\n",
    "    if 5 <= j <= 10:\n",
    "        sheet_rec.range('D' + str(i + 2)).color = (255, 255, 0)\n",
    "\n",
    "    if j > 5:\n",
    "        sheet_rec.range('D' + str(i + 2)).color = (255, 0, 0)"
   ]
  },
  {
   "cell_type": "markdown",
   "metadata": {},
   "source": [
    "7. Добавьте на лист `Рецепты`  столбец `n_reviews`, содержащий кол-во отзывов для этого рецепта. Выполните задание при помощи формул Excel."
   ]
  },
  {
   "cell_type": "code",
   "execution_count": 163,
   "metadata": {},
   "outputs": [],
   "source": [
    "sheet_rec.range('J1').value = 'n_reviews' #называем столбец\n",
    "\n",
    "recps = sheet_rec.range('C2').expand('down').options(ndim=1).value\n",
    "rng_name = sheet_rev.range('D2').expand('down').address\n",
    "\n",
    "c=1\n",
    "for i in recps:\n",
    "    c+=1\n",
    "    sheet_rec.range('J2' + str(c)).value = sheet_rev.formula = f'=COUNTIF(C:C, {i})'\n",
    "    "
   ]
  },
  {
   "cell_type": "markdown",
   "metadata": {},
   "source": [
    "## Лабораторная работа 7.2"
   ]
  },
  {
   "cell_type": "markdown",
   "metadata": {},
   "source": [
    "8. Напишите функцию `validate()`, которая проверяет соответствие всех строк из листа `Отзывы` следующим правилам:\n",
    "    * Рейтинг - это число от 0 до 5 включительно\n",
    "    * Соответствующий рецепт имеется на листе `Рецепты`\n",
    "    \n",
    "В случае несоответствия этим правилам, выделите строку красным цветом"
   ]
  },
  {
   "cell_type": "markdown",
   "metadata": {},
   "source": [
    "9. В файле `recipes_model.csv` находится модель данных предметной области \"рецепты\". При помощи пакета `csv` считайте эти данные. При помощи пакета `xlwings` запишите данные на лист `Модель` книги `recipes_model.xlsx`, начиная с ячейки `A2`, не используя циклы. Сделайте скриншот текущего состояния листа и прикрепите в ячейку ноутбука. "
   ]
  },
  {
   "cell_type": "markdown",
   "metadata": {},
   "source": [
    "10. При помощи пакета `xlwings` добавьте в столбец J формулу для описания столбца на языке SQL. Формула должна реализовывать следующую логику:\n",
    "\n",
    "    1\\. в начале строки идут значения из столбцов В и C (значение столбца С приведено к верхнему регистру), разделенные пробелом\n",
    "    \n",
    "    2\\. далее идут слова на основе столбца \"Ключ\"\n",
    "        2.1 если в столбце \"Ключ\" указано значение \"PK\", то дальше через пробел идет ключевое слово \"PRIMARY KEY\"\n",
    "        2.2 если в столбце \"Ключ\" указано значение \"FK\", то дальше через пробел идет ключевое слово \"REFERENCES\", затем значения столбцов H и I в формате \"название_таблицы(название_столбца)\"\n",
    "        \n",
    "    3\\. если в столбце \"Обязательно к заполнению\" указано значение \"Y\" и в столбце \"Ключ\" указано не \"PK\", то дальше через пробел идет ключевое слово \"NOT NULL\".\n",
    "\n",
    "Заполните этой формулой необходимое количество строк, используя \"протягивание\". Количество строк для протягивания определите на основе данных.\n",
    "\n",
    "Сделайте скриншот текущего состояния листа и прикрепите в ячейку ноутбука."
   ]
  },
  {
   "cell_type": "markdown",
   "metadata": {},
   "source": [
    "11. При помощи пакета `xlwings` измените стилизацию листа `Модель`.\n",
    "* для заголовков добавьте заливку цвета `00ccff`\n",
    "* примените автоподбор ширины столбца;\n",
    "* сделайте шрифт заголовков полужирным;\n",
    "* добавьте таблице автофильтр.\n",
    "\n",
    "Сделайте скриншот текущего состояния листа и прикрепите в ячейку ноутбука."
   ]
  },
  {
   "cell_type": "markdown",
   "metadata": {},
   "source": [
    "12. Посчитайте количество атрибутов для каждой из сущностей. Создайте лист `Статистика` и запишите в него результат группировки, начиная с ячейки \"А1\". Визуализируйте полученный результат при помощи столбчатой диаграммы. Сохраните полученную визуализацию на лист `Статистика`, начиная с ячейки \"E2\".  Сделайте скриншот листа `Статистика` и прикрепите в ячейку ноутбука.\n",
    "\n",
    "* Вы можете воспользоваться методами для визуализации, которые поставляются вместе с объектами `pandas` (см. https://pandas.pydata.org/docs/reference/api/pandas.DataFrame.plot) "
   ]
  }
 ],
 "metadata": {
  "kernelspec": {
   "display_name": "Python 3 (ipykernel)",
   "language": "python",
   "name": "python3"
  },
  "language_info": {
   "codemirror_mode": {
    "name": "ipython",
    "version": 3
   },
   "file_extension": ".py",
   "mimetype": "text/x-python",
   "name": "python",
   "nbconvert_exporter": "python",
   "pygments_lexer": "ipython3",
   "version": "3.9.6"
  }
 },
 "nbformat": 4,
 "nbformat_minor": 4
}
